{
 "cells": [
  {
   "cell_type": "code",
   "execution_count": 1,
   "metadata": {
    "collapsed": true
   },
   "outputs": [],
   "source": [
    "# importing libraries\n",
    "\n",
    "import numpy as np\n",
    "import pandas as pd\n",
    "import matplotlib.pyplot as plt \n",
    "import seaborn as sns\n",
    "% matplotlib inline\n",
    "\n",
    "pd.options.display.max_seq_items = 500\n",
    "pd.set_option('max_rows', 500)\n",
    "pd.set_option('max_columns', 500)"
   ]
  },
  {
   "cell_type": "code",
   "execution_count": 2,
   "metadata": {
    "collapsed": true
   },
   "outputs": [],
   "source": [
    "# importing data\n",
    "wine = pd.read_csv('winemag-data_first150k.csv')"
   ]
  },
  {
   "cell_type": "code",
   "execution_count": 3,
   "metadata": {
    "collapsed": true
   },
   "outputs": [],
   "source": [
    "def counter(dframe):\n",
    "    counting = 0\n",
    "    #print(dframe.isnull())\n",
    "    for i in dframe.isnull():\n",
    "        if i == True:\n",
    "            counting += 1\n",
    "    return counting"
   ]
  },
  {
   "cell_type": "code",
   "execution_count": 4,
   "metadata": {},
   "outputs": [
    {
     "name": "stdout",
     "output_type": "stream",
     "text": [
      "<class 'pandas.core.frame.DataFrame'>\n",
      "RangeIndex: 150930 entries, 0 to 150929\n",
      "Data columns (total 10 columns):\n",
      "country        150925 non-null object\n",
      "description    150930 non-null object\n",
      "designation    105195 non-null object\n",
      "points         150930 non-null int64\n",
      "price          137235 non-null float64\n",
      "province       150925 non-null object\n",
      "region_1       125870 non-null object\n",
      "region_2       60953 non-null object\n",
      "variety        150930 non-null object\n",
      "winery         150930 non-null object\n",
      "dtypes: float64(1), int64(1), object(8)\n",
      "memory usage: 11.5+ MB\n"
     ]
    }
   ],
   "source": [
    "# displying data structure\n",
    "wine.info()"
   ]
  },
  {
   "cell_type": "code",
   "execution_count": 5,
   "metadata": {},
   "outputs": [
    {
     "data": {
      "text/html": [
       "<div>\n",
       "<table border=\"1\" class=\"dataframe\">\n",
       "  <thead>\n",
       "    <tr style=\"text-align: right;\">\n",
       "      <th></th>\n",
       "      <th>country</th>\n",
       "      <th>description</th>\n",
       "      <th>designation</th>\n",
       "      <th>points</th>\n",
       "      <th>price</th>\n",
       "      <th>province</th>\n",
       "      <th>region_1</th>\n",
       "      <th>region_2</th>\n",
       "      <th>variety</th>\n",
       "      <th>winery</th>\n",
       "    </tr>\n",
       "  </thead>\n",
       "  <tbody>\n",
       "    <tr>\n",
       "      <th>0</th>\n",
       "      <td>US</td>\n",
       "      <td>This tremendous 100% varietal wine hails from ...</td>\n",
       "      <td>Martha's Vineyard</td>\n",
       "      <td>96</td>\n",
       "      <td>235.0</td>\n",
       "      <td>California</td>\n",
       "      <td>Napa Valley</td>\n",
       "      <td>Napa</td>\n",
       "      <td>Cabernet Sauvignon</td>\n",
       "      <td>Heitz</td>\n",
       "    </tr>\n",
       "    <tr>\n",
       "      <th>1</th>\n",
       "      <td>Spain</td>\n",
       "      <td>Ripe aromas of fig, blackberry and cassis are ...</td>\n",
       "      <td>Carodorum Selección Especial Reserva</td>\n",
       "      <td>96</td>\n",
       "      <td>110.0</td>\n",
       "      <td>Northern Spain</td>\n",
       "      <td>Toro</td>\n",
       "      <td>NaN</td>\n",
       "      <td>Tinta de Toro</td>\n",
       "      <td>Bodega Carmen Rodríguez</td>\n",
       "    </tr>\n",
       "  </tbody>\n",
       "</table>\n",
       "</div>"
      ],
      "text/plain": [
       "  country                                        description  \\\n",
       "0      US  This tremendous 100% varietal wine hails from ...   \n",
       "1   Spain  Ripe aromas of fig, blackberry and cassis are ...   \n",
       "\n",
       "                            designation  points  price        province  \\\n",
       "0                     Martha's Vineyard      96  235.0      California   \n",
       "1  Carodorum Selección Especial Reserva      96  110.0  Northern Spain   \n",
       "\n",
       "      region_1 region_2             variety                   winery  \n",
       "0  Napa Valley     Napa  Cabernet Sauvignon                    Heitz  \n",
       "1         Toro      NaN       Tinta de Toro  Bodega Carmen Rodríguez  "
      ]
     },
     "execution_count": 5,
     "metadata": {},
     "output_type": "execute_result"
    }
   ],
   "source": [
    "wine.head(2)"
   ]
  },
  {
   "cell_type": "code",
   "execution_count": 6,
   "metadata": {},
   "outputs": [
    {
     "name": "stderr",
     "output_type": "stream",
     "text": [
      "/Users/julien/anaconda/lib/python3.6/site-packages/numpy/lib/function_base.py:4116: RuntimeWarning: Invalid value encountered in percentile\n",
      "  interpolation=interpolation)\n"
     ]
    },
    {
     "data": {
      "text/html": [
       "<div>\n",
       "<table border=\"1\" class=\"dataframe\">\n",
       "  <thead>\n",
       "    <tr style=\"text-align: right;\">\n",
       "      <th></th>\n",
       "      <th>points</th>\n",
       "      <th>price</th>\n",
       "    </tr>\n",
       "  </thead>\n",
       "  <tbody>\n",
       "    <tr>\n",
       "      <th>count</th>\n",
       "      <td>150930.000000</td>\n",
       "      <td>137235.000000</td>\n",
       "    </tr>\n",
       "    <tr>\n",
       "      <th>mean</th>\n",
       "      <td>87.888418</td>\n",
       "      <td>33.131482</td>\n",
       "    </tr>\n",
       "    <tr>\n",
       "      <th>std</th>\n",
       "      <td>3.222392</td>\n",
       "      <td>36.322536</td>\n",
       "    </tr>\n",
       "    <tr>\n",
       "      <th>min</th>\n",
       "      <td>80.000000</td>\n",
       "      <td>4.000000</td>\n",
       "    </tr>\n",
       "    <tr>\n",
       "      <th>25%</th>\n",
       "      <td>86.000000</td>\n",
       "      <td>NaN</td>\n",
       "    </tr>\n",
       "    <tr>\n",
       "      <th>50%</th>\n",
       "      <td>88.000000</td>\n",
       "      <td>NaN</td>\n",
       "    </tr>\n",
       "    <tr>\n",
       "      <th>75%</th>\n",
       "      <td>90.000000</td>\n",
       "      <td>NaN</td>\n",
       "    </tr>\n",
       "    <tr>\n",
       "      <th>max</th>\n",
       "      <td>100.000000</td>\n",
       "      <td>2300.000000</td>\n",
       "    </tr>\n",
       "  </tbody>\n",
       "</table>\n",
       "</div>"
      ],
      "text/plain": [
       "              points          price\n",
       "count  150930.000000  137235.000000\n",
       "mean       87.888418      33.131482\n",
       "std         3.222392      36.322536\n",
       "min        80.000000       4.000000\n",
       "25%        86.000000            NaN\n",
       "50%        88.000000            NaN\n",
       "75%        90.000000            NaN\n",
       "max       100.000000    2300.000000"
      ]
     },
     "execution_count": 6,
     "metadata": {},
     "output_type": "execute_result"
    }
   ],
   "source": [
    "wine.describe()"
   ]
  },
  {
   "cell_type": "code",
   "execution_count": 7,
   "metadata": {},
   "outputs": [
    {
     "data": {
      "text/plain": [
       "0"
      ]
     },
     "execution_count": 7,
     "metadata": {},
     "output_type": "execute_result"
    }
   ],
   "source": [
    "wine = wine.dropna(subset=['price'])\n",
    "counter(wine['price'])"
   ]
  },
  {
   "cell_type": "code",
   "execution_count": 8,
   "metadata": {
    "collapsed": true
   },
   "outputs": [],
   "source": [
    "wine['points_bins'] = pd.qcut(wine['points'], q=5, \n",
    "                              labels=['very low','low', 'medium', 'high', 'very high'])"
   ]
  },
  {
   "cell_type": "code",
   "execution_count": 9,
   "metadata": {},
   "outputs": [
    {
     "name": "stdout",
     "output_type": "stream",
     "text": [
      "136368\n"
     ]
    }
   ],
   "source": [
    "wine_price_cap = wine[wine.price < 200] \n",
    "print(len(wine_price_cap))"
   ]
  },
  {
   "cell_type": "code",
   "execution_count": 10,
   "metadata": {},
   "outputs": [
    {
     "data": {
      "text/plain": [
       "<matplotlib.axes._subplots.AxesSubplot at 0x11a161a90>"
      ]
     },
     "execution_count": 10,
     "metadata": {},
     "output_type": "execute_result"
    },
    {
     "data": {
      "image/png": "[encoded data removed]",
      "text/plain": [
       "<matplotlib.figure.Figure at 0x11a161470>"
      ]
     },
     "metadata": {},
     "output_type": "display_data"
    }
   ],
   "source": [
    "sns.boxplot(x=['points'], data=wine, showfliers=False)"
   ]
  },
  {
   "cell_type": "code",
   "execution_count": 11,
   "metadata": {},
   "outputs": [
    {
     "data": {
      "text/plain": [
       "<matplotlib.axes._subplots.AxesSubplot at 0x11107c470>"
      ]
     },
     "execution_count": 11,
     "metadata": {},
     "output_type": "execute_result"
    },
    {
     "data": {
      "image/png": "[encoded data removed]",
      "text/plain": [
       "<matplotlib.figure.Figure at 0x111083fd0>"
      ]
     },
     "metadata": {},
     "output_type": "display_data"
    }
   ],
   "source": [
    "sns.boxplot(x=['price'], data=wine, showfliers=False)"
   ]
  },
  {
   "cell_type": "code",
   "execution_count": 12,
   "metadata": {
    "scrolled": true
   },
   "outputs": [
    {
     "data": {
      "text/plain": [
       "<matplotlib.collections.PathCollection at 0x11447c198>"
      ]
     },
     "execution_count": 12,
     "metadata": {},
     "output_type": "execute_result"
    },
    {
     "data": {
      "image/png": "[encoded data removed]",
      "text/plain": [
       "<matplotlib.figure.Figure at 0x11379e748>"
      ]
     },
     "metadata": {},
     "output_type": "display_data"
    }
   ],
   "source": [
    "plt.scatter(x=wine['points'],y=wine['price'])"
   ]
  },
  {
   "cell_type": "code",
   "execution_count": 13,
   "metadata": {
    "scrolled": true
   },
   "outputs": [
    {
     "data": {
      "image/png": "[encoded data removed]",
      "text/plain": [
       "<matplotlib.figure.Figure at 0x1087fd160>"
      ]
     },
     "metadata": {},
     "output_type": "display_data"
    }
   ],
   "source": [
    "sns.boxplot(x='points_bins',y='price', data=wine_price_cap, showfliers=False)\n",
    "sns.plt.show()"
   ]
  },
  {
   "cell_type": "code",
   "execution_count": 14,
   "metadata": {},
   "outputs": [
    {
     "data": {
      "text/html": [
       "<div>\n",
       "<table border=\"1\" class=\"dataframe\">\n",
       "  <thead>\n",
       "    <tr style=\"text-align: right;\">\n",
       "      <th></th>\n",
       "      <th>points</th>\n",
       "      <th>price</th>\n",
       "    </tr>\n",
       "  </thead>\n",
       "  <tbody>\n",
       "    <tr>\n",
       "      <th>count</th>\n",
       "      <td>136368.000000</td>\n",
       "      <td>136368.000000</td>\n",
       "    </tr>\n",
       "    <tr>\n",
       "      <th>mean</th>\n",
       "      <td>87.746018</td>\n",
       "      <td>31.272755</td>\n",
       "    </tr>\n",
       "    <tr>\n",
       "      <th>std</th>\n",
       "      <td>3.181218</td>\n",
       "      <td>23.660380</td>\n",
       "    </tr>\n",
       "    <tr>\n",
       "      <th>min</th>\n",
       "      <td>80.000000</td>\n",
       "      <td>4.000000</td>\n",
       "    </tr>\n",
       "    <tr>\n",
       "      <th>25%</th>\n",
       "      <td>86.000000</td>\n",
       "      <td>16.000000</td>\n",
       "    </tr>\n",
       "    <tr>\n",
       "      <th>50%</th>\n",
       "      <td>88.000000</td>\n",
       "      <td>24.000000</td>\n",
       "    </tr>\n",
       "    <tr>\n",
       "      <th>75%</th>\n",
       "      <td>90.000000</td>\n",
       "      <td>40.000000</td>\n",
       "    </tr>\n",
       "    <tr>\n",
       "      <th>max</th>\n",
       "      <td>100.000000</td>\n",
       "      <td>199.000000</td>\n",
       "    </tr>\n",
       "  </tbody>\n",
       "</table>\n",
       "</div>"
      ],
      "text/plain": [
       "              points          price\n",
       "count  136368.000000  136368.000000\n",
       "mean       87.746018      31.272755\n",
       "std         3.181218      23.660380\n",
       "min        80.000000       4.000000\n",
       "25%        86.000000      16.000000\n",
       "50%        88.000000      24.000000\n",
       "75%        90.000000      40.000000\n",
       "max       100.000000     199.000000"
      ]
     },
     "execution_count": 14,
     "metadata": {},
     "output_type": "execute_result"
    }
   ],
   "source": [
    "wine_price_cap.describe()"
   ]
  },
  {
   "cell_type": "code",
   "execution_count": 15,
   "metadata": {},
   "outputs": [
    {
     "data": {
      "text/html": [
       "<div>\n",
       "<table border=\"1\" class=\"dataframe\">\n",
       "  <thead>\n",
       "    <tr style=\"text-align: right;\">\n",
       "      <th></th>\n",
       "      <th>country</th>\n",
       "      <th>description</th>\n",
       "      <th>designation</th>\n",
       "      <th>points</th>\n",
       "      <th>price</th>\n",
       "      <th>province</th>\n",
       "      <th>region_1</th>\n",
       "      <th>region_2</th>\n",
       "      <th>variety</th>\n",
       "      <th>winery</th>\n",
       "      <th>points_bins</th>\n",
       "    </tr>\n",
       "  </thead>\n",
       "  <tbody>\n",
       "    <tr>\n",
       "      <th>1</th>\n",
       "      <td>Spain</td>\n",
       "      <td>Ripe aromas of fig, blackberry and cassis are ...</td>\n",
       "      <td>Carodorum Selección Especial Reserva</td>\n",
       "      <td>96</td>\n",
       "      <td>110.0</td>\n",
       "      <td>Northern Spain</td>\n",
       "      <td>Toro</td>\n",
       "      <td>NaN</td>\n",
       "      <td>Tinta de Toro</td>\n",
       "      <td>Bodega Carmen Rodríguez</td>\n",
       "      <td>very high</td>\n",
       "    </tr>\n",
       "    <tr>\n",
       "      <th>2</th>\n",
       "      <td>US</td>\n",
       "      <td>Mac Watson honors the memory of a wine once ma...</td>\n",
       "      <td>Special Selected Late Harvest</td>\n",
       "      <td>96</td>\n",
       "      <td>90.0</td>\n",
       "      <td>California</td>\n",
       "      <td>Knights Valley</td>\n",
       "      <td>Sonoma</td>\n",
       "      <td>Sauvignon Blanc</td>\n",
       "      <td>Macauley</td>\n",
       "      <td>very high</td>\n",
       "    </tr>\n",
       "  </tbody>\n",
       "</table>\n",
       "</div>"
      ],
      "text/plain": [
       "  country                                        description  \\\n",
       "1   Spain  Ripe aromas of fig, blackberry and cassis are ...   \n",
       "2      US  Mac Watson honors the memory of a wine once ma...   \n",
       "\n",
       "                            designation  points  price        province  \\\n",
       "1  Carodorum Selección Especial Reserva      96  110.0  Northern Spain   \n",
       "2         Special Selected Late Harvest      96   90.0      California   \n",
       "\n",
       "         region_1 region_2          variety                   winery  \\\n",
       "1            Toro      NaN    Tinta de Toro  Bodega Carmen Rodríguez   \n",
       "2  Knights Valley   Sonoma  Sauvignon Blanc                 Macauley   \n",
       "\n",
       "  points_bins  \n",
       "1   very high  \n",
       "2   very high  "
      ]
     },
     "execution_count": 15,
     "metadata": {},
     "output_type": "execute_result"
    }
   ],
   "source": [
    "wine_price_cap.head(2)"
   ]
  },
  {
   "cell_type": "code",
   "execution_count": 16,
   "metadata": {},
   "outputs": [
    {
     "data": {
      "text/plain": [
       "867"
      ]
     },
     "execution_count": 16,
     "metadata": {},
     "output_type": "execute_result"
    }
   ],
   "source": [
    "len(wine) - len(wine_price_cap)"
   ]
  },
  {
   "cell_type": "code",
   "execution_count": 17,
   "metadata": {},
   "outputs": [
    {
     "data": {
      "text/plain": [
       "<matplotlib.axes._subplots.AxesSubplot at 0x116a79e80>"
      ]
     },
     "execution_count": 17,
     "metadata": {},
     "output_type": "execute_result"
    },
    {
     "data": {
      "image/png": "[encoded data removed]",
      "text/plain": [
       "<matplotlib.figure.Figure at 0x116a79208>"
      ]
     },
     "metadata": {},
     "output_type": "display_data"
    }
   ],
   "source": [
    "# plot distribution of intended target variable:\n",
    "wine_price_cap['points'].hist(bins=20, figsize=(6,4))"
   ]
  },
  {
   "cell_type": "code",
   "execution_count": 18,
   "metadata": {},
   "outputs": [
    {
     "data": {
      "text/plain": [
       "<matplotlib.axes._subplots.AxesSubplot at 0x116ee7b38>"
      ]
     },
     "execution_count": 18,
     "metadata": {},
     "output_type": "execute_result"
    },
    {
     "data": {
      "image/png": "[encoded data removed]",
      "text/plain": [
       "<matplotlib.figure.Figure at 0x117702128>"
      ]
     },
     "metadata": {},
     "output_type": "display_data"
    }
   ],
   "source": [
    "wine_price_cap['price'].hist(bins=50, figsize=(6,4))"
   ]
  },
  {
   "cell_type": "code",
   "execution_count": 19,
   "metadata": {
    "scrolled": true
   },
   "outputs": [
    {
     "name": "stdout",
     "output_type": "stream",
     "text": [
      "46\n",
      "88532\n",
      "28175\n",
      "446\n",
      "1184\n",
      "18\n",
      "619\n",
      "13826\n"
     ]
    }
   ],
   "source": [
    "print(len(wine_price_cap.country.value_counts()))\n",
    "print(len(wine_price_cap.description.value_counts()))\n",
    "print(len(wine_price_cap.designation.value_counts()))\n",
    "print(len(wine_price_cap.province.value_counts()))\n",
    "print(len(wine_price_cap.region_1.value_counts()))\n",
    "print(len(wine_price_cap.region_2.value_counts()))\n",
    "print(len(wine_price_cap.variety.value_counts()))\n",
    "print(len(wine_price_cap.winery.value_counts()))"
   ]
  },
  {
   "cell_type": "code",
   "execution_count": 20,
   "metadata": {
    "collapsed": true
   },
   "outputs": [],
   "source": [
    "wine_grouped = wine.groupby(['country'])"
   ]
  },
  {
   "cell_type": "code",
   "execution_count": 21,
   "metadata": {},
   "outputs": [
    {
     "data": {
      "text/plain": [
       "US              62021\n",
       "Italy           18641\n",
       "France          14375\n",
       "Spain            8102\n",
       "Chile            5753\n",
       "Argentina        5580\n",
       "Australia        4855\n",
       "Portugal         4156\n",
       "New Zealand      3070\n",
       "Austria          2480\n",
       "Germany          2294\n",
       "South Africa     2237\n",
       "Greece            872\n",
       "Israel            610\n",
       "Hungary           228\n",
       "Name: country, dtype: int64"
      ]
     },
     "execution_count": 21,
     "metadata": {},
     "output_type": "execute_result"
    }
   ],
   "source": [
    "wine_price_cap.country.value_counts()[:15]"
   ]
  },
  {
   "cell_type": "code",
   "execution_count": 22,
   "metadata": {},
   "outputs": [
    {
     "data": {
      "text/html": [
       "<div>\n",
       "<table border=\"1\" class=\"dataframe\">\n",
       "  <thead>\n",
       "    <tr style=\"text-align: right;\">\n",
       "      <th></th>\n",
       "      <th>country</th>\n",
       "      <th>description</th>\n",
       "      <th>designation</th>\n",
       "      <th>points</th>\n",
       "      <th>price</th>\n",
       "      <th>province</th>\n",
       "      <th>region_1</th>\n",
       "      <th>region_2</th>\n",
       "      <th>variety</th>\n",
       "      <th>winery</th>\n",
       "      <th>points_bins</th>\n",
       "    </tr>\n",
       "  </thead>\n",
       "  <tbody>\n",
       "    <tr>\n",
       "      <th>1</th>\n",
       "      <td>Spain</td>\n",
       "      <td>Ripe aromas of fig, blackberry and cassis are ...</td>\n",
       "      <td>Carodorum Selección Especial Reserva</td>\n",
       "      <td>96</td>\n",
       "      <td>110.0</td>\n",
       "      <td>Northern Spain</td>\n",
       "      <td>Toro</td>\n",
       "      <td>NaN</td>\n",
       "      <td>Tinta de Toro</td>\n",
       "      <td>Bodega Carmen Rodríguez</td>\n",
       "      <td>very high</td>\n",
       "    </tr>\n",
       "    <tr>\n",
       "      <th>2</th>\n",
       "      <td>US</td>\n",
       "      <td>Mac Watson honors the memory of a wine once ma...</td>\n",
       "      <td>Special Selected Late Harvest</td>\n",
       "      <td>96</td>\n",
       "      <td>90.0</td>\n",
       "      <td>California</td>\n",
       "      <td>Knights Valley</td>\n",
       "      <td>Sonoma</td>\n",
       "      <td>Sauvignon Blanc</td>\n",
       "      <td>Macauley</td>\n",
       "      <td>very high</td>\n",
       "    </tr>\n",
       "  </tbody>\n",
       "</table>\n",
       "</div>"
      ],
      "text/plain": [
       "  country                                        description  \\\n",
       "1   Spain  Ripe aromas of fig, blackberry and cassis are ...   \n",
       "2      US  Mac Watson honors the memory of a wine once ma...   \n",
       "\n",
       "                            designation  points  price        province  \\\n",
       "1  Carodorum Selección Especial Reserva      96  110.0  Northern Spain   \n",
       "2         Special Selected Late Harvest      96   90.0      California   \n",
       "\n",
       "         region_1 region_2          variety                   winery  \\\n",
       "1            Toro      NaN    Tinta de Toro  Bodega Carmen Rodríguez   \n",
       "2  Knights Valley   Sonoma  Sauvignon Blanc                 Macauley   \n",
       "\n",
       "  points_bins  \n",
       "1   very high  \n",
       "2   very high  "
      ]
     },
     "execution_count": 22,
     "metadata": {},
     "output_type": "execute_result"
    }
   ],
   "source": [
    "wine_country_cap = wine_price_cap[\n",
    "    wine_price_cap.country.isin(wine_price_cap.country.value_counts()[:12].index)]\n",
    "wine_country_cap.head(2)"
   ]
  },
  {
   "cell_type": "code",
   "execution_count": 23,
   "metadata": {},
   "outputs": [
    {
     "data": {
      "image/png": "[encoded data removed]",
      "text/plain": [
       "<matplotlib.figure.Figure at 0x117694c50>"
      ]
     },
     "metadata": {},
     "output_type": "display_data"
    }
   ],
   "source": [
    "sns.boxplot(x='points',y='country', data=wine_country_cap, orient='h', showfliers=False)\n",
    "sns.plt.show()"
   ]
  },
  {
   "cell_type": "code",
   "execution_count": 24,
   "metadata": {},
   "outputs": [
    {
     "data": {
      "image/png": "[encoded data removed]",
      "text/plain": [
       "<matplotlib.figure.Figure at 0x116e79fd0>"
      ]
     },
     "metadata": {},
     "output_type": "display_data"
    }
   ],
   "source": [
    "sns.boxplot(x='price',y='country', data=wine_country_cap, orient='h',showfliers=False)\n",
    "sns.plt.show()"
   ]
  },
  {
   "cell_type": "markdown",
   "metadata": {},
   "source": [
    "## Step 2: Decision Trees - Regression"
   ]
  },
  {
   "cell_type": "code",
   "execution_count": 25,
   "metadata": {
    "collapsed": true
   },
   "outputs": [],
   "source": [
    "# import Sklean modules\n",
    "from sklearn.model_selection import train_test_split\n",
    "from sklearn import tree\n",
    "from sklearn.tree import DecisionTreeRegressor\n",
    "from sklearn.metrics import mean_squared_error, mean_absolute_error"
   ]
  },
  {
   "cell_type": "code",
   "execution_count": 26,
   "metadata": {
    "collapsed": true
   },
   "outputs": [],
   "source": [
    "def DT_validation_n_leafs(inputs, X_test, X_train, y_train, y_test):\n",
    "    '''\n",
    "    function to analyse different parameters for the Dicision Tree Regression\n",
    "    outputs a matrix with various validation metrics\n",
    "    '''\n",
    "     \n",
    "    mae_train = []\n",
    "    mae_test = []\n",
    "    mse_train = []\n",
    "    mse_test = []\n",
    "    rsq_train = []\n",
    "    rsq_test = []\n",
    "    \n",
    "    for i in inputs:\n",
    "        model = DecisionTreeRegressor(min_samples_leaf=i)\n",
    "        model.fit(X_train, y_train)\n",
    "        y_pred = model.predict(X_test)\n",
    "        \n",
    "        y_training_pred = model.predict(X_train)\n",
    "        \n",
    "        mae_train.append(mean_absolute_error(y_training_pred, y_train))\n",
    "        mae_test.append(mean_absolute_error(y_pred, y_test))\n",
    "        mse_train.append(mean_squared_error(y_training_pred, y_train))\n",
    "        mse_test.append(mean_squared_error(y_pred, y_test))\n",
    "        rsq_train.append(model.score(X_train, y_train))\n",
    "        rsq_test.append(model.score(X_test, y_test))\n",
    "        \n",
    "        \n",
    "    test_matrix = pd.DataFrame(\n",
    "        {'MAE over training set': mae_train,\n",
    "        'MAE over test set': mae_test,\n",
    "        'MSE over training set': mse_train,\n",
    "        'MSE over test set': mse_test,\n",
    "        'R^2 over training set': rsq_train,\n",
    "        'R^2 over test set': rsq_test},index=inputs)\n",
    "    \n",
    "    return test_matrix"
   ]
  },
  {
   "cell_type": "code",
   "execution_count": 27,
   "metadata": {
    "collapsed": true
   },
   "outputs": [],
   "source": [
    "# points = target\n",
    "# features = [price, country]"
   ]
  },
  {
   "cell_type": "code",
   "execution_count": 28,
   "metadata": {},
   "outputs": [
    {
     "data": {
      "text/html": [
       "<div>\n",
       "<table border=\"1\" class=\"dataframe\">\n",
       "  <thead>\n",
       "    <tr style=\"text-align: right;\">\n",
       "      <th></th>\n",
       "      <th>country</th>\n",
       "      <th>description</th>\n",
       "      <th>designation</th>\n",
       "      <th>points</th>\n",
       "      <th>price</th>\n",
       "      <th>province</th>\n",
       "      <th>region_1</th>\n",
       "      <th>region_2</th>\n",
       "      <th>variety</th>\n",
       "      <th>winery</th>\n",
       "      <th>points_bins</th>\n",
       "    </tr>\n",
       "  </thead>\n",
       "  <tbody>\n",
       "    <tr>\n",
       "      <th>1</th>\n",
       "      <td>Spain</td>\n",
       "      <td>Ripe aromas of fig, blackberry and cassis are ...</td>\n",
       "      <td>Carodorum Selección Especial Reserva</td>\n",
       "      <td>96</td>\n",
       "      <td>110.0</td>\n",
       "      <td>Northern Spain</td>\n",
       "      <td>Toro</td>\n",
       "      <td>NaN</td>\n",
       "      <td>Tinta de Toro</td>\n",
       "      <td>Bodega Carmen Rodríguez</td>\n",
       "      <td>very high</td>\n",
       "    </tr>\n",
       "  </tbody>\n",
       "</table>\n",
       "</div>"
      ],
      "text/plain": [
       "  country                                        description  \\\n",
       "1   Spain  Ripe aromas of fig, blackberry and cassis are ...   \n",
       "\n",
       "                            designation  points  price        province  \\\n",
       "1  Carodorum Selección Especial Reserva      96  110.0  Northern Spain   \n",
       "\n",
       "  region_1 region_2        variety                   winery points_bins  \n",
       "1     Toro      NaN  Tinta de Toro  Bodega Carmen Rodríguez   very high  "
      ]
     },
     "execution_count": 28,
     "metadata": {},
     "output_type": "execute_result"
    }
   ],
   "source": [
    "wine_country_cap.head(1)"
   ]
  },
  {
   "cell_type": "code",
   "execution_count": 29,
   "metadata": {},
   "outputs": [
    {
     "data": {
      "text/html": [
       "<div>\n",
       "<table border=\"1\" class=\"dataframe\">\n",
       "  <thead>\n",
       "    <tr style=\"text-align: right;\">\n",
       "      <th></th>\n",
       "      <th>country</th>\n",
       "      <th>description</th>\n",
       "      <th>designation</th>\n",
       "      <th>points</th>\n",
       "      <th>price</th>\n",
       "      <th>province</th>\n",
       "      <th>region_1</th>\n",
       "      <th>region_2</th>\n",
       "      <th>variety</th>\n",
       "      <th>winery</th>\n",
       "      <th>points_bins</th>\n",
       "      <th>Argentina</th>\n",
       "      <th>Australia</th>\n",
       "      <th>Austria</th>\n",
       "      <th>Chile</th>\n",
       "      <th>France</th>\n",
       "      <th>Germany</th>\n",
       "      <th>Italy</th>\n",
       "      <th>New Zealand</th>\n",
       "      <th>Portugal</th>\n",
       "      <th>South Africa</th>\n",
       "      <th>Spain</th>\n",
       "      <th>US</th>\n",
       "    </tr>\n",
       "  </thead>\n",
       "  <tbody>\n",
       "    <tr>\n",
       "      <th>1</th>\n",
       "      <td>Spain</td>\n",
       "      <td>Ripe aromas of fig, blackberry and cassis are ...</td>\n",
       "      <td>Carodorum Selección Especial Reserva</td>\n",
       "      <td>96</td>\n",
       "      <td>110.0</td>\n",
       "      <td>Northern Spain</td>\n",
       "      <td>Toro</td>\n",
       "      <td>NaN</td>\n",
       "      <td>Tinta de Toro</td>\n",
       "      <td>Bodega Carmen Rodríguez</td>\n",
       "      <td>very high</td>\n",
       "      <td>0.0</td>\n",
       "      <td>0.0</td>\n",
       "      <td>0.0</td>\n",
       "      <td>0.0</td>\n",
       "      <td>0.0</td>\n",
       "      <td>0.0</td>\n",
       "      <td>0.0</td>\n",
       "      <td>0.0</td>\n",
       "      <td>0.0</td>\n",
       "      <td>0.0</td>\n",
       "      <td>1.0</td>\n",
       "      <td>0.0</td>\n",
       "    </tr>\n",
       "  </tbody>\n",
       "</table>\n",
       "</div>"
      ],
      "text/plain": [
       "  country                                        description  \\\n",
       "1   Spain  Ripe aromas of fig, blackberry and cassis are ...   \n",
       "\n",
       "                            designation  points  price        province  \\\n",
       "1  Carodorum Selección Especial Reserva      96  110.0  Northern Spain   \n",
       "\n",
       "  region_1 region_2        variety                   winery points_bins  \\\n",
       "1     Toro      NaN  Tinta de Toro  Bodega Carmen Rodríguez   very high   \n",
       "\n",
       "   Argentina  Australia  Austria  Chile  France  Germany  Italy  New Zealand  \\\n",
       "1        0.0        0.0      0.0    0.0     0.0      0.0    0.0          0.0   \n",
       "\n",
       "   Portugal  South Africa  Spain   US  \n",
       "1       0.0           0.0    1.0  0.0  "
      ]
     },
     "execution_count": 29,
     "metadata": {},
     "output_type": "execute_result"
    }
   ],
   "source": [
    "# convert country column into dummy varables\n",
    "wine_country_dummy = pd.get_dummies(wine_country_cap['country'])\n",
    "wine_country_cap_dummy = pd.concat([wine_country_cap, wine_country_dummy], axis=1)\n",
    "wine_country_cap_dummy.head(1)"
   ]
  },
  {
   "cell_type": "code",
   "execution_count": 30,
   "metadata": {
    "collapsed": true
   },
   "outputs": [],
   "source": [
    "X = wine_country_cap_dummy[['price','Argentina','Australia','Austria','Chile',\n",
    "                            'France','Germany','Italy','New Zealand','Portugal',\n",
    "                            'South Africa','Spain','US']]\n",
    "X = np.array(X)\n",
    "y = wine_country_cap_dummy['points']\n",
    "y = np.array(y)"
   ]
  },
  {
   "cell_type": "code",
   "execution_count": 31,
   "metadata": {
    "collapsed": true
   },
   "outputs": [],
   "source": [
    "# create train and test sets for ML\n",
    "X_train, X_test, y_train, y_test = train_test_split(X, y, test_size=0.15)"
   ]
  },
  {
   "cell_type": "code",
   "execution_count": 32,
   "metadata": {
    "collapsed": true
   },
   "outputs": [],
   "source": [
    "# create the validation set\n",
    "X_train2, X_validation, y_train2, y_validation = train_test_split(X_train, y_train, test_size=0.2)"
   ]
  },
  {
   "cell_type": "code",
   "execution_count": 33,
   "metadata": {},
   "outputs": [
    {
     "name": "stdout",
     "output_type": "stream",
     "text": [
      "size of original trainnig set:                 (113529, 13)\n",
      "size of new (after vali. split) trainnig set:  (90823, 13)\n"
     ]
    }
   ],
   "source": [
    "# new training set is smaller:\n",
    "print('size of original trainnig set:                ', X_train.shape)\n",
    "print('size of new (after vali. split) trainnig set: ', X_train2.shape)"
   ]
  },
  {
   "cell_type": "code",
   "execution_count": 34,
   "metadata": {},
   "outputs": [
    {
     "data": {
      "text/html": [
       "<div>\n",
       "<table border=\"1\" class=\"dataframe\">\n",
       "  <thead>\n",
       "    <tr style=\"text-align: right;\">\n",
       "      <th></th>\n",
       "      <th>MAE over test set</th>\n",
       "      <th>MAE over training set</th>\n",
       "      <th>MSE over test set</th>\n",
       "      <th>MSE over training set</th>\n",
       "      <th>R^2 over test set</th>\n",
       "      <th>R^2 over training set</th>\n",
       "    </tr>\n",
       "  </thead>\n",
       "  <tbody>\n",
       "    <tr>\n",
       "      <th>1</th>\n",
       "      <td>1.975282</td>\n",
       "      <td>1.957745</td>\n",
       "      <td>6.232999</td>\n",
       "      <td>6.140677</td>\n",
       "      <td>0.386476</td>\n",
       "      <td>0.396688</td>\n",
       "    </tr>\n",
       "    <tr>\n",
       "      <th>5</th>\n",
       "      <td>1.976178</td>\n",
       "      <td>1.965853</td>\n",
       "      <td>6.223130</td>\n",
       "      <td>6.166969</td>\n",
       "      <td>0.387447</td>\n",
       "      <td>0.394105</td>\n",
       "    </tr>\n",
       "    <tr>\n",
       "      <th>10</th>\n",
       "      <td>1.977150</td>\n",
       "      <td>1.969598</td>\n",
       "      <td>6.226168</td>\n",
       "      <td>6.186918</td>\n",
       "      <td>0.387148</td>\n",
       "      <td>0.392145</td>\n",
       "    </tr>\n",
       "    <tr>\n",
       "      <th>50</th>\n",
       "      <td>1.980238</td>\n",
       "      <td>1.974938</td>\n",
       "      <td>6.246316</td>\n",
       "      <td>6.225246</td>\n",
       "      <td>0.385165</td>\n",
       "      <td>0.388379</td>\n",
       "    </tr>\n",
       "    <tr>\n",
       "      <th>100</th>\n",
       "      <td>1.980871</td>\n",
       "      <td>1.979549</td>\n",
       "      <td>6.245921</td>\n",
       "      <td>6.247379</td>\n",
       "      <td>0.385204</td>\n",
       "      <td>0.386205</td>\n",
       "    </tr>\n",
       "    <tr>\n",
       "      <th>1000</th>\n",
       "      <td>1.994407</td>\n",
       "      <td>1.999987</td>\n",
       "      <td>6.353404</td>\n",
       "      <td>6.395351</td>\n",
       "      <td>0.374624</td>\n",
       "      <td>0.371667</td>\n",
       "    </tr>\n",
       "  </tbody>\n",
       "</table>\n",
       "</div>"
      ],
      "text/plain": [
       "      MAE over test set  MAE over training set  MSE over test set  \\\n",
       "1              1.975282               1.957745           6.232999   \n",
       "5              1.976178               1.965853           6.223130   \n",
       "10             1.977150               1.969598           6.226168   \n",
       "50             1.980238               1.974938           6.246316   \n",
       "100            1.980871               1.979549           6.245921   \n",
       "1000           1.994407               1.999987           6.353404   \n",
       "\n",
       "      MSE over training set  R^2 over test set  R^2 over training set  \n",
       "1                  6.140677           0.386476               0.396688  \n",
       "5                  6.166969           0.387447               0.394105  \n",
       "10                 6.186918           0.387148               0.392145  \n",
       "50                 6.225246           0.385165               0.388379  \n",
       "100                6.247379           0.385204               0.386205  \n",
       "1000               6.395351           0.374624               0.371667  "
      ]
     },
     "execution_count": 34,
     "metadata": {},
     "output_type": "execute_result"
    }
   ],
   "source": [
    "DT_validation_n_leafs([1,5,10,50,100,1000], X_train=X_train2,X_test=X_validation,\n",
    "                      y_train=y_train2,y_test=y_validation)"
   ]
  },
  {
   "cell_type": "code",
   "execution_count": 35,
   "metadata": {
    "collapsed": true
   },
   "outputs": [],
   "source": [
    "# build model - fit - predict optimal model based on DT_validation output\n",
    "model = DecisionTreeRegressor(min_samples_leaf=10)\n",
    "model.fit(X_train, y_train)\n",
    "y_pred = model.predict(X_test)"
   ]
  },
  {
   "cell_type": "code",
   "execution_count": 36,
   "metadata": {},
   "outputs": [
    {
     "name": "stdout",
     "output_type": "stream",
     "text": [
      "MAE over training set: 1.96758188168\n",
      "MAE over test set:     1.97679448803\n",
      "----------------------------\n",
      "MSE over training set: 6.17769887707\n",
      "MSE over test set:     6.24442108278\n",
      "----------------------------\n",
      "R^2 over training set: 0.39282985361\n",
      "R^2 over test set:     0.37497970861\n"
     ]
    }
   ],
   "source": [
    "# MAE evaluation\n",
    "y_training_pred = model.predict(X_train)\n",
    "print('MAE over training set:', mean_absolute_error(y_training_pred, y_train))\n",
    "print('MAE over test set:    ', mean_absolute_error(y_pred, y_test))\n",
    "print('----------------------------')\n",
    "# MSE evaluation\n",
    "print('MSE over training set:', mean_squared_error(y_training_pred, y_train))\n",
    "print('MSE over test set:    ', mean_squared_error(y_pred, y_test))\n",
    "print('----------------------------')\n",
    "# R squared evaluation\n",
    "print('R^2 over training set:', model.score(X_train, y_train))\n",
    "print('R^2 over test set:    ', model.score(X_test, y_test))"
   ]
  },
  {
   "cell_type": "code",
   "execution_count": 37,
   "metadata": {},
   "outputs": [
    {
     "data": {
      "text/plain": [
       "<matplotlib.text.Text at 0x116fd1898>"
      ]
     },
     "execution_count": 37,
     "metadata": {},
     "output_type": "execute_result"
    },
    {
     "data": {
      "image/png": "[encoded data removed]",
      "text/plain": [
       "<matplotlib.figure.Figure at 0x11dac77b8>"
      ]
     },
     "metadata": {},
     "output_type": "display_data"
    }
   ],
   "source": [
    "plt.scatter(y_test, y_pred, marker='.')\n",
    "plt.xlabel('y_test')\n",
    "plt.ylabel('y_pred')"
   ]
  },
  {
   "cell_type": "code",
   "execution_count": 38,
   "metadata": {},
   "outputs": [
    {
     "data": {
      "text/plain": [
       "[(0.00079475743317436931, 'South Africa'),\n",
       " (0.0010192746365155652, 'Germany'),\n",
       " (0.001127126893478498, 'New Zealand'),\n",
       " (0.0011747631647827882, 'Australia'),\n",
       " (0.0014823984472474192, 'France'),\n",
       " (0.0020216692739818999, 'Chile'),\n",
       " (0.0027470893315704862, 'Italy'),\n",
       " (0.0040456803918126269, 'Austria'),\n",
       " (0.0052286289096339115, 'Argentina'),\n",
       " (0.0059945702894898152, 'Spain'),\n",
       " (0.010474544289920592, 'Portugal'),\n",
       " (0.02202741727926686, 'US'),\n",
       " (0.94186207965912516, 'price')]"
      ]
     },
     "execution_count": 38,
     "metadata": {},
     "output_type": "execute_result"
    }
   ],
   "source": [
    "# Top 10 features (words that influence the review points)\n",
    "sorted(zip(model.feature_importances_, ['price','Argentina','Australia','Austria','Chile',\n",
    "                                        'France','Germany','Italy','New Zealand','Portugal',\n",
    "                                        'South Africa','Spain','US']))"
   ]
  },
  {
   "cell_type": "markdown",
   "metadata": {},
   "source": [
    "### DT Regession without the feature 'price'"
   ]
  },
  {
   "cell_type": "code",
   "execution_count": 39,
   "metadata": {
    "collapsed": true
   },
   "outputs": [],
   "source": [
    "X = wine_country_cap_dummy[['Argentina','Australia','Austria','Chile',\n",
    "                            'France','Germany','Italy','New Zealand',\n",
    "                            'Portugal','South Africa','Spain','US']]\n",
    "X = np.array(X)\n",
    "y = wine_country_cap_dummy['points']\n",
    "y = np.array(y)"
   ]
  },
  {
   "cell_type": "code",
   "execution_count": 40,
   "metadata": {
    "collapsed": true
   },
   "outputs": [],
   "source": [
    "# create different sets for ML\n",
    "X_train, X_test, y_train, y_test = train_test_split(X, y, test_size=0.15)"
   ]
  },
  {
   "cell_type": "code",
   "execution_count": 41,
   "metadata": {
    "collapsed": true
   },
   "outputs": [],
   "source": [
    "# create the validation set\n",
    "X_train2, X_validation, y_train2, y_validation = train_test_split(X_train, y_train, test_size=0.2)"
   ]
  },
  {
   "cell_type": "code",
   "execution_count": 42,
   "metadata": {},
   "outputs": [
    {
     "name": "stdout",
     "output_type": "stream",
     "text": [
      "size of original trainnig set:                 (113529, 12)\n",
      "size of new (after vali. split) trainnig set:  (90823, 12)\n"
     ]
    }
   ],
   "source": [
    "# new training set is smaller:\n",
    "print('size of original trainnig set:                ', X_train.shape)\n",
    "print('size of new (after vali. split) trainnig set: ', X_train2.shape)"
   ]
  },
  {
   "cell_type": "code",
   "execution_count": 43,
   "metadata": {},
   "outputs": [
    {
     "data": {
      "text/html": [
       "<div>\n",
       "<table border=\"1\" class=\"dataframe\">\n",
       "  <thead>\n",
       "    <tr style=\"text-align: right;\">\n",
       "      <th></th>\n",
       "      <th>MAE over test set</th>\n",
       "      <th>MAE over training set</th>\n",
       "      <th>MSE over test set</th>\n",
       "      <th>MSE over training set</th>\n",
       "      <th>R^2 over test set</th>\n",
       "      <th>R^2 over training set</th>\n",
       "    </tr>\n",
       "  </thead>\n",
       "  <tbody>\n",
       "    <tr>\n",
       "      <th>1</th>\n",
       "      <td>2.513084</td>\n",
       "      <td>2.528511</td>\n",
       "      <td>9.594923</td>\n",
       "      <td>9.686749</td>\n",
       "      <td>0.047936</td>\n",
       "      <td>0.045505</td>\n",
       "    </tr>\n",
       "    <tr>\n",
       "      <th>5</th>\n",
       "      <td>2.513084</td>\n",
       "      <td>2.528511</td>\n",
       "      <td>9.594923</td>\n",
       "      <td>9.686749</td>\n",
       "      <td>0.047936</td>\n",
       "      <td>0.045505</td>\n",
       "    </tr>\n",
       "    <tr>\n",
       "      <th>10</th>\n",
       "      <td>2.513084</td>\n",
       "      <td>2.528511</td>\n",
       "      <td>9.594923</td>\n",
       "      <td>9.686749</td>\n",
       "      <td>0.047936</td>\n",
       "      <td>0.045505</td>\n",
       "    </tr>\n",
       "    <tr>\n",
       "      <th>50</th>\n",
       "      <td>2.513084</td>\n",
       "      <td>2.528511</td>\n",
       "      <td>9.594923</td>\n",
       "      <td>9.686749</td>\n",
       "      <td>0.047936</td>\n",
       "      <td>0.045505</td>\n",
       "    </tr>\n",
       "    <tr>\n",
       "      <th>100</th>\n",
       "      <td>2.513084</td>\n",
       "      <td>2.528511</td>\n",
       "      <td>9.594923</td>\n",
       "      <td>9.686749</td>\n",
       "      <td>0.047936</td>\n",
       "      <td>0.045505</td>\n",
       "    </tr>\n",
       "    <tr>\n",
       "      <th>1000</th>\n",
       "      <td>2.513084</td>\n",
       "      <td>2.528511</td>\n",
       "      <td>9.594923</td>\n",
       "      <td>9.686749</td>\n",
       "      <td>0.047936</td>\n",
       "      <td>0.045505</td>\n",
       "    </tr>\n",
       "  </tbody>\n",
       "</table>\n",
       "</div>"
      ],
      "text/plain": [
       "      MAE over test set  MAE over training set  MSE over test set  \\\n",
       "1              2.513084               2.528511           9.594923   \n",
       "5              2.513084               2.528511           9.594923   \n",
       "10             2.513084               2.528511           9.594923   \n",
       "50             2.513084               2.528511           9.594923   \n",
       "100            2.513084               2.528511           9.594923   \n",
       "1000           2.513084               2.528511           9.594923   \n",
       "\n",
       "      MSE over training set  R^2 over test set  R^2 over training set  \n",
       "1                  9.686749           0.047936               0.045505  \n",
       "5                  9.686749           0.047936               0.045505  \n",
       "10                 9.686749           0.047936               0.045505  \n",
       "50                 9.686749           0.047936               0.045505  \n",
       "100                9.686749           0.047936               0.045505  \n",
       "1000               9.686749           0.047936               0.045505  "
      ]
     },
     "execution_count": 43,
     "metadata": {},
     "output_type": "execute_result"
    }
   ],
   "source": [
    "DT_validation_n_leafs([1,5,10,50,100,1000], X_train=X_train2,X_test=X_validation,\n",
    "                      y_train=y_train2,y_test=y_validation)"
   ]
  },
  {
   "cell_type": "code",
   "execution_count": 44,
   "metadata": {
    "collapsed": true
   },
   "outputs": [],
   "source": [
    "# build model - fit - predict\n",
    "model = DecisionTreeRegressor()\n",
    "model.fit(X_train, y_train)\n",
    "y_pred = model.predict(X_test)"
   ]
  },
  {
   "cell_type": "code",
   "execution_count": 45,
   "metadata": {},
   "outputs": [
    {
     "name": "stdout",
     "output_type": "stream",
     "text": [
      "MAE over training set: 2.52561905853\n",
      "MAE over test set:     2.53542143374\n",
      "----------------------------\n",
      "MSE over training set: 9.66816584544\n",
      "MSE over test set:     9.7300691984\n",
      "----------------------------\n",
      "R^2 over training set: 0.0460127432832\n",
      "R^2 over test set:     0.0479563587504\n"
     ]
    }
   ],
   "source": [
    "# MAE evaluation\n",
    "y_training_pred = model.predict(X_train)\n",
    "print('MAE over training set:', mean_absolute_error(y_training_pred, y_train))\n",
    "print('MAE over test set:    ', mean_absolute_error(y_pred, y_test))\n",
    "print('----------------------------')\n",
    "# MSE evaluation\n",
    "print('MSE over training set:', mean_squared_error(y_training_pred, y_train))\n",
    "print('MSE over test set:    ', mean_squared_error(y_pred, y_test))\n",
    "print('----------------------------')\n",
    "# R squared evaluation\n",
    "print('R^2 over training set:', model.score(X_train, y_train))\n",
    "print('R^2 over test set:    ', model.score(X_test, y_test))"
   ]
  },
  {
   "cell_type": "code",
   "execution_count": 46,
   "metadata": {},
   "outputs": [
    {
     "data": {
      "text/plain": [
       "<matplotlib.text.Text at 0x11776f160>"
      ]
     },
     "execution_count": 46,
     "metadata": {},
     "output_type": "execute_result"
    },
    {
     "data": {
      "image/png": "[encoded data removed]",
      "text/plain": [
       "<matplotlib.figure.Figure at 0x11dac7e80>"
      ]
     },
     "metadata": {},
     "output_type": "display_data"
    }
   ],
   "source": [
    "plt.scatter(y_test, y_pred, marker='.')\n",
    "plt.xlabel('y_test')\n",
    "plt.ylabel('y_pred')"
   ]
  },
  {
   "cell_type": "code",
   "execution_count": 47,
   "metadata": {},
   "outputs": [
    {
     "data": {
      "text/plain": [
       "[(0.0, 'France'),\n",
       " (3.1770920712682299e-05, 'Germany'),\n",
       " (0.00014470770919714713, 'Italy'),\n",
       " (0.0042920275033790844, 'Portugal'),\n",
       " (0.022548456255657538, 'Australia'),\n",
       " (0.026575336760393507, 'Austria'),\n",
       " (0.033355617270512145, 'New Zealand'),\n",
       " (0.040912095554188656, 'South Africa'),\n",
       " (0.093083289150503831, 'US'),\n",
       " (0.23869529040268006, 'Chile'),\n",
       " (0.25127605605085634, 'Spain'),\n",
       " (0.28908535242191896, 'Argentina')]"
      ]
     },
     "execution_count": 47,
     "metadata": {},
     "output_type": "execute_result"
    }
   ],
   "source": [
    "# Top 10 features (words that influence the review points)\n",
    "sorted(zip(model.feature_importances_, ['Argentina','Australia','Austria','Chile',\n",
    "                                        'France','Germany','Italy','New Zealand',\n",
    "                                        'Portugal','South Africa','Spain','US']))"
   ]
  },
  {
   "cell_type": "markdown",
   "metadata": {},
   "source": [
    "### DT Regression - with additional feature 'description'"
   ]
  },
  {
   "cell_type": "code",
   "execution_count": 48,
   "metadata": {
    "collapsed": true
   },
   "outputs": [],
   "source": [
    "# Step 1: Count Vectorization\n",
    "from sklearn.feature_extraction.text import CountVectorizer"
   ]
  },
  {
   "cell_type": "code",
   "execution_count": 49,
   "metadata": {
    "collapsed": true
   },
   "outputs": [],
   "source": [
    "# Problem = Description with a lot of words"
   ]
  },
  {
   "cell_type": "code",
   "execution_count": 132,
   "metadata": {
    "collapsed": true
   },
   "outputs": [],
   "source": [
    "count_vectorizer = CountVectorizer(stop_words='english', min_df=20)\n",
    "X_counts = count_vectorizer.fit_transform(wine_country_cap_dummy['description'])"
   ]
  },
  {
   "cell_type": "code",
   "execution_count": 126,
   "metadata": {},
   "outputs": [
    {
     "name": "stdout",
     "output_type": "stream",
     "text": [
      "(133564, 4047)\n",
      "<class 'scipy.sparse.csr.csr_matrix'>\n"
     ]
    }
   ],
   "source": [
    "print(X_counts.shape)\n",
    "print(type(X_counts))"
   ]
  },
  {
   "cell_type": "code",
   "execution_count": 52,
   "metadata": {
    "collapsed": true
   },
   "outputs": [],
   "source": [
    "# create different sets for ML\n",
    "X_train, X_test, y_train, y_test = train_test_split(X_counts, y, test_size=0.15)"
   ]
  },
  {
   "cell_type": "code",
   "execution_count": 53,
   "metadata": {
    "collapsed": true
   },
   "outputs": [],
   "source": [
    "# create the validation set\n",
    "X_train2, X_validation, y_train2, y_validation = train_test_split(X_train, y_train, test_size=0.2)"
   ]
  },
  {
   "cell_type": "code",
   "execution_count": 54,
   "metadata": {},
   "outputs": [
    {
     "name": "stdout",
     "output_type": "stream",
     "text": [
      "size of original trainnig set:                 (113529, 28719)\n",
      "size of new (after vali. split) trainnig set:  (90823, 28719)\n"
     ]
    }
   ],
   "source": [
    "# new training set is smaller:\n",
    "print('size of original trainnig set:                ', X_train.shape)\n",
    "print('size of new (after vali. split) trainnig set: ', X_train2.shape)"
   ]
  },
  {
   "cell_type": "code",
   "execution_count": 55,
   "metadata": {},
   "outputs": [
    {
     "data": {
      "text/html": [
       "<div>\n",
       "<table border=\"1\" class=\"dataframe\">\n",
       "  <thead>\n",
       "    <tr style=\"text-align: right;\">\n",
       "      <th></th>\n",
       "      <th>MAE over test set</th>\n",
       "      <th>MAE over training set</th>\n",
       "      <th>MSE over test set</th>\n",
       "      <th>MSE over training set</th>\n",
       "      <th>R^2 over test set</th>\n",
       "      <th>R^2 over training set</th>\n",
       "    </tr>\n",
       "  </thead>\n",
       "  <tbody>\n",
       "    <tr>\n",
       "      <th>1</th>\n",
       "      <td>1.202120</td>\n",
       "      <td>0.000110</td>\n",
       "      <td>4.597970</td>\n",
       "      <td>0.000081</td>\n",
       "      <td>0.541616</td>\n",
       "      <td>0.999992</td>\n",
       "    </tr>\n",
       "    <tr>\n",
       "      <th>5</th>\n",
       "      <td>1.680630</td>\n",
       "      <td>1.041931</td>\n",
       "      <td>5.070685</td>\n",
       "      <td>1.967397</td>\n",
       "      <td>0.494489</td>\n",
       "      <td>0.806419</td>\n",
       "    </tr>\n",
       "    <tr>\n",
       "      <th>10</th>\n",
       "      <td>1.786309</td>\n",
       "      <td>1.436768</td>\n",
       "      <td>5.325140</td>\n",
       "      <td>3.445323</td>\n",
       "      <td>0.469122</td>\n",
       "      <td>0.660999</td>\n",
       "    </tr>\n",
       "    <tr>\n",
       "      <th>50</th>\n",
       "      <td>1.906250</td>\n",
       "      <td>1.828810</td>\n",
       "      <td>5.827873</td>\n",
       "      <td>5.405855</td>\n",
       "      <td>0.419003</td>\n",
       "      <td>0.468094</td>\n",
       "    </tr>\n",
       "    <tr>\n",
       "      <th>100</th>\n",
       "      <td>1.955563</td>\n",
       "      <td>1.921712</td>\n",
       "      <td>6.113512</td>\n",
       "      <td>5.926094</td>\n",
       "      <td>0.390527</td>\n",
       "      <td>0.416905</td>\n",
       "    </tr>\n",
       "    <tr>\n",
       "      <th>1000</th>\n",
       "      <td>2.148010</td>\n",
       "      <td>2.158570</td>\n",
       "      <td>7.248750</td>\n",
       "      <td>7.350247</td>\n",
       "      <td>0.277352</td>\n",
       "      <td>0.276776</td>\n",
       "    </tr>\n",
       "  </tbody>\n",
       "</table>\n",
       "</div>"
      ],
      "text/plain": [
       "      MAE over test set  MAE over training set  MSE over test set  \\\n",
       "1              1.202120               0.000110           4.597970   \n",
       "5              1.680630               1.041931           5.070685   \n",
       "10             1.786309               1.436768           5.325140   \n",
       "50             1.906250               1.828810           5.827873   \n",
       "100            1.955563               1.921712           6.113512   \n",
       "1000           2.148010               2.158570           7.248750   \n",
       "\n",
       "      MSE over training set  R^2 over test set  R^2 over training set  \n",
       "1                  0.000081           0.541616               0.999992  \n",
       "5                  1.967397           0.494489               0.806419  \n",
       "10                 3.445323           0.469122               0.660999  \n",
       "50                 5.405855           0.419003               0.468094  \n",
       "100                5.926094           0.390527               0.416905  \n",
       "1000               7.350247           0.277352               0.276776  "
      ]
     },
     "execution_count": 55,
     "metadata": {},
     "output_type": "execute_result"
    }
   ],
   "source": [
    "DT_validation_n_leafs([1,5,10,50,100,1000], X_train=X_train2,X_test=X_validation,\n",
    "                      y_train=y_train2,y_test=y_validation)"
   ]
  },
  {
   "cell_type": "code",
   "execution_count": 56,
   "metadata": {
    "collapsed": true
   },
   "outputs": [],
   "source": [
    "# build model - fit - predict with optimal sample parameter\n",
    "model = DecisionTreeRegressor(min_samples_leaf=10)\n",
    "model.fit(X_train, y_train)\n",
    "y_pred = model.predict(X_test)"
   ]
  },
  {
   "cell_type": "code",
   "execution_count": 57,
   "metadata": {},
   "outputs": [
    {
     "name": "stdout",
     "output_type": "stream",
     "text": [
      "MAE over training set: 1.39207990443\n",
      "MAE over test set:     1.75022035596\n",
      "----------------------------\n",
      "MSE over training set: 3.2619444203\n",
      "MSE over test set:     5.16930239084\n",
      "----------------------------\n",
      "R^2 over training set: 0.678208802973\n",
      "R^2 over test set:     0.49353658702\n"
     ]
    }
   ],
   "source": [
    "# MAE evaluation\n",
    "y_training_pred = model.predict(X_train)\n",
    "print('MAE over training set:', mean_absolute_error(y_training_pred, y_train))\n",
    "print('MAE over test set:    ', mean_absolute_error(y_pred, y_test))\n",
    "print('----------------------------')\n",
    "# MSE evaluation\n",
    "print('MSE over training set:', mean_squared_error(y_training_pred, y_train))\n",
    "print('MSE over test set:    ', mean_squared_error(y_pred, y_test))\n",
    "print('----------------------------')\n",
    "# R squared evaluation\n",
    "print('R^2 over training set:', model.score(X_train, y_train))\n",
    "print('R^2 over test set:    ', model.score(X_test, y_test))"
   ]
  },
  {
   "cell_type": "code",
   "execution_count": 58,
   "metadata": {},
   "outputs": [
    {
     "data": {
      "text/plain": [
       "[(0.091537856994057573, 'years'),\n",
       " (0.051887732463994148, 'rich'),\n",
       " (0.043406164389690624, 'simple'),\n",
       " (0.036502388452179291, 'long'),\n",
       " (0.030005936703922449, 'vineyard'),\n",
       " (0.028007732334156644, 'complex'),\n",
       " (0.027403511339892658, 'black'),\n",
       " (0.021336702931360637, 'delicious'),\n",
       " (0.018486759095379755, 'beautiful'),\n",
       " (0.017861361872414123, 'elegant')]"
      ]
     },
     "execution_count": 58,
     "metadata": {},
     "output_type": "execute_result"
    }
   ],
   "source": [
    "# Top 10 features (words that influence the review points)\n",
    "sorted(zip(model.feature_importances_, count_vectorizer.get_feature_names()),reverse=True)[:10]"
   ]
  },
  {
   "cell_type": "markdown",
   "metadata": {},
   "source": [
    "### SGDRegressor - with additional feature 'description'"
   ]
  },
  {
   "cell_type": "code",
   "execution_count": 59,
   "metadata": {
    "collapsed": true
   },
   "outputs": [],
   "source": [
    "from sklearn.linear_model import SGDRegressor"
   ]
  },
  {
   "cell_type": "code",
   "execution_count": 60,
   "metadata": {
    "collapsed": true
   },
   "outputs": [],
   "source": [
    "# create different sets for ML\n",
    "X_train, X_test, y_train, y_test = train_test_split(X_counts, y, test_size=0.15)"
   ]
  },
  {
   "cell_type": "code",
   "execution_count": 61,
   "metadata": {
    "collapsed": true
   },
   "outputs": [],
   "source": [
    "# create the validation set\n",
    "X_train2, X_validation, y_train2, y_validation = train_test_split(X_train, y_train, test_size=0.2)"
   ]
  },
  {
   "cell_type": "code",
   "execution_count": 62,
   "metadata": {},
   "outputs": [
    {
     "name": "stdout",
     "output_type": "stream",
     "text": [
      "size of original trainnig set:                 (113529, 28719)\n",
      "size of new (after vali. split) trainnig set:  (90823, 28719)\n"
     ]
    }
   ],
   "source": [
    "# new training set is smaller:\n",
    "print('size of original trainnig set:                ', X_train.shape)\n",
    "print('size of new (after vali. split) trainnig set: ', X_train2.shape)"
   ]
  },
  {
   "cell_type": "code",
   "execution_count": 63,
   "metadata": {
    "collapsed": true
   },
   "outputs": [],
   "source": [
    "def SGDRegressor_validation_eta0(inputs, X_test, X_train, y_train, y_test):\n",
    "    '''\n",
    "    function to analyse different parameters for the Dicision Tree Regression\n",
    "    outputs a matrix with various validation metrics\n",
    "    '''\n",
    "     \n",
    "    mae_train = []\n",
    "    mae_test = []\n",
    "    mse_train = []\n",
    "    mse_test = []\n",
    "    rsq_train = []\n",
    "    rsq_test = []\n",
    "    \n",
    "    for i in inputs:\n",
    "        model = SGDRegressor(eta0=i)\n",
    "        model.fit(X_train, y_train)\n",
    "        y_pred = model.predict(X_test)\n",
    "        \n",
    "        y_training_pred = model.predict(X_train)\n",
    "        \n",
    "        mae_train.append(mean_absolute_error(y_training_pred, y_train))\n",
    "        mae_test.append(mean_absolute_error(y_pred, y_test))\n",
    "        mse_train.append(mean_squared_error(y_training_pred, y_train))\n",
    "        mse_test.append(mean_squared_error(y_pred, y_test))\n",
    "        rsq_train.append(model.score(X_train, y_train))\n",
    "        rsq_test.append(model.score(X_test, y_test))\n",
    "        \n",
    "        \n",
    "    test_matrix = pd.DataFrame(\n",
    "        {'MAE over training set': mae_train,\n",
    "        'MAE over test set': mae_test,\n",
    "        'MSE over training set': mse_train,\n",
    "        'MSE over test set': mse_test,\n",
    "        'R^2 over training set': rsq_train,\n",
    "        'R^2 over test set': rsq_test},index=inputs)\n",
    "    \n",
    "    return test_matrix"
   ]
  },
  {
   "cell_type": "code",
   "execution_count": 64,
   "metadata": {},
   "outputs": [
    {
     "data": {
      "text/html": [
       "<div>\n",
       "<table border=\"1\" class=\"dataframe\">\n",
       "  <thead>\n",
       "    <tr style=\"text-align: right;\">\n",
       "      <th></th>\n",
       "      <th>MAE over test set</th>\n",
       "      <th>MAE over training set</th>\n",
       "      <th>MSE over test set</th>\n",
       "      <th>MSE over training set</th>\n",
       "      <th>R^2 over test set</th>\n",
       "      <th>R^2 over training set</th>\n",
       "    </tr>\n",
       "  </thead>\n",
       "  <tbody>\n",
       "    <tr>\n",
       "      <th>100.0000</th>\n",
       "      <td>3.927592e+13</td>\n",
       "      <td>3.928223e+13</td>\n",
       "      <td>2.407710e+27</td>\n",
       "      <td>2.413324e+27</td>\n",
       "      <td>-2.353092e+26</td>\n",
       "      <td>-2.383965e+26</td>\n",
       "    </tr>\n",
       "    <tr>\n",
       "      <th>10.0000</th>\n",
       "      <td>4.159001e+12</td>\n",
       "      <td>4.197696e+12</td>\n",
       "      <td>2.801505e+25</td>\n",
       "      <td>2.849618e+25</td>\n",
       "      <td>-2.737954e+24</td>\n",
       "      <td>-2.814950e+24</td>\n",
       "    </tr>\n",
       "    <tr>\n",
       "      <th>1.0000</th>\n",
       "      <td>2.962109e+09</td>\n",
       "      <td>2.849745e+09</td>\n",
       "      <td>1.598216e+19</td>\n",
       "      <td>1.453029e+19</td>\n",
       "      <td>-1.561961e+18</td>\n",
       "      <td>-1.435352e+18</td>\n",
       "    </tr>\n",
       "    <tr>\n",
       "      <th>0.1000</th>\n",
       "      <td>5.523245e+00</td>\n",
       "      <td>5.106031e+00</td>\n",
       "      <td>4.888612e+01</td>\n",
       "      <td>4.171254e+01</td>\n",
       "      <td>-3.777715e+00</td>\n",
       "      <td>-3.120508e+00</td>\n",
       "    </tr>\n",
       "    <tr>\n",
       "      <th>0.0100</th>\n",
       "      <td>1.199436e+01</td>\n",
       "      <td>1.183236e+01</td>\n",
       "      <td>2.294836e+02</td>\n",
       "      <td>2.231779e+02</td>\n",
       "      <td>-2.142778e+01</td>\n",
       "      <td>-2.104628e+01</td>\n",
       "    </tr>\n",
       "    <tr>\n",
       "      <th>0.0010</th>\n",
       "      <td>1.570255e+01</td>\n",
       "      <td>1.565986e+01</td>\n",
       "      <td>3.870651e+02</td>\n",
       "      <td>3.844815e+02</td>\n",
       "      <td>-3.682847e+01</td>\n",
       "      <td>-3.698040e+01</td>\n",
       "    </tr>\n",
       "    <tr>\n",
       "      <th>0.0001</th>\n",
       "      <td>2.093685e+01</td>\n",
       "      <td>2.082566e+01</td>\n",
       "      <td>6.655022e+02</td>\n",
       "      <td>6.636145e+02</td>\n",
       "      <td>-6.404055e+01</td>\n",
       "      <td>-6.455413e+01</td>\n",
       "    </tr>\n",
       "  </tbody>\n",
       "</table>\n",
       "</div>"
      ],
      "text/plain": [
       "          MAE over test set  MAE over training set  MSE over test set  \\\n",
       "100.0000       3.927592e+13           3.928223e+13       2.407710e+27   \n",
       "10.0000        4.159001e+12           4.197696e+12       2.801505e+25   \n",
       "1.0000         2.962109e+09           2.849745e+09       1.598216e+19   \n",
       "0.1000         5.523245e+00           5.106031e+00       4.888612e+01   \n",
       "0.0100         1.199436e+01           1.183236e+01       2.294836e+02   \n",
       "0.0010         1.570255e+01           1.565986e+01       3.870651e+02   \n",
       "0.0001         2.093685e+01           2.082566e+01       6.655022e+02   \n",
       "\n",
       "          MSE over training set  R^2 over test set  R^2 over training set  \n",
       "100.0000           2.413324e+27      -2.353092e+26          -2.383965e+26  \n",
       "10.0000            2.849618e+25      -2.737954e+24          -2.814950e+24  \n",
       "1.0000             1.453029e+19      -1.561961e+18          -1.435352e+18  \n",
       "0.1000             4.171254e+01      -3.777715e+00          -3.120508e+00  \n",
       "0.0100             2.231779e+02      -2.142778e+01          -2.104628e+01  \n",
       "0.0010             3.844815e+02      -3.682847e+01          -3.698040e+01  \n",
       "0.0001             6.636145e+02      -6.404055e+01          -6.455413e+01  "
      ]
     },
     "execution_count": 64,
     "metadata": {},
     "output_type": "execute_result"
    }
   ],
   "source": [
    "SGDRegressor_validation_eta0([100,10,1,0.1,0.01,0.001,0.0001], X_train=X_train2,X_test=X_validation,y_train=y_train2,y_test=y_validation)"
   ]
  },
  {
   "cell_type": "code",
   "execution_count": 65,
   "metadata": {
    "collapsed": true
   },
   "outputs": [],
   "source": [
    "# build model - fit - predict with optimal sample parameter\n",
    "model = SGDRegressor(eta0=0.1)\n",
    "model.fit(X_train, y_train)\n",
    "y_pred = model.predict(X_test)"
   ]
  },
  {
   "cell_type": "code",
   "execution_count": 66,
   "metadata": {},
   "outputs": [
    {
     "data": {
      "text/plain": [
       "-2.1730635952964805"
      ]
     },
     "execution_count": 66,
     "metadata": {},
     "output_type": "execute_result"
    }
   ],
   "source": [
    "model.score(X_train, y_train)"
   ]
  },
  {
   "cell_type": "code",
   "execution_count": 67,
   "metadata": {},
   "outputs": [
    {
     "data": {
      "text/plain": [
       "[(6.1159758900031713, 'slender'),\n",
       " (6.0613717346515497, 'watery'),\n",
       " (5.952627284984171, 'porty'),\n",
       " (5.9310983043161976, 'feline'),\n",
       " (5.7144501260909877, 'harsh'),\n",
       " (5.6369156817643233, 'meursault'),\n",
       " (5.2034914471563916, 'sweetish'),\n",
       " (5.0639823664250017, 'scoury'),\n",
       " (5.061494701150842, 'sugared'),\n",
       " (5.0550844727444337, 'refreshment')]"
      ]
     },
     "execution_count": 67,
     "metadata": {},
     "output_type": "execute_result"
    }
   ],
   "source": [
    "# Top 10 features (words that influence the review points)\n",
    "sorted(zip(model.coef_, count_vectorizer.get_feature_names()),reverse=True)[:10]"
   ]
  },
  {
   "cell_type": "markdown",
   "metadata": {},
   "source": [
    "### ElasticNet Regression - with additional feature 'description'"
   ]
  },
  {
   "cell_type": "code",
   "execution_count": 68,
   "metadata": {
    "collapsed": true
   },
   "outputs": [],
   "source": [
    "from sklearn.linear_model import ElasticNet"
   ]
  },
  {
   "cell_type": "code",
   "execution_count": 69,
   "metadata": {
    "collapsed": true
   },
   "outputs": [],
   "source": [
    "# create different sets for ML\n",
    "X_train, X_test, y_train, y_test = train_test_split(X_counts, y, test_size=0.15)"
   ]
  },
  {
   "cell_type": "code",
   "execution_count": 70,
   "metadata": {
    "collapsed": true
   },
   "outputs": [],
   "source": [
    "# create the validation set\n",
    "X_train2, X_validation, y_train2, y_validation = train_test_split(X_train, y_train, test_size=0.2)"
   ]
  },
  {
   "cell_type": "code",
   "execution_count": 71,
   "metadata": {},
   "outputs": [
    {
     "name": "stdout",
     "output_type": "stream",
     "text": [
      "size of original trainnig set:                 (113529, 28719)\n",
      "size of new (after vali. split) trainnig set:  (90823, 28719)\n"
     ]
    }
   ],
   "source": [
    "# new training set is smaller:\n",
    "print('size of original trainnig set:                ', X_train.shape)\n",
    "print('size of new (after vali. split) trainnig set: ', X_train2.shape)"
   ]
  },
  {
   "cell_type": "code",
   "execution_count": 72,
   "metadata": {
    "collapsed": true
   },
   "outputs": [],
   "source": [
    "def ElasticNet_l1_ratio(inputs, X_test, X_train, y_train, y_test):\n",
    "    '''\n",
    "    function to analyse different parameters for the Dicision Tree Regression\n",
    "    outputs a matrix with various validation metrics\n",
    "    '''\n",
    "     \n",
    "    mae_train = []\n",
    "    mae_test = []\n",
    "    mse_train = []\n",
    "    mse_test = []\n",
    "    rsq_train = []\n",
    "    rsq_test = []\n",
    "    \n",
    "    for i, j in inputs:\n",
    "        model = ElasticNet(alpha=i, l1_ratio=j)\n",
    "        model.fit(X_train, y_train)\n",
    "        y_pred = model.predict(X_test)\n",
    "        \n",
    "        y_training_pred = model.predict(X_train)\n",
    "        \n",
    "        mae_train.append(mean_absolute_error(y_training_pred, y_train))\n",
    "        mae_test.append(mean_absolute_error(y_pred, y_test))\n",
    "        mse_train.append(mean_squared_error(y_training_pred, y_train))\n",
    "        mse_test.append(mean_squared_error(y_pred, y_test))\n",
    "        rsq_train.append(model.score(X_train, y_train))\n",
    "        rsq_test.append(model.score(X_test, y_test))\n",
    "        \n",
    "        \n",
    "    test_matrix = pd.DataFrame(\n",
    "        {'MAE over training set': mae_train,\n",
    "        'MAE over test set': mae_test,\n",
    "        'MSE over training set': mse_train,\n",
    "        'MSE over test set': mse_test,\n",
    "        'R^2 over training set': rsq_train,\n",
    "        'R^2 over test set': rsq_test},index=inputs)\n",
    "    \n",
    "    return test_matrix"
   ]
  },
  {
   "cell_type": "code",
   "execution_count": 73,
   "metadata": {},
   "outputs": [
    {
     "ename": "IndentationError",
     "evalue": "unexpected indent (<ipython-input-73-462f677c6dfe>, line 2)",
     "output_type": "error",
     "traceback": [
      "\u001b[0;36m  File \u001b[0;32m\"<ipython-input-73-462f677c6dfe>\"\u001b[0;36m, line \u001b[0;32m2\u001b[0m\n\u001b[0;31m    (100,0.5),(10,0.5),(1,0.5),(0.1,0.5),(0.01,0.5),(0.001,0.5),(0,0.5),\u001b[0m\n\u001b[0m    ^\u001b[0m\n\u001b[0;31mIndentationError\u001b[0m\u001b[0;31m:\u001b[0m unexpected indent\n"
     ]
    }
   ],
   "source": [
    "ElasticNet_l1_ratio([(100,0),(10,0),(1,0),(0.1,0),(0.01,0),(0.001,0),(0,0),\n",
    "                    (100,0.5),(10,0.5),(1,0.5),(0.1,0.5),(0.01,0.5),(0.001,0.5),(0,0.5),\n",
    "                    (100,1),(10,1),(1,1),(0.1,1),(0.01,1),(0.001,1),(0,1)], \n",
    "                    X_train=X_train2,X_test=X_validation,y_train=y_train2,y_test=y_validation)"
   ]
  },
  {
   "cell_type": "code",
   "execution_count": 74,
   "metadata": {
    "collapsed": true
   },
   "outputs": [],
   "source": [
    "# build model - fit - predict with optimal sample parameter\n",
    "model = ElasticNet(alpha=1, l1_ratio=1)\n",
    "model.fit(X_train, y_train)\n",
    "y_pred = model.predict(X_test)"
   ]
  },
  {
   "cell_type": "code",
   "execution_count": 75,
   "metadata": {},
   "outputs": [
    {
     "data": {
      "text/plain": [
       "0.0"
      ]
     },
     "execution_count": 75,
     "metadata": {},
     "output_type": "execute_result"
    }
   ],
   "source": [
    "model.score(X_train, y_train)"
   ]
  },
  {
   "cell_type": "code",
   "execution_count": 108,
   "metadata": {},
   "outputs": [
    {
     "data": {
      "text/plain": [
       "[(3.4928375003763561, 'pets'),\n",
       " (3.2110579497962823, 'rancio'),\n",
       " (3.0770572402629144, 'charlemagne'),\n",
       " (3.0432371301742762, 'sneaky'),\n",
       " (3.0000000000000022, 'plasticy'),\n",
       " (3.0000000000000018, 'sapaio'),\n",
       " (3.0000000000000018, 'castelletto'),\n",
       " (3.0000000000000009, 'glorying'),\n",
       " (3.0000000000000009, 'caged'),\n",
       " (3.0000000000000009, 'borobo')]"
      ]
     },
     "execution_count": 108,
     "metadata": {},
     "output_type": "execute_result"
    }
   ],
   "source": [
    "# Top 10 features (words that influence the review points)\n",
    "sorted(zip(model.coef_, count_vectorizer.get_feature_names()),reverse=True)[:10]"
   ]
  },
  {
   "cell_type": "markdown",
   "metadata": {
    "collapsed": true
   },
   "source": [
    "### LinearSV Regression - with additional feature 'description'"
   ]
  },
  {
   "cell_type": "code",
   "execution_count": 115,
   "metadata": {
    "collapsed": true
   },
   "outputs": [],
   "source": [
    "from sklearn.svm import LinearSVR"
   ]
  },
  {
   "cell_type": "code",
   "execution_count": 116,
   "metadata": {
    "collapsed": true
   },
   "outputs": [],
   "source": [
    "# create different sets for ML\n",
    "X_train, X_test, y_train, y_test = train_test_split(X_counts, y, test_size=0.15)"
   ]
  },
  {
   "cell_type": "code",
   "execution_count": 117,
   "metadata": {
    "collapsed": true
   },
   "outputs": [],
   "source": [
    "# create the validation set\n",
    "X_train2, X_validation, y_train2, y_validation = train_test_split(X_train, y_train, test_size=0.2)"
   ]
  },
  {
   "cell_type": "code",
   "execution_count": 118,
   "metadata": {},
   "outputs": [
    {
     "name": "stdout",
     "output_type": "stream",
     "text": [
      "size of original trainnig set:                 (113529, 6547)\n",
      "size of new (after vali. split) trainnig set:  (90823, 6547)\n"
     ]
    }
   ],
   "source": [
    "# new training set is smaller:\n",
    "print('size of original trainnig set:                ', X_train.shape)\n",
    "print('size of new (after vali. split) trainnig set: ', X_train2.shape)"
   ]
  },
  {
   "cell_type": "code",
   "execution_count": 127,
   "metadata": {
    "collapsed": true
   },
   "outputs": [],
   "source": [
    "def LinearSVC_C(inputs, X_test, X_train, y_train, y_test):\n",
    "    '''\n",
    "    function to analyse different parameters for the Dicision Tree Regression\n",
    "    outputs a matrix with various validation metrics\n",
    "    '''\n",
    "     \n",
    "    mae_train = []\n",
    "    mae_test = []\n",
    "    mse_train = []\n",
    "    mse_test = []\n",
    "    rsq_train = []\n",
    "    rsq_test = []\n",
    "    \n",
    "    for i in inputs:\n",
    "        model = LinearSVR(C=i)\n",
    "        model.fit(X_train, y_train)\n",
    "        y_pred = model.predict(X_test)\n",
    "        \n",
    "        y_training_pred = model.predict(X_train)\n",
    "        \n",
    "        mae_train.append(mean_absolute_error(y_training_pred, y_train))\n",
    "        mae_test.append(mean_absolute_error(y_pred, y_test))\n",
    "        mse_train.append(mean_squared_error(y_training_pred, y_train))\n",
    "        mse_test.append(mean_squared_error(y_pred, y_test))\n",
    "        rsq_train.append(model.score(X_train, y_train))\n",
    "        rsq_test.append(model.score(X_test, y_test))\n",
    "        print('Calculating model {0} of {1}'.format(i,len(inputs)))\n",
    "        \n",
    "    test_matrix = pd.DataFrame(\n",
    "        {'MAE over training set': mae_train,\n",
    "        'MAE over test set': mae_test,\n",
    "        'MSE over training set': mse_train,\n",
    "        'MSE over test set': mse_test,\n",
    "        'R^2 over training set': rsq_train,\n",
    "        'R^2 over test set': rsq_test},index=inputs)\n",
    "    \n",
    "    return test_matrix"
   ]
  },
  {
   "cell_type": "code",
   "execution_count": 128,
   "metadata": {},
   "outputs": [
    {
     "name": "stdout",
     "output_type": "stream",
     "text": [
      "Calculating model 0.01 of 7\n",
      "Calculating model 0.1 of 7\n",
      "Calculating model 1 of 7\n",
      "Calculating model 10 of 7\n",
      "Calculating model 100 of 7\n",
      "Calculating model 1000 of 7\n",
      "Calculating model 10000 of 7\n"
     ]
    },
    {
     "data": {
      "text/html": [
       "<div>\n",
       "<table border=\"1\" class=\"dataframe\">\n",
       "  <thead>\n",
       "    <tr style=\"text-align: right;\">\n",
       "      <th></th>\n",
       "      <th>MAE over test set</th>\n",
       "      <th>MAE over training set</th>\n",
       "      <th>MSE over test set</th>\n",
       "      <th>MSE over training set</th>\n",
       "      <th>R^2 over test set</th>\n",
       "      <th>R^2 over training set</th>\n",
       "    </tr>\n",
       "  </thead>\n",
       "  <tbody>\n",
       "    <tr>\n",
       "      <th>0.01</th>\n",
       "      <td>1.533855</td>\n",
       "      <td>1.507891</td>\n",
       "      <td>3.974796</td>\n",
       "      <td>3.907365</td>\n",
       "      <td>0.609149</td>\n",
       "      <td>0.615654</td>\n",
       "    </tr>\n",
       "    <tr>\n",
       "      <th>0.10</th>\n",
       "      <td>1.313028</td>\n",
       "      <td>1.221050</td>\n",
       "      <td>2.918410</td>\n",
       "      <td>2.660121</td>\n",
       "      <td>0.713026</td>\n",
       "      <td>0.738338</td>\n",
       "    </tr>\n",
       "    <tr>\n",
       "      <th>1.00</th>\n",
       "      <td>1.330331</td>\n",
       "      <td>1.193324</td>\n",
       "      <td>3.024629</td>\n",
       "      <td>2.627793</td>\n",
       "      <td>0.702581</td>\n",
       "      <td>0.741518</td>\n",
       "    </tr>\n",
       "    <tr>\n",
       "      <th>10.00</th>\n",
       "      <td>1.347449</td>\n",
       "      <td>1.204868</td>\n",
       "      <td>3.106797</td>\n",
       "      <td>2.671484</td>\n",
       "      <td>0.694501</td>\n",
       "      <td>0.737221</td>\n",
       "    </tr>\n",
       "    <tr>\n",
       "      <th>100.00</th>\n",
       "      <td>1.648050</td>\n",
       "      <td>1.545471</td>\n",
       "      <td>4.346468</td>\n",
       "      <td>3.899903</td>\n",
       "      <td>0.572601</td>\n",
       "      <td>0.616388</td>\n",
       "    </tr>\n",
       "    <tr>\n",
       "      <th>1000.00</th>\n",
       "      <td>1.791131</td>\n",
       "      <td>1.707909</td>\n",
       "      <td>5.113634</td>\n",
       "      <td>4.669009</td>\n",
       "      <td>0.497164</td>\n",
       "      <td>0.540735</td>\n",
       "    </tr>\n",
       "    <tr>\n",
       "      <th>10000.00</th>\n",
       "      <td>1.944919</td>\n",
       "      <td>1.873023</td>\n",
       "      <td>6.035257</td>\n",
       "      <td>5.616999</td>\n",
       "      <td>0.406539</td>\n",
       "      <td>0.447486</td>\n",
       "    </tr>\n",
       "  </tbody>\n",
       "</table>\n",
       "</div>"
      ],
      "text/plain": [
       "          MAE over test set  MAE over training set  MSE over test set  \\\n",
       "0.01               1.533855               1.507891           3.974796   \n",
       "0.10               1.313028               1.221050           2.918410   \n",
       "1.00               1.330331               1.193324           3.024629   \n",
       "10.00              1.347449               1.204868           3.106797   \n",
       "100.00             1.648050               1.545471           4.346468   \n",
       "1000.00            1.791131               1.707909           5.113634   \n",
       "10000.00           1.944919               1.873023           6.035257   \n",
       "\n",
       "          MSE over training set  R^2 over test set  R^2 over training set  \n",
       "0.01                   3.907365           0.609149               0.615654  \n",
       "0.10                   2.660121           0.713026               0.738338  \n",
       "1.00                   2.627793           0.702581               0.741518  \n",
       "10.00                  2.671484           0.694501               0.737221  \n",
       "100.00                 3.899903           0.572601               0.616388  \n",
       "1000.00                4.669009           0.497164               0.540735  \n",
       "10000.00               5.616999           0.406539               0.447486  "
      ]
     },
     "execution_count": 128,
     "metadata": {},
     "output_type": "execute_result"
    }
   ],
   "source": [
    "LinearSVC_C([0.01,0.1,1,10,100,1000,10000],\n",
    "            X_train=X_train2,X_test=X_validation,y_train=y_train2,y_test=y_validation)"
   ]
  },
  {
   "cell_type": "code",
   "execution_count": 134,
   "metadata": {},
   "outputs": [],
   "source": [
    "# build model - fit - predict with optimal sample parameter\n",
    "model = LinearSVR(C=0.1)\n",
    "model.fit(X_train, y_train)\n",
    "y_pred = model.predict(X_test)"
   ]
  },
  {
   "cell_type": "code",
   "execution_count": 135,
   "metadata": {},
   "outputs": [
    {
     "name": "stdout",
     "output_type": "stream",
     "text": [
      "0.737636469299\n",
      "<bound method BaseEstimator.get_params of LinearSVR(C=0.1, dual=True, epsilon=0.0, fit_intercept=True,\n",
      "     intercept_scaling=1.0, loss='epsilon_insensitive', max_iter=1000,\n",
      "     random_state=None, tol=0.0001, verbose=0)>\n"
     ]
    }
   ],
   "source": [
    "print(model.score(X_train, y_train))\n",
    "print(model.get_params)"
   ]
  },
  {
   "cell_type": "code",
   "execution_count": 136,
   "metadata": {},
   "outputs": [
    {
     "data": {
      "text/plain": [
       "[(1.7656109483761073, 'rancio'),\n",
       " (1.4440296529040928, 'brunello'),\n",
       " (1.3796301128582815, 'detonates'),\n",
       " (1.378309930905552, 'hermitage'),\n",
       " (1.3645655735811921, 'gorgeous'),\n",
       " (1.3417113925581095, 'glorious'),\n",
       " (1.3270656860504817, '2022'),\n",
       " (1.2959937724149744, 'fascinating'),\n",
       " (1.2932896069186519, 'stunningly'),\n",
       " (1.2906376138344191, 'auslese'),\n",
       " (1.2707365557027912, 'botrytis'),\n",
       " (1.2637763586048179, 'immense'),\n",
       " (1.2622623508385247, 'hedonistic'),\n",
       " (1.245616043903389, 'astonishing'),\n",
       " (1.2330782612076194, 'beautiful'),\n",
       " (1.232392931698451, 'outstanding'),\n",
       " (1.2188841033789179, 'awesome'),\n",
       " (1.2113299885856827, '2019'),\n",
       " (1.2104368633839915, 'extraordinarily'),\n",
       " (1.2054351647573645, '2025')]"
      ]
     },
     "execution_count": 136,
     "metadata": {},
     "output_type": "execute_result"
    }
   ],
   "source": [
    "sorted(zip(model.coef_, count_vectorizer.get_feature_names()),reverse=True)[:20]"
   ]
  },
  {
   "cell_type": "code",
   "execution_count": null,
   "metadata": {
    "collapsed": true
   },
   "outputs": [],
   "source": []
  },
  {
   "cell_type": "markdown",
   "metadata": {},
   "source": [
    "## Additional Plots"
   ]
  },
  {
   "cell_type": "code",
   "execution_count": null,
   "metadata": {},
   "outputs": [],
   "source": []
  },
  {
   "cell_type": "code",
   "execution_count": 96,
   "metadata": {},
   "outputs": [
    {
     "data": {
      "text/plain": [
       "<matplotlib.axes._subplots.AxesSubplot at 0x12d424ba8>"
      ]
     },
     "execution_count": 96,
     "metadata": {},
     "output_type": "execute_result"
    },
    {
     "data": {
      "image/png": "[encoded data removed]",
      "text/plain": [
       "<matplotlib.figure.Figure at 0x12d354240>"
      ]
     },
     "metadata": {},
     "output_type": "display_data"
    }
   ],
   "source": [
    "sns.distplot(wine_country_cap_dummy['price'])"
   ]
  },
  {
   "cell_type": "code",
   "execution_count": null,
   "metadata": {
    "collapsed": true
   },
   "outputs": [],
   "source": []
  },
  {
   "cell_type": "code",
   "execution_count": null,
   "metadata": {
    "collapsed": true
   },
   "outputs": [],
   "source": []
  },
  {
   "cell_type": "code",
   "execution_count": null,
   "metadata": {
    "collapsed": true
   },
   "outputs": [],
   "source": []
  },
  {
   "cell_type": "code",
   "execution_count": null,
   "metadata": {
    "collapsed": true
   },
   "outputs": [],
   "source": []
  },
  {
   "cell_type": "code",
   "execution_count": null,
   "metadata": {
    "collapsed": true
   },
   "outputs": [],
   "source": []
  },
  {
   "cell_type": "code",
   "execution_count": null,
   "metadata": {
    "collapsed": true
   },
   "outputs": [],
   "source": []
  },
  {
   "cell_type": "code",
   "execution_count": null,
   "metadata": {
    "collapsed": true
   },
   "outputs": [],
   "source": []
  },
  {
   "cell_type": "code",
   "execution_count": null,
   "metadata": {
    "collapsed": true
   },
   "outputs": [],
   "source": []
  },
  {
   "cell_type": "code",
   "execution_count": null,
   "metadata": {
    "collapsed": true
   },
   "outputs": [],
   "source": []
  }
 ],
 "metadata": {
  "kernelspec": {
   "display_name": "Python 3",
   "language": "python",
   "name": "python3"
  },
  "language_info": {
   "codemirror_mode": {
    "name": "ipython",
    "version": 3
   },
   "file_extension": ".py",
   "mimetype": "text/x-python",
   "name": "python",
   "nbconvert_exporter": "python",
   "pygments_lexer": "ipython3",
   "version": "3.6.1"
  }
 },
 "nbformat": 4,
 "nbformat_minor": 2
}
