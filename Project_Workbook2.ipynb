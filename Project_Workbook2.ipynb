{
 "cells": [
  {
   "cell_type": "markdown",
   "metadata": {},
   "source": [
    "# Project Wine Reviews"
   ]
  },
  {
   "cell_type": "code",
   "execution_count": 1,
   "metadata": {
    "collapsed": true
   },
   "outputs": [],
   "source": [
    "# importing libraries\n",
    "\n",
    "import numpy as np\n",
    "import pandas as pd\n",
    "import matplotlib.pyplot as plt \n",
    "import seaborn as sns\n",
    "% matplotlib inline\n",
    "\n",
    "pd.options.display.max_seq_items = 500\n",
    "pd.set_option('max_rows', 500)\n",
    "pd.set_option('max_columns', 500)"
   ]
  },
  {
   "cell_type": "code",
   "execution_count": 2,
   "metadata": {
    "collapsed": true
   },
   "outputs": [],
   "source": [
    "# importing data\n",
    "wine = pd.read_csv('winemag-data_first150k.csv')"
   ]
  },
  {
   "cell_type": "code",
   "execution_count": 3,
   "metadata": {
    "collapsed": true
   },
   "outputs": [],
   "source": [
    "wine = wine.dropna(subset=['price'])"
   ]
  },
  {
   "cell_type": "code",
   "execution_count": 4,
   "metadata": {
    "collapsed": true
   },
   "outputs": [],
   "source": [
    "wine['points_bins'] = pd.qcut(wine['points'], q=5, \n",
    "                              labels=['very low','low', 'medium', 'high', 'very high'])"
   ]
  },
  {
   "cell_type": "code",
   "execution_count": 5,
   "metadata": {},
   "outputs": [
    {
     "name": "stdout",
     "output_type": "stream",
     "text": [
      "136368\n"
     ]
    }
   ],
   "source": [
    "wine_price_cap = wine[wine.price < 200] \n",
    "print(len(wine_price_cap))"
   ]
  },
  {
   "cell_type": "code",
   "execution_count": 6,
   "metadata": {},
   "outputs": [
    {
     "data": {
      "text/html": [
       "<div>\n",
       "<table border=\"1\" class=\"dataframe\">\n",
       "  <thead>\n",
       "    <tr style=\"text-align: right;\">\n",
       "      <th></th>\n",
       "      <th>country</th>\n",
       "      <th>description</th>\n",
       "      <th>designation</th>\n",
       "      <th>points</th>\n",
       "      <th>price</th>\n",
       "      <th>province</th>\n",
       "      <th>region_1</th>\n",
       "      <th>region_2</th>\n",
       "      <th>variety</th>\n",
       "      <th>winery</th>\n",
       "      <th>points_bins</th>\n",
       "    </tr>\n",
       "  </thead>\n",
       "  <tbody>\n",
       "    <tr>\n",
       "      <th>1</th>\n",
       "      <td>Spain</td>\n",
       "      <td>Ripe aromas of fig, blackberry and cassis are ...</td>\n",
       "      <td>Carodorum Selección Especial Reserva</td>\n",
       "      <td>96</td>\n",
       "      <td>110.0</td>\n",
       "      <td>Northern Spain</td>\n",
       "      <td>Toro</td>\n",
       "      <td>NaN</td>\n",
       "      <td>Tinta de Toro</td>\n",
       "      <td>Bodega Carmen Rodríguez</td>\n",
       "      <td>very high</td>\n",
       "    </tr>\n",
       "  </tbody>\n",
       "</table>\n",
       "</div>"
      ],
      "text/plain": [
       "  country                                        description  \\\n",
       "1   Spain  Ripe aromas of fig, blackberry and cassis are ...   \n",
       "\n",
       "                            designation  points  price        province  \\\n",
       "1  Carodorum Selección Especial Reserva      96  110.0  Northern Spain   \n",
       "\n",
       "  region_1 region_2        variety                   winery points_bins  \n",
       "1     Toro      NaN  Tinta de Toro  Bodega Carmen Rodríguez   very high  "
      ]
     },
     "execution_count": 6,
     "metadata": {},
     "output_type": "execute_result"
    }
   ],
   "source": [
    "wine_price_cap.head(1)"
   ]
  },
  {
   "cell_type": "code",
   "execution_count": 7,
   "metadata": {},
   "outputs": [
    {
     "name": "stdout",
     "output_type": "stream",
     "text": [
      "US             62021\n",
      "Italy          18641\n",
      "France         14375\n",
      "Spain           8102\n",
      "Chile           5753\n",
      "Argentina       5580\n",
      "Australia       4855\n",
      "Portugal        4156\n",
      "New Zealand     3070\n",
      "Austria         2480\n",
      "Name: country, dtype: int64\n"
     ]
    }
   ],
   "source": [
    "#wine_grouped = wine.groupby(['country'])\n",
    "print(wine_price_cap.country.value_counts()[:10])"
   ]
  },
  {
   "cell_type": "code",
   "execution_count": 8,
   "metadata": {},
   "outputs": [
    {
     "data": {
      "text/html": [
       "<div>\n",
       "<table border=\"1\" class=\"dataframe\">\n",
       "  <thead>\n",
       "    <tr style=\"text-align: right;\">\n",
       "      <th></th>\n",
       "      <th>country</th>\n",
       "      <th>description</th>\n",
       "      <th>designation</th>\n",
       "      <th>points</th>\n",
       "      <th>price</th>\n",
       "      <th>province</th>\n",
       "      <th>region_1</th>\n",
       "      <th>region_2</th>\n",
       "      <th>variety</th>\n",
       "      <th>winery</th>\n",
       "      <th>points_bins</th>\n",
       "    </tr>\n",
       "  </thead>\n",
       "  <tbody>\n",
       "    <tr>\n",
       "      <th>1</th>\n",
       "      <td>Spain</td>\n",
       "      <td>Ripe aromas of fig, blackberry and cassis are ...</td>\n",
       "      <td>Carodorum Selección Especial Reserva</td>\n",
       "      <td>96</td>\n",
       "      <td>110.0</td>\n",
       "      <td>Northern Spain</td>\n",
       "      <td>Toro</td>\n",
       "      <td>NaN</td>\n",
       "      <td>Tinta de Toro</td>\n",
       "      <td>Bodega Carmen Rodríguez</td>\n",
       "      <td>very high</td>\n",
       "    </tr>\n",
       "  </tbody>\n",
       "</table>\n",
       "</div>"
      ],
      "text/plain": [
       "  country                                        description  \\\n",
       "1   Spain  Ripe aromas of fig, blackberry and cassis are ...   \n",
       "\n",
       "                            designation  points  price        province  \\\n",
       "1  Carodorum Selección Especial Reserva      96  110.0  Northern Spain   \n",
       "\n",
       "  region_1 region_2        variety                   winery points_bins  \n",
       "1     Toro      NaN  Tinta de Toro  Bodega Carmen Rodríguez   very high  "
      ]
     },
     "execution_count": 8,
     "metadata": {},
     "output_type": "execute_result"
    }
   ],
   "source": [
    "wine_country_cap = wine_price_cap[\n",
    "    wine_price_cap.country.isin(wine_price_cap.country.value_counts()[:12].index)]\n",
    "wine_country_cap.head(1)"
   ]
  },
  {
   "cell_type": "markdown",
   "metadata": {},
   "source": [
    "## Step 2: Decision Trees - Regression"
   ]
  },
  {
   "cell_type": "code",
   "execution_count": 9,
   "metadata": {
    "collapsed": true
   },
   "outputs": [],
   "source": [
    "# import Sklean modules\n",
    "from sklearn.model_selection import train_test_split\n",
    "from sklearn import tree\n",
    "from sklearn.tree import DecisionTreeRegressor\n",
    "from sklearn.metrics import mean_squared_error, mean_absolute_error"
   ]
  },
  {
   "cell_type": "code",
   "execution_count": 10,
   "metadata": {},
   "outputs": [
    {
     "data": {
      "text/html": [
       "<div>\n",
       "<table border=\"1\" class=\"dataframe\">\n",
       "  <thead>\n",
       "    <tr style=\"text-align: right;\">\n",
       "      <th></th>\n",
       "      <th>country</th>\n",
       "      <th>description</th>\n",
       "      <th>designation</th>\n",
       "      <th>points</th>\n",
       "      <th>price</th>\n",
       "      <th>province</th>\n",
       "      <th>region_1</th>\n",
       "      <th>region_2</th>\n",
       "      <th>variety</th>\n",
       "      <th>winery</th>\n",
       "      <th>points_bins</th>\n",
       "      <th>Argentina</th>\n",
       "      <th>Australia</th>\n",
       "      <th>Austria</th>\n",
       "      <th>Chile</th>\n",
       "      <th>France</th>\n",
       "      <th>Germany</th>\n",
       "      <th>Italy</th>\n",
       "      <th>New Zealand</th>\n",
       "      <th>Portugal</th>\n",
       "      <th>South Africa</th>\n",
       "      <th>Spain</th>\n",
       "      <th>US</th>\n",
       "    </tr>\n",
       "  </thead>\n",
       "  <tbody>\n",
       "    <tr>\n",
       "      <th>1</th>\n",
       "      <td>Spain</td>\n",
       "      <td>Ripe aromas of fig, blackberry and cassis are ...</td>\n",
       "      <td>Carodorum Selección Especial Reserva</td>\n",
       "      <td>96</td>\n",
       "      <td>110.0</td>\n",
       "      <td>Northern Spain</td>\n",
       "      <td>Toro</td>\n",
       "      <td>NaN</td>\n",
       "      <td>Tinta de Toro</td>\n",
       "      <td>Bodega Carmen Rodríguez</td>\n",
       "      <td>very high</td>\n",
       "      <td>0.0</td>\n",
       "      <td>0.0</td>\n",
       "      <td>0.0</td>\n",
       "      <td>0.0</td>\n",
       "      <td>0.0</td>\n",
       "      <td>0.0</td>\n",
       "      <td>0.0</td>\n",
       "      <td>0.0</td>\n",
       "      <td>0.0</td>\n",
       "      <td>0.0</td>\n",
       "      <td>1.0</td>\n",
       "      <td>0.0</td>\n",
       "    </tr>\n",
       "  </tbody>\n",
       "</table>\n",
       "</div>"
      ],
      "text/plain": [
       "  country                                        description  \\\n",
       "1   Spain  Ripe aromas of fig, blackberry and cassis are ...   \n",
       "\n",
       "                            designation  points  price        province  \\\n",
       "1  Carodorum Selección Especial Reserva      96  110.0  Northern Spain   \n",
       "\n",
       "  region_1 region_2        variety                   winery points_bins  \\\n",
       "1     Toro      NaN  Tinta de Toro  Bodega Carmen Rodríguez   very high   \n",
       "\n",
       "   Argentina  Australia  Austria  Chile  France  Germany  Italy  New Zealand  \\\n",
       "1        0.0        0.0      0.0    0.0     0.0      0.0    0.0          0.0   \n",
       "\n",
       "   Portugal  South Africa  Spain   US  \n",
       "1       0.0           0.0    1.0  0.0  "
      ]
     },
     "execution_count": 10,
     "metadata": {},
     "output_type": "execute_result"
    }
   ],
   "source": [
    "# convert country column into dummy varables\n",
    "wine_country_dummy = pd.get_dummies(wine_country_cap['country'])\n",
    "wine_country_cap_dummy = pd.concat([wine_country_cap, wine_country_dummy], axis=1)\n",
    "wine_country_cap_dummy.head(1)"
   ]
  },
  {
   "cell_type": "code",
   "execution_count": 47,
   "metadata": {},
   "outputs": [
    {
     "name": "stdout",
     "output_type": "stream",
     "text": [
      "Number of Observations in Trainig Set:     93494   (70%) \n",
      "Number of Observations in Validation Set:  20035   (15%) \n",
      "Number of Observations in Test Set:        20035   (15%)\n"
     ]
    }
   ],
   "source": [
    "train, validate, test = np.split(wine_country_cap_dummy.sample(frac=1),\n",
    "                                 [int(0.7 * len(wine_country_cap_dummy)), \n",
    "                                  int(0.85 * len(wine_country_cap_dummy))])\n",
    "print('Number of Observations in Trainig Set:    ', len(train), '  (70%)',\n",
    "      '\\nNumber of Observations in Validation Set: ', len(validate),'  (15%)',\n",
    "      '\\nNumber of Observations in Test Set:       ', len(test),'  (15%)')"
   ]
  },
  {
   "cell_type": "code",
   "execution_count": 12,
   "metadata": {
    "collapsed": true
   },
   "outputs": [],
   "source": [
    "X_train = train[['price','Argentina','Australia','Austria','Chile',\n",
    "                            'France','Germany','Italy','New Zealand','Portugal',\n",
    "                            'South Africa','Spain','US']]\n",
    "X_train = np.array(X_train)\n",
    "y_train = train['points']\n",
    "y_train = np.array(y_train)"
   ]
  },
  {
   "cell_type": "code",
   "execution_count": 13,
   "metadata": {
    "collapsed": true
   },
   "outputs": [],
   "source": [
    "X_validate = validate[['price','Argentina','Australia','Austria','Chile',\n",
    "                            'France','Germany','Italy','New Zealand','Portugal',\n",
    "                            'South Africa','Spain','US']]\n",
    "X_validate = np.array(X_validate)\n",
    "y_validate = validate['points']\n",
    "y_validate = np.array(y_validate)"
   ]
  },
  {
   "cell_type": "code",
   "execution_count": 14,
   "metadata": {
    "collapsed": true
   },
   "outputs": [],
   "source": [
    "X_test = test[['price','Argentina','Australia','Austria','Chile',\n",
    "                            'France','Germany','Italy','New Zealand','Portugal',\n",
    "                            'South Africa','Spain','US']]\n",
    "X_test = np.array(X_test)\n",
    "y_test = test['points']\n",
    "y_test = np.array(y_test)"
   ]
  },
  {
   "cell_type": "code",
   "execution_count": 15,
   "metadata": {
    "collapsed": true
   },
   "outputs": [],
   "source": [
    "# build model - fit - predict optimal model based on DT_validation output\n",
    "model = DecisionTreeRegressor(min_samples_leaf=5)\n",
    "model.fit(X_train, y_train)\n",
    "y_pred = model.predict(X_validate)\n",
    "y_pred_test = model.predict(X_test)"
   ]
  },
  {
   "cell_type": "code",
   "execution_count": 16,
   "metadata": {},
   "outputs": [
    {
     "name": "stdout",
     "output_type": "stream",
     "text": [
      "MAE over training set:     1.96182485713\n",
      "MAE over validate set:     1.99214924119\n",
      "----------------------------\n",
      "MSE over training set:     6.14679501295\n",
      "MSE over vaildate set:     6.32999503076\n",
      "----------------------------\n",
      "R^2 over training set:     0.392159679575\n",
      "R^2 over validate set:     0.384855660647\n"
     ]
    }
   ],
   "source": [
    "# MAE evaluation\n",
    "y_training_pred = model.predict(X_train)\n",
    "print('MAE over training set:    ', mean_absolute_error(y_training_pred, y_train))\n",
    "print('MAE over validate set:    ', mean_absolute_error(y_pred, y_validate))\n",
    "print('----------------------------')\n",
    "# MSE evaluation\n",
    "print('MSE over training set:    ', mean_squared_error(y_training_pred, y_train))\n",
    "print('MSE over vaildate set:    ', mean_squared_error(y_pred, y_validate))\n",
    "print('----------------------------')\n",
    "# R squared evaluation\n",
    "print('R^2 over training set:    ', model.score(X_train, y_train))\n",
    "print('R^2 over validate set:    ', model.score(X_validate, y_validate))"
   ]
  },
  {
   "cell_type": "code",
   "execution_count": 17,
   "metadata": {},
   "outputs": [
    {
     "data": {
      "text/plain": [
       "[(0.93989193172714591, 'price'),\n",
       " (0.022027608373969117, 'US'),\n",
       " (0.0097927393160933858, 'Portugal'),\n",
       " (0.0070352694766186675, 'Spain'),\n",
       " (0.005862827504023194, 'Argentina'),\n",
       " (0.0045664205830465267, 'Austria'),\n",
       " (0.0027383364980359775, 'Italy'),\n",
       " (0.0019462612553351225, 'Chile'),\n",
       " (0.0015777421081365095, 'France'),\n",
       " (0.0014683937868380139, 'Germany'),\n",
       " (0.0012553514828319966, 'Australia'),\n",
       " (0.0010240618459166149, 'New Zealand'),\n",
       " (0.00081305604200903171, 'South Africa')]"
      ]
     },
     "execution_count": 17,
     "metadata": {},
     "output_type": "execute_result"
    }
   ],
   "source": [
    "# Top 10 features\n",
    "top_tree_weights = sorted(zip(model.feature_importances_, ['price','Argentina','Australia','Austria','Chile',\n",
    "                                        'France','Germany','Italy','New Zealand','Portugal',\n",
    "                                        'South Africa','Spain','US']),reverse=True)\n",
    "top_tree_weights"
   ]
  },
  {
   "cell_type": "code",
   "execution_count": 18,
   "metadata": {
    "collapsed": true
   },
   "outputs": [],
   "source": [
    "df1 = []\n",
    "df2 = []\n",
    "for i,j in top_tree_weights:\n",
    "    df1.append(i)\n",
    "    df2.append(j)\n",
    "top_tree = pd.DataFrame({'Feature':df2,'Importance':df1})\n",
    "#print(top_features)"
   ]
  },
  {
   "cell_type": "code",
   "execution_count": 19,
   "metadata": {},
   "outputs": [
    {
     "data": {
      "image/png": "[encoded data removed]",
      "text/plain": [
       "<matplotlib.figure.Figure at 0x11d67da58>"
      ]
     },
     "metadata": {},
     "output_type": "display_data"
    }
   ],
   "source": [
    "sns.barplot(y='Feature',\n",
    "            x='Importance',\n",
    "            data=top_tree)\n",
    "sns.plt.xlim(0,0.1)\n",
    "sns.plt.title('DT Regression Result - Imporance of Features')\n",
    "sns.plt.savefig('tree_weight.png')"
   ]
  },
  {
   "cell_type": "markdown",
   "metadata": {},
   "source": [
    "# Step 3: Linear SVR Regression"
   ]
  },
  {
   "cell_type": "markdown",
   "metadata": {},
   "source": [
    "### Count Vectorizer"
   ]
  },
  {
   "cell_type": "code",
   "execution_count": 20,
   "metadata": {
    "collapsed": true
   },
   "outputs": [],
   "source": [
    "from sklearn.svm import LinearSVR"
   ]
  },
  {
   "cell_type": "code",
   "execution_count": 21,
   "metadata": {
    "collapsed": true
   },
   "outputs": [],
   "source": [
    "# Step 1: Count Vectorization\n",
    "from sklearn.feature_extraction.text import CountVectorizer"
   ]
  },
  {
   "cell_type": "code",
   "execution_count": 22,
   "metadata": {
    "collapsed": true
   },
   "outputs": [],
   "source": [
    "count_vectorizer = CountVectorizer(stop_words='english', min_df=20)\n",
    "X_train = count_vectorizer.fit_transform(train['description'])\n",
    "X_validate = count_vectorizer.transform(validate['description'])\n",
    "X_test = count_vectorizer.transform(test['description'])"
   ]
  },
  {
   "cell_type": "code",
   "execution_count": 23,
   "metadata": {},
   "outputs": [
    {
     "name": "stdout",
     "output_type": "stream",
     "text": [
      "(93494, 5478)\n",
      "<class 'scipy.sparse.csr.csr_matrix'>\n"
     ]
    }
   ],
   "source": [
    "print(X_train.shape)\n",
    "print(type(X_train))"
   ]
  },
  {
   "cell_type": "code",
   "execution_count": 24,
   "metadata": {
    "collapsed": true
   },
   "outputs": [],
   "source": [
    "# build model - fit - predict with optimal sample parameter\n",
    "model = LinearSVR(C=0.1)\n",
    "model.fit(X_train, y_train)\n",
    "y_pred2 = model.predict(X_validate)\n",
    "y_pred_test2 = model.predict(X_test)"
   ]
  },
  {
   "cell_type": "code",
   "execution_count": 25,
   "metadata": {},
   "outputs": [
    {
     "name": "stdout",
     "output_type": "stream",
     "text": [
      "0.729942985616\n",
      "<bound method BaseEstimator.get_params of LinearSVR(C=0.1, dual=True, epsilon=0.0, fit_intercept=True,\n",
      "     intercept_scaling=1.0, loss='epsilon_insensitive', max_iter=1000,\n",
      "     random_state=None, tol=0.0001, verbose=0)>\n"
     ]
    }
   ],
   "source": [
    "print(model.score(X_train, y_train))\n",
    "print(model.get_params)"
   ]
  },
  {
   "cell_type": "code",
   "execution_count": 26,
   "metadata": {},
   "outputs": [
    {
     "name": "stdout",
     "output_type": "stream",
     "text": [
      "MAE over training set:     1.24154947843\n",
      "MAE over validate set:     1.33751104174\n",
      "----------------------------\n",
      "MSE over training set:     2.73095589985\n",
      "MSE over vaildate set:     2.99103057682\n",
      "----------------------------\n",
      "R^2 over training set:     0.729942985616\n",
      "R^2 over validate set:     0.709333811602\n"
     ]
    }
   ],
   "source": [
    "# MAE evaluation\n",
    "y_training_pred = model.predict(X_train)\n",
    "print('MAE over training set:    ', mean_absolute_error(y_training_pred, y_train))\n",
    "print('MAE over validate set:    ', mean_absolute_error(y_pred2, y_validate))\n",
    "print('----------------------------')\n",
    "# MSE evaluation\n",
    "print('MSE over training set:    ', mean_squared_error(y_training_pred, y_train))\n",
    "print('MSE over vaildate set:    ', mean_squared_error(y_pred2, y_validate))\n",
    "print('----------------------------')\n",
    "# R squared evaluation\n",
    "print('R^2 over training set:    ', model.score(X_train, y_train))\n",
    "print('R^2 over validate set:    ', model.score(X_validate, y_validate))"
   ]
  },
  {
   "cell_type": "code",
   "execution_count": 27,
   "metadata": {},
   "outputs": [],
   "source": [
    "top_feature_names = sorted(zip(model.coef_, count_vectorizer.get_feature_names()),reverse=True)[:20]"
   ]
  },
  {
   "cell_type": "code",
   "execution_count": 28,
   "metadata": {
    "collapsed": true
   },
   "outputs": [],
   "source": [
    "df1 = []\n",
    "df2 = []\n",
    "for i,j in top_feature_names:\n",
    "    df1.append(i)\n",
    "    df2.append(j)\n",
    "top_features = pd.DataFrame({'Keyword':df2,'Importance':df1})\n",
    "#print(top_features)"
   ]
  },
  {
   "cell_type": "code",
   "execution_count": 37,
   "metadata": {},
   "outputs": [
    {
     "data": {
      "image/png": "[encoded data removed]",
      "text/plain": [
       "<matplotlib.figure.Figure at 0x129c34a90>"
      ]
     },
     "metadata": {},
     "output_type": "display_data"
    }
   ],
   "source": [
    "sns.barplot(y='Keyword',\n",
    "            x='Importance',\n",
    "            data=top_features)\n",
    "sns.plt.xlim(1,1.55)\n",
    "sns.plt.title('Top 20 Wine Description')\n",
    "sns.plt.savefig('description_count.png')"
   ]
  },
  {
   "cell_type": "markdown",
   "metadata": {},
   "source": [
    "# Step4: Combining Models"
   ]
  },
  {
   "cell_type": "code",
   "execution_count": 30,
   "metadata": {
    "collapsed": true
   },
   "outputs": [],
   "source": [
    "from sklearn.metrics import r2_score"
   ]
  },
  {
   "cell_type": "code",
   "execution_count": 31,
   "metadata": {
    "collapsed": true
   },
   "outputs": [],
   "source": [
    "def r2_max():\n",
    "    r2 = []\n",
    "    for w in np.arange(0,1,0.1):\n",
    "        y_combined = (1-w) * y_pred + w * y_pred2\n",
    "        score = r2_score(y_validate, y_combined)\n",
    "        r2.append((w,score))\n",
    "    return max(r2, key=lambda pair:pair[1])"
   ]
  },
  {
   "cell_type": "code",
   "execution_count": 32,
   "metadata": {
    "collapsed": true
   },
   "outputs": [],
   "source": [
    "w = r2_max()[0]"
   ]
  },
  {
   "cell_type": "code",
   "execution_count": 33,
   "metadata": {
    "collapsed": true
   },
   "outputs": [],
   "source": [
    "y_combined = (1-w) * y_pred + w * y_pred2"
   ]
  },
  {
   "cell_type": "code",
   "execution_count": 34,
   "metadata": {},
   "outputs": [
    {
     "name": "stdout",
     "output_type": "stream",
     "text": [
      "MAE over validate set:     1.2968476116\n"
     ]
    }
   ],
   "source": [
    "# MAE evaluation\n",
    "print('MAE over validate set:    ', mean_absolute_error(y_combined, y_validate))"
   ]
  },
  {
   "cell_type": "code",
   "execution_count": 35,
   "metadata": {},
   "outputs": [
    {
     "data": {
      "text/plain": [
       "0.73364970988596512"
      ]
     },
     "execution_count": 35,
     "metadata": {},
     "output_type": "execute_result"
    }
   ],
   "source": [
    "r2_score(y_validate, y_combined)"
   ]
  },
  {
   "cell_type": "markdown",
   "metadata": {},
   "source": [
    "# Step5: Predictions over Test Set "
   ]
  },
  {
   "cell_type": "code",
   "execution_count": 36,
   "metadata": {
    "scrolled": true
   },
   "outputs": [
    {
     "name": "stdout",
     "output_type": "stream",
     "text": [
      "MAE over test set:     1.28085967123\n",
      "MSE over test set:     2.67627032549\n",
      "R^2 over test set:     0.736753897554\n"
     ]
    }
   ],
   "source": [
    "y_combined = (1-w) * y_pred_test + w * y_pred_test2\n",
    "# MAE evaluation\n",
    "print('MAE over test set:    ', mean_absolute_error(y_combined, y_test))\n",
    "print('MSE over test set:    ', mean_squared_error(y_combined, y_test))\n",
    "print('R^2 over test set:    ', r2_score(y_test, y_combined))"
   ]
  },
  {
   "cell_type": "code",
   "execution_count": null,
   "metadata": {
    "collapsed": true
   },
   "outputs": [],
   "source": []
  },
  {
   "cell_type": "code",
   "execution_count": null,
   "metadata": {
    "collapsed": true
   },
   "outputs": [],
   "source": []
  },
  {
   "cell_type": "code",
   "execution_count": null,
   "metadata": {
    "collapsed": true
   },
   "outputs": [],
   "source": []
  },
  {
   "cell_type": "code",
   "execution_count": null,
   "metadata": {
    "collapsed": true
   },
   "outputs": [],
   "source": []
  }
 ],
 "metadata": {
  "kernelspec": {
   "display_name": "Python 3",
   "language": "python",
   "name": "python3"
  },
  "language_info": {
   "codemirror_mode": {
    "name": "ipython",
    "version": 3
   },
   "file_extension": ".py",
   "mimetype": "text/x-python",
   "name": "python",
   "nbconvert_exporter": "python",
   "pygments_lexer": "ipython3",
   "version": "3.6.1"
  }
 },
 "nbformat": 4,
 "nbformat_minor": 2
}
