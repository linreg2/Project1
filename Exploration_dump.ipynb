{
 "cells": [
  {
   "cell_type": "code",
   "execution_count": 1,
   "metadata": {
    "collapsed": true
   },
   "outputs": [],
   "source": [
    "# importing libraries\n",
    "\n",
    "import numpy as np\n",
    "import pandas as pd\n",
    "import matplotlib.pyplot as plt \n",
    "import seaborn as sns\n",
    "% matplotlib inline\n",
    "\n",
    "pd.options.display.max_seq_items = 500\n",
    "pd.set_option('max_rows', 500)\n",
    "pd.set_option('max_columns', 500)"
   ]
  },
  {
   "cell_type": "code",
   "execution_count": 2,
   "metadata": {
    "collapsed": true
   },
   "outputs": [],
   "source": [
    "# importing data\n",
    "wine = pd.read_csv('winemag-data_first150k.csv')"
   ]
  },
  {
   "cell_type": "code",
   "execution_count": 3,
   "metadata": {
    "collapsed": true
   },
   "outputs": [],
   "source": [
    "def counter(dframe):\n",
    "    counting = 0\n",
    "    #print(dframe.isnull())\n",
    "    for i in dframe.isnull():\n",
    "        if i == True:\n",
    "            counting += 1\n",
    "    return counting"
   ]
  },
  {
   "cell_type": "code",
   "execution_count": 4,
   "metadata": {},
   "outputs": [
    {
     "name": "stdout",
     "output_type": "stream",
     "text": [
      "<class 'pandas.core.frame.DataFrame'>\n",
      "RangeIndex: 150930 entries, 0 to 150929\n",
      "Data columns (total 10 columns):\n",
      "country        150925 non-null object\n",
      "description    150930 non-null object\n",
      "designation    105195 non-null object\n",
      "points         150930 non-null int64\n",
      "price          137235 non-null float64\n",
      "province       150925 non-null object\n",
      "region_1       125870 non-null object\n",
      "region_2       60953 non-null object\n",
      "variety        150930 non-null object\n",
      "winery         150930 non-null object\n",
      "dtypes: float64(1), int64(1), object(8)\n",
      "memory usage: 11.5+ MB\n"
     ]
    }
   ],
   "source": [
    "# displying data structure\n",
    "wine.info()"
   ]
  },
  {
   "cell_type": "code",
   "execution_count": 5,
   "metadata": {},
   "outputs": [
    {
     "data": {
      "text/html": [
       "<div>\n",
       "<table border=\"1\" class=\"dataframe\">\n",
       "  <thead>\n",
       "    <tr style=\"text-align: right;\">\n",
       "      <th></th>\n",
       "      <th>country</th>\n",
       "      <th>description</th>\n",
       "      <th>designation</th>\n",
       "      <th>points</th>\n",
       "      <th>price</th>\n",
       "      <th>province</th>\n",
       "      <th>region_1</th>\n",
       "      <th>region_2</th>\n",
       "      <th>variety</th>\n",
       "      <th>winery</th>\n",
       "    </tr>\n",
       "  </thead>\n",
       "  <tbody>\n",
       "    <tr>\n",
       "      <th>0</th>\n",
       "      <td>US</td>\n",
       "      <td>This tremendous 100% varietal wine hails from ...</td>\n",
       "      <td>Martha's Vineyard</td>\n",
       "      <td>96</td>\n",
       "      <td>235.0</td>\n",
       "      <td>California</td>\n",
       "      <td>Napa Valley</td>\n",
       "      <td>Napa</td>\n",
       "      <td>Cabernet Sauvignon</td>\n",
       "      <td>Heitz</td>\n",
       "    </tr>\n",
       "    <tr>\n",
       "      <th>1</th>\n",
       "      <td>Spain</td>\n",
       "      <td>Ripe aromas of fig, blackberry and cassis are ...</td>\n",
       "      <td>Carodorum Selección Especial Reserva</td>\n",
       "      <td>96</td>\n",
       "      <td>110.0</td>\n",
       "      <td>Northern Spain</td>\n",
       "      <td>Toro</td>\n",
       "      <td>NaN</td>\n",
       "      <td>Tinta de Toro</td>\n",
       "      <td>Bodega Carmen Rodríguez</td>\n",
       "    </tr>\n",
       "    <tr>\n",
       "      <th>2</th>\n",
       "      <td>US</td>\n",
       "      <td>Mac Watson honors the memory of a wine once ma...</td>\n",
       "      <td>Special Selected Late Harvest</td>\n",
       "      <td>96</td>\n",
       "      <td>90.0</td>\n",
       "      <td>California</td>\n",
       "      <td>Knights Valley</td>\n",
       "      <td>Sonoma</td>\n",
       "      <td>Sauvignon Blanc</td>\n",
       "      <td>Macauley</td>\n",
       "    </tr>\n",
       "  </tbody>\n",
       "</table>\n",
       "</div>"
      ],
      "text/plain": [
       "  country                                        description  \\\n",
       "0      US  This tremendous 100% varietal wine hails from ...   \n",
       "1   Spain  Ripe aromas of fig, blackberry and cassis are ...   \n",
       "2      US  Mac Watson honors the memory of a wine once ma...   \n",
       "\n",
       "                            designation  points  price        province  \\\n",
       "0                     Martha's Vineyard      96  235.0      California   \n",
       "1  Carodorum Selección Especial Reserva      96  110.0  Northern Spain   \n",
       "2         Special Selected Late Harvest      96   90.0      California   \n",
       "\n",
       "         region_1 region_2             variety                   winery  \n",
       "0     Napa Valley     Napa  Cabernet Sauvignon                    Heitz  \n",
       "1            Toro      NaN       Tinta de Toro  Bodega Carmen Rodríguez  \n",
       "2  Knights Valley   Sonoma     Sauvignon Blanc                 Macauley  "
      ]
     },
     "execution_count": 5,
     "metadata": {},
     "output_type": "execute_result"
    }
   ],
   "source": [
    "wine.head(3)"
   ]
  },
  {
   "cell_type": "code",
   "execution_count": 6,
   "metadata": {},
   "outputs": [
    {
     "name": "stderr",
     "output_type": "stream",
     "text": [
      "/Users/julien/anaconda/lib/python3.6/site-packages/numpy/lib/function_base.py:4116: RuntimeWarning: Invalid value encountered in percentile\n",
      "  interpolation=interpolation)\n"
     ]
    },
    {
     "data": {
      "text/html": [
       "<div>\n",
       "<table border=\"1\" class=\"dataframe\">\n",
       "  <thead>\n",
       "    <tr style=\"text-align: right;\">\n",
       "      <th></th>\n",
       "      <th>count</th>\n",
       "      <th>mean</th>\n",
       "      <th>std</th>\n",
       "      <th>min</th>\n",
       "      <th>25%</th>\n",
       "      <th>50%</th>\n",
       "      <th>75%</th>\n",
       "      <th>max</th>\n",
       "    </tr>\n",
       "  </thead>\n",
       "  <tbody>\n",
       "    <tr>\n",
       "      <th>points</th>\n",
       "      <td>150930.0</td>\n",
       "      <td>87.888418</td>\n",
       "      <td>3.222392</td>\n",
       "      <td>80.0</td>\n",
       "      <td>86.0</td>\n",
       "      <td>88.0</td>\n",
       "      <td>90.0</td>\n",
       "      <td>100.0</td>\n",
       "    </tr>\n",
       "    <tr>\n",
       "      <th>price</th>\n",
       "      <td>137235.0</td>\n",
       "      <td>33.131482</td>\n",
       "      <td>36.322536</td>\n",
       "      <td>4.0</td>\n",
       "      <td>NaN</td>\n",
       "      <td>NaN</td>\n",
       "      <td>NaN</td>\n",
       "      <td>2300.0</td>\n",
       "    </tr>\n",
       "  </tbody>\n",
       "</table>\n",
       "</div>"
      ],
      "text/plain": [
       "           count       mean        std   min   25%   50%   75%     max\n",
       "points  150930.0  87.888418   3.222392  80.0  86.0  88.0  90.0   100.0\n",
       "price   137235.0  33.131482  36.322536   4.0   NaN   NaN   NaN  2300.0"
      ]
     },
     "execution_count": 6,
     "metadata": {},
     "output_type": "execute_result"
    }
   ],
   "source": [
    "wine.describe().T"
   ]
  },
  {
   "cell_type": "code",
   "execution_count": 7,
   "metadata": {},
   "outputs": [
    {
     "data": {
      "text/plain": [
       "0"
      ]
     },
     "execution_count": 7,
     "metadata": {},
     "output_type": "execute_result"
    }
   ],
   "source": [
    "wine = wine.dropna(subset=['price'])\n",
    "counter(wine['price'])"
   ]
  },
  {
   "cell_type": "code",
   "execution_count": 8,
   "metadata": {
    "collapsed": true
   },
   "outputs": [],
   "source": [
    "wine['points_bins'] = pd.qcut(wine['points'], q=5, \n",
    "                              labels=['very low','low', 'medium', 'high', 'very high'])\n"
   ]
  },
  {
   "cell_type": "code",
   "execution_count": 9,
   "metadata": {},
   "outputs": [
    {
     "name": "stdout",
     "output_type": "stream",
     "text": [
      "136368\n"
     ]
    }
   ],
   "source": [
    "wine_price_cap = wine[wine.price < 200] \n",
    "print(len(wine_price_cap))"
   ]
  },
  {
   "cell_type": "code",
   "execution_count": 10,
   "metadata": {},
   "outputs": [
    {
     "data": {
      "text/plain": [
       "<matplotlib.axes._subplots.AxesSubplot at 0x119ce5cf8>"
      ]
     },
     "execution_count": 10,
     "metadata": {},
     "output_type": "execute_result"
    },
    {
     "data": {
      "image/png": "[encoded data removed]",
      "text/plain": [
       "<matplotlib.figure.Figure at 0x108587748>"
      ]
     },
     "metadata": {},
     "output_type": "display_data"
    }
   ],
   "source": [
    "sns.boxplot(y=['points'], data=wine, showfliers=True)"
   ]
  },
  {
   "cell_type": "code",
   "execution_count": 11,
   "metadata": {},
   "outputs": [
    {
     "data": {
      "text/plain": [
       "<matplotlib.axes._subplots.AxesSubplot at 0x110c838d0>"
      ]
     },
     "execution_count": 11,
     "metadata": {},
     "output_type": "execute_result"
    },
    {
     "data": {
      "image/png": "[encoded data removed]",
      "text/plain": [
       "<matplotlib.figure.Figure at 0x110c8ea90>"
      ]
     },
     "metadata": {},
     "output_type": "display_data"
    }
   ],
   "source": [
    "sns.boxplot(x=['price'], data=wine, showfliers=False)"
   ]
  },
  {
   "cell_type": "code",
   "execution_count": 12,
   "metadata": {
    "scrolled": true
   },
   "outputs": [
    {
     "data": {
      "image/png": "[encoded data removed]",
      "text/plain": [
       "<matplotlib.figure.Figure at 0x1167c2dd8>"
      ]
     },
     "metadata": {},
     "output_type": "display_data"
    }
   ],
   "source": [
    "sns.boxplot(y='points_bins',x='price', data=wine_price_cap, showfliers=False)\n",
    "sns.plt.title('Relationship between price and review score')\n",
    "sns.plt.savefig('comp_price_points_bins')"
   ]
  },
  {
   "cell_type": "code",
   "execution_count": 13,
   "metadata": {},
   "outputs": [
    {
     "data": {
      "text/html": [
       "<div>\n",
       "<table border=\"1\" class=\"dataframe\">\n",
       "  <thead>\n",
       "    <tr style=\"text-align: right;\">\n",
       "      <th></th>\n",
       "      <th>points</th>\n",
       "      <th>price</th>\n",
       "    </tr>\n",
       "  </thead>\n",
       "  <tbody>\n",
       "    <tr>\n",
       "      <th>count</th>\n",
       "      <td>136368.000000</td>\n",
       "      <td>136368.000000</td>\n",
       "    </tr>\n",
       "    <tr>\n",
       "      <th>mean</th>\n",
       "      <td>87.746018</td>\n",
       "      <td>31.272755</td>\n",
       "    </tr>\n",
       "    <tr>\n",
       "      <th>std</th>\n",
       "      <td>3.181218</td>\n",
       "      <td>23.660380</td>\n",
       "    </tr>\n",
       "    <tr>\n",
       "      <th>min</th>\n",
       "      <td>80.000000</td>\n",
       "      <td>4.000000</td>\n",
       "    </tr>\n",
       "    <tr>\n",
       "      <th>25%</th>\n",
       "      <td>86.000000</td>\n",
       "      <td>16.000000</td>\n",
       "    </tr>\n",
       "    <tr>\n",
       "      <th>50%</th>\n",
       "      <td>88.000000</td>\n",
       "      <td>24.000000</td>\n",
       "    </tr>\n",
       "    <tr>\n",
       "      <th>75%</th>\n",
       "      <td>90.000000</td>\n",
       "      <td>40.000000</td>\n",
       "    </tr>\n",
       "    <tr>\n",
       "      <th>max</th>\n",
       "      <td>100.000000</td>\n",
       "      <td>199.000000</td>\n",
       "    </tr>\n",
       "  </tbody>\n",
       "</table>\n",
       "</div>"
      ],
      "text/plain": [
       "              points          price\n",
       "count  136368.000000  136368.000000\n",
       "mean       87.746018      31.272755\n",
       "std         3.181218      23.660380\n",
       "min        80.000000       4.000000\n",
       "25%        86.000000      16.000000\n",
       "50%        88.000000      24.000000\n",
       "75%        90.000000      40.000000\n",
       "max       100.000000     199.000000"
      ]
     },
     "execution_count": 13,
     "metadata": {},
     "output_type": "execute_result"
    }
   ],
   "source": [
    "wine_price_cap.describe()"
   ]
  },
  {
   "cell_type": "code",
   "execution_count": 14,
   "metadata": {},
   "outputs": [
    {
     "data": {
      "text/html": [
       "<div>\n",
       "<table border=\"1\" class=\"dataframe\">\n",
       "  <thead>\n",
       "    <tr style=\"text-align: right;\">\n",
       "      <th></th>\n",
       "      <th>country</th>\n",
       "      <th>description</th>\n",
       "      <th>designation</th>\n",
       "      <th>points</th>\n",
       "      <th>price</th>\n",
       "      <th>province</th>\n",
       "      <th>region_1</th>\n",
       "      <th>region_2</th>\n",
       "      <th>variety</th>\n",
       "      <th>winery</th>\n",
       "      <th>points_bins</th>\n",
       "    </tr>\n",
       "  </thead>\n",
       "  <tbody>\n",
       "    <tr>\n",
       "      <th>1</th>\n",
       "      <td>Spain</td>\n",
       "      <td>Ripe aromas of fig, blackberry and cassis are ...</td>\n",
       "      <td>Carodorum Selección Especial Reserva</td>\n",
       "      <td>96</td>\n",
       "      <td>110.0</td>\n",
       "      <td>Northern Spain</td>\n",
       "      <td>Toro</td>\n",
       "      <td>NaN</td>\n",
       "      <td>Tinta de Toro</td>\n",
       "      <td>Bodega Carmen Rodríguez</td>\n",
       "      <td>very high</td>\n",
       "    </tr>\n",
       "    <tr>\n",
       "      <th>2</th>\n",
       "      <td>US</td>\n",
       "      <td>Mac Watson honors the memory of a wine once ma...</td>\n",
       "      <td>Special Selected Late Harvest</td>\n",
       "      <td>96</td>\n",
       "      <td>90.0</td>\n",
       "      <td>California</td>\n",
       "      <td>Knights Valley</td>\n",
       "      <td>Sonoma</td>\n",
       "      <td>Sauvignon Blanc</td>\n",
       "      <td>Macauley</td>\n",
       "      <td>very high</td>\n",
       "    </tr>\n",
       "  </tbody>\n",
       "</table>\n",
       "</div>"
      ],
      "text/plain": [
       "  country                                        description  \\\n",
       "1   Spain  Ripe aromas of fig, blackberry and cassis are ...   \n",
       "2      US  Mac Watson honors the memory of a wine once ma...   \n",
       "\n",
       "                            designation  points  price        province  \\\n",
       "1  Carodorum Selección Especial Reserva      96  110.0  Northern Spain   \n",
       "2         Special Selected Late Harvest      96   90.0      California   \n",
       "\n",
       "         region_1 region_2          variety                   winery  \\\n",
       "1            Toro      NaN    Tinta de Toro  Bodega Carmen Rodríguez   \n",
       "2  Knights Valley   Sonoma  Sauvignon Blanc                 Macauley   \n",
       "\n",
       "  points_bins  \n",
       "1   very high  \n",
       "2   very high  "
      ]
     },
     "execution_count": 14,
     "metadata": {},
     "output_type": "execute_result"
    }
   ],
   "source": [
    "wine_price_cap.head(2)"
   ]
  },
  {
   "cell_type": "code",
   "execution_count": 15,
   "metadata": {},
   "outputs": [
    {
     "data": {
      "text/plain": [
       "867"
      ]
     },
     "execution_count": 15,
     "metadata": {},
     "output_type": "execute_result"
    }
   ],
   "source": [
    "len(wine) - len(wine_price_cap)"
   ]
  },
  {
   "cell_type": "code",
   "execution_count": 16,
   "metadata": {},
   "outputs": [
    {
     "data": {
      "text/plain": [
       "<matplotlib.axes._subplots.AxesSubplot at 0x116632438>"
      ]
     },
     "execution_count": 16,
     "metadata": {},
     "output_type": "execute_result"
    },
    {
     "data": {
      "image/png": "[encoded data removed]",
      "text/plain": [
       "<matplotlib.figure.Figure at 0x11407fa58>"
      ]
     },
     "metadata": {},
     "output_type": "display_data"
    }
   ],
   "source": [
    "# plot distribution of intended target variable:\n",
    "wine_price_cap['points'].hist(bins=20, figsize=(6,4))"
   ]
  },
  {
   "cell_type": "code",
   "execution_count": 17,
   "metadata": {},
   "outputs": [
    {
     "data": {
      "text/plain": [
       "<matplotlib.axes._subplots.AxesSubplot at 0x11689bbe0>"
      ]
     },
     "execution_count": 17,
     "metadata": {},
     "output_type": "execute_result"
    },
    {
     "data": {
      "image/png": "[encoded data removed]",
      "text/plain": [
       "<matplotlib.figure.Figure at 0x1168abf60>"
      ]
     },
     "metadata": {},
     "output_type": "display_data"
    }
   ],
   "source": [
    "wine_price_cap['price'].hist(bins=50, figsize=(6,4))"
   ]
  },
  {
   "cell_type": "code",
   "execution_count": 18,
   "metadata": {
    "scrolled": true
   },
   "outputs": [
    {
     "name": "stdout",
     "output_type": "stream",
     "text": [
      "46\n",
      "88532\n",
      "28175\n",
      "446\n",
      "1184\n",
      "18\n",
      "619\n",
      "13826\n"
     ]
    }
   ],
   "source": [
    "print(len(wine_price_cap.country.value_counts()))\n",
    "print(len(wine_price_cap.description.value_counts()))\n",
    "print(len(wine_price_cap.designation.value_counts()))\n",
    "print(len(wine_price_cap.province.value_counts()))\n",
    "print(len(wine_price_cap.region_1.value_counts()))\n",
    "print(len(wine_price_cap.region_2.value_counts()))\n",
    "print(len(wine_price_cap.variety.value_counts()))\n",
    "print(len(wine_price_cap.winery.value_counts()))"
   ]
  },
  {
   "cell_type": "code",
   "execution_count": 19,
   "metadata": {
    "collapsed": true
   },
   "outputs": [],
   "source": [
    "wine_grouped = wine.groupby(['country'])"
   ]
  },
  {
   "cell_type": "code",
   "execution_count": 20,
   "metadata": {},
   "outputs": [
    {
     "data": {
      "image/png": "[encoded data removed]",
      "text/plain": [
       "<matplotlib.figure.Figure at 0x1166d4f60>"
      ]
     },
     "metadata": {},
     "output_type": "display_data"
    }
   ],
   "source": [
    "sns.barplot(y=wine_price_cap.country.value_counts()[:12].index,\n",
    "            x=wine_price_cap.country.value_counts()[:12].values, orient=\"h\")\n",
    "sns.plt.title('Top 12 Wine Destinations')\n",
    "sns.plt.xlabel('Number of Observations')\n",
    "sns.plt.savefig('country_count.png')"
   ]
  },
  {
   "cell_type": "code",
   "execution_count": 21,
   "metadata": {},
   "outputs": [
    {
     "data": {
      "text/plain": [
       "US              62021\n",
       "Italy           18641\n",
       "France          14375\n",
       "Spain            8102\n",
       "Chile            5753\n",
       "Argentina        5580\n",
       "Australia        4855\n",
       "Portugal         4156\n",
       "New Zealand      3070\n",
       "Austria          2480\n",
       "Germany          2294\n",
       "South Africa     2237\n",
       "Greece            872\n",
       "Israel            610\n",
       "Hungary           228\n",
       "Name: country, dtype: int64"
      ]
     },
     "execution_count": 21,
     "metadata": {},
     "output_type": "execute_result"
    }
   ],
   "source": [
    "wine_price_cap.country.value_counts()[:15]"
   ]
  },
  {
   "cell_type": "code",
   "execution_count": 22,
   "metadata": {
    "collapsed": true
   },
   "outputs": [],
   "source": [
    "wine_country_cap = wine_price_cap[\n",
    "    wine_price_cap.country.isin(wine_price_cap.country.value_counts()[:12].index)]"
   ]
  },
  {
   "cell_type": "code",
   "execution_count": 23,
   "metadata": {},
   "outputs": [
    {
     "data": {
      "text/html": [
       "<div>\n",
       "<table border=\"1\" class=\"dataframe\">\n",
       "  <thead>\n",
       "    <tr style=\"text-align: right;\">\n",
       "      <th></th>\n",
       "      <th>country</th>\n",
       "      <th>description</th>\n",
       "      <th>points</th>\n",
       "      <th>price</th>\n",
       "    </tr>\n",
       "  </thead>\n",
       "  <tbody>\n",
       "    <tr>\n",
       "      <th>1</th>\n",
       "      <td>Spain</td>\n",
       "      <td>Ripe aromas of fig, blackberry and cassis are ...</td>\n",
       "      <td>96</td>\n",
       "      <td>110.0</td>\n",
       "    </tr>\n",
       "    <tr>\n",
       "      <th>2</th>\n",
       "      <td>US</td>\n",
       "      <td>Mac Watson honors the memory of a wine once ma...</td>\n",
       "      <td>96</td>\n",
       "      <td>90.0</td>\n",
       "    </tr>\n",
       "    <tr>\n",
       "      <th>3</th>\n",
       "      <td>US</td>\n",
       "      <td>This spent 20 months in 30% new French oak, an...</td>\n",
       "      <td>96</td>\n",
       "      <td>65.0</td>\n",
       "    </tr>\n",
       "    <tr>\n",
       "      <th>4</th>\n",
       "      <td>France</td>\n",
       "      <td>This is the top wine from La Bégude, named aft...</td>\n",
       "      <td>95</td>\n",
       "      <td>66.0</td>\n",
       "    </tr>\n",
       "    <tr>\n",
       "      <th>5</th>\n",
       "      <td>Spain</td>\n",
       "      <td>Deep, dense and pure from the opening bell, th...</td>\n",
       "      <td>95</td>\n",
       "      <td>73.0</td>\n",
       "    </tr>\n",
       "  </tbody>\n",
       "</table>\n",
       "</div>"
      ],
      "text/plain": [
       "  country                                        description  points  price\n",
       "1   Spain  Ripe aromas of fig, blackberry and cassis are ...      96  110.0\n",
       "2      US  Mac Watson honors the memory of a wine once ma...      96   90.0\n",
       "3      US  This spent 20 months in 30% new French oak, an...      96   65.0\n",
       "4  France  This is the top wine from La Bégude, named aft...      95   66.0\n",
       "5   Spain  Deep, dense and pure from the opening bell, th...      95   73.0"
      ]
     },
     "execution_count": 23,
     "metadata": {},
     "output_type": "execute_result"
    }
   ],
   "source": [
    "wine_country_cap[['country','description','points','price']].head(5)"
   ]
  },
  {
   "cell_type": "code",
   "execution_count": 24,
   "metadata": {},
   "outputs": [
    {
     "data": {
      "text/html": [
       "<div>\n",
       "<table border=\"1\" class=\"dataframe\">\n",
       "  <thead>\n",
       "    <tr style=\"text-align: right;\">\n",
       "      <th></th>\n",
       "      <th>points</th>\n",
       "      <th>price</th>\n",
       "    </tr>\n",
       "  </thead>\n",
       "  <tbody>\n",
       "    <tr>\n",
       "      <th>count</th>\n",
       "      <td>133564.000000</td>\n",
       "      <td>133564.000000</td>\n",
       "    </tr>\n",
       "    <tr>\n",
       "      <th>mean</th>\n",
       "      <td>87.773075</td>\n",
       "      <td>31.388016</td>\n",
       "    </tr>\n",
       "    <tr>\n",
       "      <th>std</th>\n",
       "      <td>3.185501</td>\n",
       "      <td>23.738142</td>\n",
       "    </tr>\n",
       "    <tr>\n",
       "      <th>min</th>\n",
       "      <td>80.000000</td>\n",
       "      <td>4.000000</td>\n",
       "    </tr>\n",
       "    <tr>\n",
       "      <th>25%</th>\n",
       "      <td>86.000000</td>\n",
       "      <td>16.000000</td>\n",
       "    </tr>\n",
       "    <tr>\n",
       "      <th>50%</th>\n",
       "      <td>88.000000</td>\n",
       "      <td>24.000000</td>\n",
       "    </tr>\n",
       "    <tr>\n",
       "      <th>75%</th>\n",
       "      <td>90.000000</td>\n",
       "      <td>40.000000</td>\n",
       "    </tr>\n",
       "    <tr>\n",
       "      <th>max</th>\n",
       "      <td>100.000000</td>\n",
       "      <td>199.000000</td>\n",
       "    </tr>\n",
       "  </tbody>\n",
       "</table>\n",
       "</div>"
      ],
      "text/plain": [
       "              points          price\n",
       "count  133564.000000  133564.000000\n",
       "mean       87.773075      31.388016\n",
       "std         3.185501      23.738142\n",
       "min        80.000000       4.000000\n",
       "25%        86.000000      16.000000\n",
       "50%        88.000000      24.000000\n",
       "75%        90.000000      40.000000\n",
       "max       100.000000     199.000000"
      ]
     },
     "execution_count": 24,
     "metadata": {},
     "output_type": "execute_result"
    }
   ],
   "source": [
    "wine_country_cap.describe()"
   ]
  },
  {
   "cell_type": "code",
   "execution_count": 25,
   "metadata": {},
   "outputs": [
    {
     "data": {
      "image/png": "[encoded data removed]",
      "text/plain": [
       "<matplotlib.figure.Figure at 0x110c6b160>"
      ]
     },
     "metadata": {},
     "output_type": "display_data"
    }
   ],
   "source": [
    "sns.boxplot(x='points',y='country', data=wine_country_cap, orient='h', showfliers=False)\n",
    "sns.plt.title('Distribution of Wine Scores within Country Feature')\n",
    "sns.plt.savefig('country_points.png')"
   ]
  },
  {
   "cell_type": "code",
   "execution_count": 26,
   "metadata": {},
   "outputs": [
    {
     "data": {
      "image/png": "[encoded data removed]",
      "text/plain": [
       "<matplotlib.figure.Figure at 0x117026fd0>"
      ]
     },
     "metadata": {},
     "output_type": "display_data"
    }
   ],
   "source": [
    "sns.boxplot(x='price',y='country', data=wine_country_cap, orient='h',showfliers=False)\n",
    "sns.plt.title('Distribution of Wine Prices within Country Feature')\n",
    "sns.plt.savefig('country_prices2.png')"
   ]
  },
  {
   "cell_type": "markdown",
   "metadata": {},
   "source": [
    "## Step 2: Decision Trees - Regression"
   ]
  },
  {
   "cell_type": "code",
   "execution_count": 27,
   "metadata": {
    "collapsed": true
   },
   "outputs": [],
   "source": [
    "# import Sklean modules\n",
    "from sklearn.model_selection import train_test_split\n",
    "from sklearn import tree\n",
    "from sklearn.tree import DecisionTreeRegressor\n",
    "from sklearn.metrics import mean_squared_error, mean_absolute_error"
   ]
  },
  {
   "cell_type": "code",
   "execution_count": 28,
   "metadata": {
    "collapsed": true
   },
   "outputs": [],
   "source": [
    "def DT_validation_n_leafs(inputs, X_test, X_train, y_train, y_test):\n",
    "    '''\n",
    "    function to analyse different parameters for the Dicision Tree Regression\n",
    "    outputs a matrix with various validation metrics\n",
    "    '''\n",
    "     \n",
    "    mae_train = []\n",
    "    mae_test = []\n",
    "    mse_train = []\n",
    "    mse_test = []\n",
    "    rsq_train = []\n",
    "    rsq_test = []\n",
    "    \n",
    "    for i in inputs:\n",
    "        model = DecisionTreeRegressor(min_samples_leaf=i)\n",
    "        model.fit(X_train, y_train)\n",
    "        y_pred = model.predict(X_test)\n",
    "        \n",
    "        y_training_pred = model.predict(X_train)\n",
    "        \n",
    "        mae_train.append(mean_absolute_error(y_training_pred, y_train))\n",
    "        mae_test.append(mean_absolute_error(y_pred, y_test))\n",
    "        mse_train.append(mean_squared_error(y_training_pred, y_train))\n",
    "        mse_test.append(mean_squared_error(y_pred, y_test))\n",
    "        rsq_train.append(model.score(X_train, y_train))\n",
    "        rsq_test.append(model.score(X_test, y_test))\n",
    "        print('Calculating model {0} of {1}'.format(i,len(inputs)))\n",
    "        \n",
    "    test_matrix = pd.DataFrame(\n",
    "        {'MAE over training set': mae_train,\n",
    "        'MAE over test set': mae_test,\n",
    "        'MSE over training set': mse_train,\n",
    "        'MSE over test set': mse_test,\n",
    "        'R^2 over training set': rsq_train,\n",
    "        'R^2 over test set': rsq_test},index=inputs)\n",
    "    \n",
    "    return test_matrix"
   ]
  },
  {
   "cell_type": "code",
   "execution_count": 29,
   "metadata": {
    "collapsed": true
   },
   "outputs": [],
   "source": [
    "# points = target\n",
    "# features = [price, country]"
   ]
  },
  {
   "cell_type": "code",
   "execution_count": 30,
   "metadata": {},
   "outputs": [
    {
     "data": {
      "text/html": [
       "<div>\n",
       "<table border=\"1\" class=\"dataframe\">\n",
       "  <thead>\n",
       "    <tr style=\"text-align: right;\">\n",
       "      <th></th>\n",
       "      <th>country</th>\n",
       "      <th>description</th>\n",
       "      <th>designation</th>\n",
       "      <th>points</th>\n",
       "      <th>price</th>\n",
       "      <th>province</th>\n",
       "      <th>region_1</th>\n",
       "      <th>region_2</th>\n",
       "      <th>variety</th>\n",
       "      <th>winery</th>\n",
       "      <th>points_bins</th>\n",
       "    </tr>\n",
       "  </thead>\n",
       "  <tbody>\n",
       "    <tr>\n",
       "      <th>1</th>\n",
       "      <td>Spain</td>\n",
       "      <td>Ripe aromas of fig, blackberry and cassis are ...</td>\n",
       "      <td>Carodorum Selección Especial Reserva</td>\n",
       "      <td>96</td>\n",
       "      <td>110.0</td>\n",
       "      <td>Northern Spain</td>\n",
       "      <td>Toro</td>\n",
       "      <td>NaN</td>\n",
       "      <td>Tinta de Toro</td>\n",
       "      <td>Bodega Carmen Rodríguez</td>\n",
       "      <td>very high</td>\n",
       "    </tr>\n",
       "  </tbody>\n",
       "</table>\n",
       "</div>"
      ],
      "text/plain": [
       "  country                                        description  \\\n",
       "1   Spain  Ripe aromas of fig, blackberry and cassis are ...   \n",
       "\n",
       "                            designation  points  price        province  \\\n",
       "1  Carodorum Selección Especial Reserva      96  110.0  Northern Spain   \n",
       "\n",
       "  region_1 region_2        variety                   winery points_bins  \n",
       "1     Toro      NaN  Tinta de Toro  Bodega Carmen Rodríguez   very high  "
      ]
     },
     "execution_count": 30,
     "metadata": {},
     "output_type": "execute_result"
    }
   ],
   "source": [
    "wine_country_cap.head(1)"
   ]
  },
  {
   "cell_type": "code",
   "execution_count": 31,
   "metadata": {},
   "outputs": [
    {
     "data": {
      "text/html": [
       "<div>\n",
       "<table border=\"1\" class=\"dataframe\">\n",
       "  <thead>\n",
       "    <tr style=\"text-align: right;\">\n",
       "      <th></th>\n",
       "      <th>country</th>\n",
       "      <th>description</th>\n",
       "      <th>designation</th>\n",
       "      <th>points</th>\n",
       "      <th>price</th>\n",
       "      <th>province</th>\n",
       "      <th>region_1</th>\n",
       "      <th>region_2</th>\n",
       "      <th>variety</th>\n",
       "      <th>winery</th>\n",
       "      <th>points_bins</th>\n",
       "      <th>Argentina</th>\n",
       "      <th>Australia</th>\n",
       "      <th>Austria</th>\n",
       "      <th>Chile</th>\n",
       "      <th>France</th>\n",
       "      <th>Germany</th>\n",
       "      <th>Italy</th>\n",
       "      <th>New Zealand</th>\n",
       "      <th>Portugal</th>\n",
       "      <th>South Africa</th>\n",
       "      <th>Spain</th>\n",
       "      <th>US</th>\n",
       "    </tr>\n",
       "  </thead>\n",
       "  <tbody>\n",
       "    <tr>\n",
       "      <th>1</th>\n",
       "      <td>Spain</td>\n",
       "      <td>Ripe aromas of fig, blackberry and cassis are ...</td>\n",
       "      <td>Carodorum Selección Especial Reserva</td>\n",
       "      <td>96</td>\n",
       "      <td>110.0</td>\n",
       "      <td>Northern Spain</td>\n",
       "      <td>Toro</td>\n",
       "      <td>NaN</td>\n",
       "      <td>Tinta de Toro</td>\n",
       "      <td>Bodega Carmen Rodríguez</td>\n",
       "      <td>very high</td>\n",
       "      <td>0.0</td>\n",
       "      <td>0.0</td>\n",
       "      <td>0.0</td>\n",
       "      <td>0.0</td>\n",
       "      <td>0.0</td>\n",
       "      <td>0.0</td>\n",
       "      <td>0.0</td>\n",
       "      <td>0.0</td>\n",
       "      <td>0.0</td>\n",
       "      <td>0.0</td>\n",
       "      <td>1.0</td>\n",
       "      <td>0.0</td>\n",
       "    </tr>\n",
       "  </tbody>\n",
       "</table>\n",
       "</div>"
      ],
      "text/plain": [
       "  country                                        description  \\\n",
       "1   Spain  Ripe aromas of fig, blackberry and cassis are ...   \n",
       "\n",
       "                            designation  points  price        province  \\\n",
       "1  Carodorum Selección Especial Reserva      96  110.0  Northern Spain   \n",
       "\n",
       "  region_1 region_2        variety                   winery points_bins  \\\n",
       "1     Toro      NaN  Tinta de Toro  Bodega Carmen Rodríguez   very high   \n",
       "\n",
       "   Argentina  Australia  Austria  Chile  France  Germany  Italy  New Zealand  \\\n",
       "1        0.0        0.0      0.0    0.0     0.0      0.0    0.0          0.0   \n",
       "\n",
       "   Portugal  South Africa  Spain   US  \n",
       "1       0.0           0.0    1.0  0.0  "
      ]
     },
     "execution_count": 31,
     "metadata": {},
     "output_type": "execute_result"
    }
   ],
   "source": [
    "# convert country column into dummy varables\n",
    "wine_country_dummy = pd.get_dummies(wine_country_cap['country'])\n",
    "wine_country_cap_dummy = pd.concat([wine_country_cap, wine_country_dummy], axis=1)\n",
    "wine_country_cap_dummy.head(1)"
   ]
  },
  {
   "cell_type": "code",
   "execution_count": 32,
   "metadata": {
    "collapsed": true
   },
   "outputs": [],
   "source": [
    "X = wine_country_cap_dummy[['price','Argentina','Australia','Austria','Chile',\n",
    "                            'France','Germany','Italy','New Zealand','Portugal',\n",
    "                            'South Africa','Spain','US']]\n",
    "X = np.array(X)\n",
    "y = wine_country_cap_dummy['points']\n",
    "y = np.array(y)"
   ]
  },
  {
   "cell_type": "code",
   "execution_count": 33,
   "metadata": {
    "collapsed": true
   },
   "outputs": [],
   "source": [
    "# create train and test sets for ML\n",
    "X_train, X_test, y_train, y_test = train_test_split(X, y, test_size=0.15)"
   ]
  },
  {
   "cell_type": "code",
   "execution_count": 34,
   "metadata": {
    "collapsed": true
   },
   "outputs": [],
   "source": [
    "# create the validation set\n",
    "X_train2, X_validation, y_train2, y_validation = train_test_split(X_train, y_train, test_size=0.2)"
   ]
  },
  {
   "cell_type": "code",
   "execution_count": 35,
   "metadata": {},
   "outputs": [
    {
     "name": "stdout",
     "output_type": "stream",
     "text": [
      "size of original trainnig set:                 (113529, 13)\n",
      "size of new (after vali. split) trainnig set:  (90823, 13)\n"
     ]
    }
   ],
   "source": [
    "# new training set is smaller:\n",
    "print('size of original trainnig set:                ', X_train.shape)\n",
    "print('size of new (after vali. split) trainnig set: ', X_train2.shape)"
   ]
  },
  {
   "cell_type": "code",
   "execution_count": 36,
   "metadata": {},
   "outputs": [
    {
     "name": "stdout",
     "output_type": "stream",
     "text": [
      "Calculating model 1 of 6\n",
      "Calculating model 5 of 6\n",
      "Calculating model 10 of 6\n",
      "Calculating model 50 of 6\n",
      "Calculating model 100 of 6\n",
      "Calculating model 1000 of 6\n"
     ]
    },
    {
     "data": {
      "text/html": [
       "<div>\n",
       "<table border=\"1\" class=\"dataframe\">\n",
       "  <thead>\n",
       "    <tr style=\"text-align: right;\">\n",
       "      <th></th>\n",
       "      <th>MAE over test set</th>\n",
       "      <th>MAE over training set</th>\n",
       "      <th>MSE over test set</th>\n",
       "      <th>MSE over training set</th>\n",
       "      <th>R^2 over test set</th>\n",
       "      <th>R^2 over training set</th>\n",
       "    </tr>\n",
       "  </thead>\n",
       "  <tbody>\n",
       "    <tr>\n",
       "      <th>1</th>\n",
       "      <td>1.989558</td>\n",
       "      <td>1.952801</td>\n",
       "      <td>6.319692</td>\n",
       "      <td>6.115675</td>\n",
       "      <td>0.379153</td>\n",
       "      <td>0.396888</td>\n",
       "    </tr>\n",
       "    <tr>\n",
       "      <th>5</th>\n",
       "      <td>1.990064</td>\n",
       "      <td>1.960425</td>\n",
       "      <td>6.312696</td>\n",
       "      <td>6.141289</td>\n",
       "      <td>0.379840</td>\n",
       "      <td>0.394362</td>\n",
       "    </tr>\n",
       "    <tr>\n",
       "      <th>10</th>\n",
       "      <td>1.989327</td>\n",
       "      <td>1.964574</td>\n",
       "      <td>6.304261</td>\n",
       "      <td>6.160209</td>\n",
       "      <td>0.380669</td>\n",
       "      <td>0.392496</td>\n",
       "    </tr>\n",
       "    <tr>\n",
       "      <th>50</th>\n",
       "      <td>1.990671</td>\n",
       "      <td>1.971627</td>\n",
       "      <td>6.310701</td>\n",
       "      <td>6.203828</td>\n",
       "      <td>0.380036</td>\n",
       "      <td>0.388194</td>\n",
       "    </tr>\n",
       "    <tr>\n",
       "      <th>100</th>\n",
       "      <td>1.990984</td>\n",
       "      <td>1.975033</td>\n",
       "      <td>6.309788</td>\n",
       "      <td>6.226496</td>\n",
       "      <td>0.380126</td>\n",
       "      <td>0.385959</td>\n",
       "    </tr>\n",
       "    <tr>\n",
       "      <th>1000</th>\n",
       "      <td>2.004352</td>\n",
       "      <td>1.991967</td>\n",
       "      <td>6.414001</td>\n",
       "      <td>6.359480</td>\n",
       "      <td>0.369888</td>\n",
       "      <td>0.372844</td>\n",
       "    </tr>\n",
       "  </tbody>\n",
       "</table>\n",
       "</div>"
      ],
      "text/plain": [
       "      MAE over test set  MAE over training set  MSE over test set  \\\n",
       "1              1.989558               1.952801           6.319692   \n",
       "5              1.990064               1.960425           6.312696   \n",
       "10             1.989327               1.964574           6.304261   \n",
       "50             1.990671               1.971627           6.310701   \n",
       "100            1.990984               1.975033           6.309788   \n",
       "1000           2.004352               1.991967           6.414001   \n",
       "\n",
       "      MSE over training set  R^2 over test set  R^2 over training set  \n",
       "1                  6.115675           0.379153               0.396888  \n",
       "5                  6.141289           0.379840               0.394362  \n",
       "10                 6.160209           0.380669               0.392496  \n",
       "50                 6.203828           0.380036               0.388194  \n",
       "100                6.226496           0.380126               0.385959  \n",
       "1000               6.359480           0.369888               0.372844  "
      ]
     },
     "execution_count": 36,
     "metadata": {},
     "output_type": "execute_result"
    }
   ],
   "source": [
    "DT_validation_n_leafs([1,5,10,50,100,1000], X_train=X_train2,X_test=X_validation,\n",
    "                      y_train=y_train2,y_test=y_validation)"
   ]
  },
  {
   "cell_type": "code",
   "execution_count": 37,
   "metadata": {
    "collapsed": true
   },
   "outputs": [],
   "source": [
    "# build model - fit - predict optimal model based on DT_validation output\n",
    "model = DecisionTreeRegressor(min_samples_leaf=10)\n",
    "model.fit(X_train, y_train)\n",
    "y_pred = model.predict(X_test)"
   ]
  },
  {
   "cell_type": "code",
   "execution_count": 38,
   "metadata": {},
   "outputs": [
    {
     "name": "stdout",
     "output_type": "stream",
     "text": [
      "MAE over training set: 1.96704504562\n",
      "MAE over test set:     1.98412946522\n",
      "----------------------------\n",
      "MSE over training set: 6.17617347948\n",
      "MSE over test set:     6.27201282171\n",
      "----------------------------\n",
      "R^2 over training set: 0.39139159697\n",
      "R^2 over test set:     0.381647304647\n"
     ]
    }
   ],
   "source": [
    "# MAE evaluation\n",
    "y_training_pred = model.predict(X_train)\n",
    "print('MAE over training set:', mean_absolute_error(y_training_pred, y_train))\n",
    "print('MAE over test set:    ', mean_absolute_error(y_pred, y_test))\n",
    "print('----------------------------')\n",
    "# MSE evaluation\n",
    "print('MSE over training set:', mean_squared_error(y_training_pred, y_train))\n",
    "print('MSE over test set:    ', mean_squared_error(y_pred, y_test))\n",
    "print('----------------------------')\n",
    "# R squared evaluation\n",
    "print('R^2 over training set:', model.score(X_train, y_train))\n",
    "print('R^2 over test set:    ', model.score(X_test, y_test))"
   ]
  },
  {
   "cell_type": "code",
   "execution_count": 39,
   "metadata": {},
   "outputs": [
    {
     "data": {
      "text/plain": [
       "<matplotlib.text.Text at 0x116b367f0>"
      ]
     },
     "execution_count": 39,
     "metadata": {},
     "output_type": "execute_result"
    },
    {
     "data": {
      "image/png": "[encoded data removed]",
      "text/plain": [
       "<matplotlib.figure.Figure at 0x11db1f4e0>"
      ]
     },
     "metadata": {},
     "output_type": "display_data"
    }
   ],
   "source": [
    "plt.scatter(y_test, y_pred, marker='.')\n",
    "plt.xlabel('y_test')\n",
    "plt.ylabel('y_pred')"
   ]
  },
  {
   "cell_type": "code",
   "execution_count": 40,
   "metadata": {},
   "outputs": [
    {
     "data": {
      "text/plain": [
       "[(0.00079569110167723224, 'South Africa'),\n",
       " (0.00089153135515160906, 'New Zealand'),\n",
       " (0.001018460320502002, 'Australia'),\n",
       " (0.0015040387894732165, 'France'),\n",
       " (0.0016238927028771216, 'Germany'),\n",
       " (0.0023512890320798257, 'Chile'),\n",
       " (0.0027930358623121684, 'Italy'),\n",
       " (0.0039193404494029197, 'Austria'),\n",
       " (0.005396043925774174, 'Argentina'),\n",
       " (0.0069546063440394552, 'Spain'),\n",
       " (0.010542218291129196, 'Portugal'),\n",
       " (0.022504491144989553, 'US'),\n",
       " (0.93970536068059152, 'price')]"
      ]
     },
     "execution_count": 40,
     "metadata": {},
     "output_type": "execute_result"
    }
   ],
   "source": [
    "# Top 10 features (words that influence the review points)\n",
    "sorted(zip(model.feature_importances_, ['price','Argentina','Australia','Austria','Chile',\n",
    "                                        'France','Germany','Italy','New Zealand','Portugal',\n",
    "                                        'South Africa','Spain','US']))"
   ]
  },
  {
   "cell_type": "markdown",
   "metadata": {},
   "source": [
    "### DT Regession without the feature 'price'"
   ]
  },
  {
   "cell_type": "code",
   "execution_count": 41,
   "metadata": {
    "collapsed": true
   },
   "outputs": [],
   "source": [
    "X = wine_country_cap_dummy[['Argentina','Australia','Austria','Chile',\n",
    "                            'France','Germany','Italy','New Zealand',\n",
    "                            'Portugal','South Africa','Spain','US']]\n",
    "X = np.array(X)\n",
    "y = wine_country_cap_dummy['points']\n",
    "y = np.array(y)"
   ]
  },
  {
   "cell_type": "code",
   "execution_count": 42,
   "metadata": {
    "collapsed": true
   },
   "outputs": [],
   "source": [
    "# create different sets for ML\n",
    "X_train, X_test, y_train, y_test = train_test_split(X, y, test_size=0.15)"
   ]
  },
  {
   "cell_type": "code",
   "execution_count": 43,
   "metadata": {
    "collapsed": true
   },
   "outputs": [],
   "source": [
    "# create the validation set\n",
    "X_train2, X_validation, y_train2, y_validation = train_test_split(X_train, y_train, test_size=0.2)"
   ]
  },
  {
   "cell_type": "code",
   "execution_count": 44,
   "metadata": {},
   "outputs": [
    {
     "name": "stdout",
     "output_type": "stream",
     "text": [
      "size of original trainnig set:                 (113529, 12)\n",
      "size of new (after vali. split) trainnig set:  (90823, 12)\n"
     ]
    }
   ],
   "source": [
    "# new training set is smaller:\n",
    "print('size of original trainnig set:                ', X_train.shape)\n",
    "print('size of new (after vali. split) trainnig set: ', X_train2.shape)"
   ]
  },
  {
   "cell_type": "code",
   "execution_count": 45,
   "metadata": {},
   "outputs": [
    {
     "name": "stdout",
     "output_type": "stream",
     "text": [
      "Calculating model 1 of 6\n",
      "Calculating model 5 of 6\n",
      "Calculating model 10 of 6\n",
      "Calculating model 50 of 6\n",
      "Calculating model 100 of 6\n",
      "Calculating model 1000 of 6\n"
     ]
    },
    {
     "data": {
      "text/html": [
       "<div>\n",
       "<table border=\"1\" class=\"dataframe\">\n",
       "  <thead>\n",
       "    <tr style=\"text-align: right;\">\n",
       "      <th></th>\n",
       "      <th>MAE over test set</th>\n",
       "      <th>MAE over training set</th>\n",
       "      <th>MSE over test set</th>\n",
       "      <th>MSE over training set</th>\n",
       "      <th>R^2 over test set</th>\n",
       "      <th>R^2 over training set</th>\n",
       "    </tr>\n",
       "  </thead>\n",
       "  <tbody>\n",
       "    <tr>\n",
       "      <th>1</th>\n",
       "      <td>2.532813</td>\n",
       "      <td>2.525564</td>\n",
       "      <td>9.684989</td>\n",
       "      <td>9.66715</td>\n",
       "      <td>0.043644</td>\n",
       "      <td>0.047376</td>\n",
       "    </tr>\n",
       "    <tr>\n",
       "      <th>5</th>\n",
       "      <td>2.532813</td>\n",
       "      <td>2.525564</td>\n",
       "      <td>9.684989</td>\n",
       "      <td>9.66715</td>\n",
       "      <td>0.043644</td>\n",
       "      <td>0.047376</td>\n",
       "    </tr>\n",
       "    <tr>\n",
       "      <th>10</th>\n",
       "      <td>2.532813</td>\n",
       "      <td>2.525564</td>\n",
       "      <td>9.684989</td>\n",
       "      <td>9.66715</td>\n",
       "      <td>0.043644</td>\n",
       "      <td>0.047376</td>\n",
       "    </tr>\n",
       "    <tr>\n",
       "      <th>50</th>\n",
       "      <td>2.532813</td>\n",
       "      <td>2.525564</td>\n",
       "      <td>9.684989</td>\n",
       "      <td>9.66715</td>\n",
       "      <td>0.043644</td>\n",
       "      <td>0.047376</td>\n",
       "    </tr>\n",
       "    <tr>\n",
       "      <th>100</th>\n",
       "      <td>2.532813</td>\n",
       "      <td>2.525564</td>\n",
       "      <td>9.684989</td>\n",
       "      <td>9.66715</td>\n",
       "      <td>0.043644</td>\n",
       "      <td>0.047376</td>\n",
       "    </tr>\n",
       "    <tr>\n",
       "      <th>1000</th>\n",
       "      <td>2.532813</td>\n",
       "      <td>2.525564</td>\n",
       "      <td>9.684989</td>\n",
       "      <td>9.66715</td>\n",
       "      <td>0.043644</td>\n",
       "      <td>0.047376</td>\n",
       "    </tr>\n",
       "  </tbody>\n",
       "</table>\n",
       "</div>"
      ],
      "text/plain": [
       "      MAE over test set  MAE over training set  MSE over test set  \\\n",
       "1              2.532813               2.525564           9.684989   \n",
       "5              2.532813               2.525564           9.684989   \n",
       "10             2.532813               2.525564           9.684989   \n",
       "50             2.532813               2.525564           9.684989   \n",
       "100            2.532813               2.525564           9.684989   \n",
       "1000           2.532813               2.525564           9.684989   \n",
       "\n",
       "      MSE over training set  R^2 over test set  R^2 over training set  \n",
       "1                   9.66715           0.043644               0.047376  \n",
       "5                   9.66715           0.043644               0.047376  \n",
       "10                  9.66715           0.043644               0.047376  \n",
       "50                  9.66715           0.043644               0.047376  \n",
       "100                 9.66715           0.043644               0.047376  \n",
       "1000                9.66715           0.043644               0.047376  "
      ]
     },
     "execution_count": 45,
     "metadata": {},
     "output_type": "execute_result"
    }
   ],
   "source": [
    "DT_validation_n_leafs([1,5,10,50,100,1000], X_train=X_train2,X_test=X_validation,\n",
    "                      y_train=y_train2,y_test=y_validation)"
   ]
  },
  {
   "cell_type": "code",
   "execution_count": 46,
   "metadata": {
    "collapsed": true
   },
   "outputs": [],
   "source": [
    "# build model - fit - predict\n",
    "model = DecisionTreeRegressor()\n",
    "model.fit(X_train, y_train)\n",
    "y_pred = model.predict(X_test)"
   ]
  },
  {
   "cell_type": "code",
   "execution_count": 47,
   "metadata": {},
   "outputs": [
    {
     "name": "stdout",
     "output_type": "stream",
     "text": [
      "MAE over training set: 2.52689728174\n",
      "MAE over test set:     2.52975911409\n",
      "----------------------------\n",
      "MSE over training set: 9.67044902176\n",
      "MSE over test set:     9.71689004009\n",
      "----------------------------\n",
      "R^2 over training set: 0.0466803422389\n",
      "R^2 over test set:     0.0440918553543\n"
     ]
    }
   ],
   "source": [
    "# MAE evaluation\n",
    "y_training_pred = model.predict(X_train)\n",
    "print('MAE over training set:', mean_absolute_error(y_training_pred, y_train))\n",
    "print('MAE over test set:    ', mean_absolute_error(y_pred, y_test))\n",
    "print('----------------------------')\n",
    "# MSE evaluation\n",
    "print('MSE over training set:', mean_squared_error(y_training_pred, y_train))\n",
    "print('MSE over test set:    ', mean_squared_error(y_pred, y_test))\n",
    "print('----------------------------')\n",
    "# R squared evaluation\n",
    "print('R^2 over training set:', model.score(X_train, y_train))\n",
    "print('R^2 over test set:    ', model.score(X_test, y_test))"
   ]
  },
  {
   "cell_type": "code",
   "execution_count": 48,
   "metadata": {},
   "outputs": [
    {
     "data": {
      "text/plain": [
       "<matplotlib.text.Text at 0x116be1fd0>"
      ]
     },
     "execution_count": 48,
     "metadata": {},
     "output_type": "execute_result"
    },
    {
     "data": {
      "image/png": "[encoded data removed]",
      "text/plain": [
       "<matplotlib.figure.Figure at 0x116b992e8>"
      ]
     },
     "metadata": {},
     "output_type": "display_data"
    }
   ],
   "source": [
    "plt.scatter(y_test, y_pred, marker='.')\n",
    "plt.xlabel('y_test')\n",
    "plt.ylabel('y_pred')"
   ]
  },
  {
   "cell_type": "code",
   "execution_count": 49,
   "metadata": {},
   "outputs": [
    {
     "data": {
      "text/plain": [
       "[(0.0, 'France'),\n",
       " (0.00012809525766202453, 'Italy'),\n",
       " (0.00024997335975926032, 'Germany'),\n",
       " (0.0033682663456316695, 'Portugal'),\n",
       " (0.021791001911730532, 'Australia'),\n",
       " (0.027752424389815365, 'Austria'),\n",
       " (0.031208506878734485, 'New Zealand'),\n",
       " (0.04022701153467264, 'South Africa'),\n",
       " (0.10136298711526476, 'US'),\n",
       " (0.23138734688421358, 'Chile'),\n",
       " (0.24453118002255378, 'Spain'),\n",
       " (0.2979932062999619, 'Argentina')]"
      ]
     },
     "execution_count": 49,
     "metadata": {},
     "output_type": "execute_result"
    }
   ],
   "source": [
    "# Top 10 features (words that influence the review points)\n",
    "sorted(zip(model.feature_importances_, ['Argentina','Australia','Austria','Chile',\n",
    "                                        'France','Germany','Italy','New Zealand',\n",
    "                                        'Portugal','South Africa','Spain','US']))"
   ]
  },
  {
   "cell_type": "markdown",
   "metadata": {},
   "source": [
    "### DT Regression - with additional feature 'description'"
   ]
  },
  {
   "cell_type": "code",
   "execution_count": 50,
   "metadata": {
    "collapsed": true
   },
   "outputs": [],
   "source": [
    "# Step 1: Count Vectorization\n",
    "from sklearn.feature_extraction.text import CountVectorizer"
   ]
  },
  {
   "cell_type": "code",
   "execution_count": 51,
   "metadata": {
    "collapsed": true
   },
   "outputs": [],
   "source": [
    "# Problem = Description with a lot of words"
   ]
  },
  {
   "cell_type": "code",
   "execution_count": 52,
   "metadata": {
    "collapsed": true
   },
   "outputs": [],
   "source": [
    "count_vectorizer = CountVectorizer(stop_words='english', min_df=20)\n",
    "X_counts = count_vectorizer.fit_transform(wine_country_cap_dummy['description'])"
   ]
  },
  {
   "cell_type": "code",
   "execution_count": 53,
   "metadata": {},
   "outputs": [
    {
     "name": "stdout",
     "output_type": "stream",
     "text": [
      "(133564, 6547)\n",
      "<class 'scipy.sparse.csr.csr_matrix'>\n"
     ]
    }
   ],
   "source": [
    "print(X_counts.shape)\n",
    "print(type(X_counts))"
   ]
  },
  {
   "cell_type": "code",
   "execution_count": 54,
   "metadata": {
    "collapsed": true
   },
   "outputs": [],
   "source": [
    "# create different sets for ML\n",
    "X_train, X_test, y_train, y_test = train_test_split(X_counts, y, test_size=0.15)"
   ]
  },
  {
   "cell_type": "code",
   "execution_count": 55,
   "metadata": {
    "collapsed": true
   },
   "outputs": [],
   "source": [
    "# create the validation set\n",
    "X_train2, X_validation, y_train2, y_validation = train_test_split(X_train, y_train, test_size=0.2)"
   ]
  },
  {
   "cell_type": "code",
   "execution_count": 56,
   "metadata": {},
   "outputs": [
    {
     "name": "stdout",
     "output_type": "stream",
     "text": [
      "size of original trainnig set:                 (113529, 6547)\n",
      "size of new (after vali. split) trainnig set:  (90823, 6547)\n"
     ]
    }
   ],
   "source": [
    "# new training set is smaller:\n",
    "print('size of original trainnig set:                ', X_train.shape)\n",
    "print('size of new (after vali. split) trainnig set: ', X_train2.shape)"
   ]
  },
  {
   "cell_type": "code",
   "execution_count": 57,
   "metadata": {},
   "outputs": [
    {
     "name": "stdout",
     "output_type": "stream",
     "text": [
      "Calculating model 1 of 6\n",
      "Calculating model 5 of 6\n",
      "Calculating model 10 of 6\n",
      "Calculating model 50 of 6\n",
      "Calculating model 100 of 6\n",
      "Calculating model 1000 of 6\n"
     ]
    },
    {
     "data": {
      "text/html": [
       "<div>\n",
       "<table border=\"1\" class=\"dataframe\">\n",
       "  <thead>\n",
       "    <tr style=\"text-align: right;\">\n",
       "      <th></th>\n",
       "      <th>MAE over test set</th>\n",
       "      <th>MAE over training set</th>\n",
       "      <th>MSE over test set</th>\n",
       "      <th>MSE over training set</th>\n",
       "      <th>R^2 over test set</th>\n",
       "      <th>R^2 over training set</th>\n",
       "    </tr>\n",
       "  </thead>\n",
       "  <tbody>\n",
       "    <tr>\n",
       "      <th>1</th>\n",
       "      <td>1.204087</td>\n",
       "      <td>0.000114</td>\n",
       "      <td>4.676131</td>\n",
       "      <td>0.000083</td>\n",
       "      <td>0.539408</td>\n",
       "      <td>0.999992</td>\n",
       "    </tr>\n",
       "    <tr>\n",
       "      <th>5</th>\n",
       "      <td>1.694193</td>\n",
       "      <td>1.044003</td>\n",
       "      <td>5.173161</td>\n",
       "      <td>1.963795</td>\n",
       "      <td>0.490451</td>\n",
       "      <td>0.806223</td>\n",
       "    </tr>\n",
       "    <tr>\n",
       "      <th>10</th>\n",
       "      <td>1.787933</td>\n",
       "      <td>1.427672</td>\n",
       "      <td>5.367365</td>\n",
       "      <td>3.408733</td>\n",
       "      <td>0.471322</td>\n",
       "      <td>0.663644</td>\n",
       "    </tr>\n",
       "    <tr>\n",
       "      <th>50</th>\n",
       "      <td>1.895566</td>\n",
       "      <td>1.819872</td>\n",
       "      <td>5.828445</td>\n",
       "      <td>5.357403</td>\n",
       "      <td>0.425906</td>\n",
       "      <td>0.471360</td>\n",
       "    </tr>\n",
       "    <tr>\n",
       "      <th>100</th>\n",
       "      <td>1.944167</td>\n",
       "      <td>1.904686</td>\n",
       "      <td>6.074176</td>\n",
       "      <td>5.823821</td>\n",
       "      <td>0.401702</td>\n",
       "      <td>0.425336</td>\n",
       "    </tr>\n",
       "    <tr>\n",
       "      <th>1000</th>\n",
       "      <td>2.152558</td>\n",
       "      <td>2.151545</td>\n",
       "      <td>7.296395</td>\n",
       "      <td>7.289760</td>\n",
       "      <td>0.281315</td>\n",
       "      <td>0.280685</td>\n",
       "    </tr>\n",
       "  </tbody>\n",
       "</table>\n",
       "</div>"
      ],
      "text/plain": [
       "      MAE over test set  MAE over training set  MSE over test set  \\\n",
       "1              1.204087               0.000114           4.676131   \n",
       "5              1.694193               1.044003           5.173161   \n",
       "10             1.787933               1.427672           5.367365   \n",
       "50             1.895566               1.819872           5.828445   \n",
       "100            1.944167               1.904686           6.074176   \n",
       "1000           2.152558               2.151545           7.296395   \n",
       "\n",
       "      MSE over training set  R^2 over test set  R^2 over training set  \n",
       "1                  0.000083           0.539408               0.999992  \n",
       "5                  1.963795           0.490451               0.806223  \n",
       "10                 3.408733           0.471322               0.663644  \n",
       "50                 5.357403           0.425906               0.471360  \n",
       "100                5.823821           0.401702               0.425336  \n",
       "1000               7.289760           0.281315               0.280685  "
      ]
     },
     "execution_count": 57,
     "metadata": {},
     "output_type": "execute_result"
    }
   ],
   "source": [
    "DT_validation_n_leafs([1,5,10,50,100,1000], X_train=X_train2,X_test=X_validation,\n",
    "                      y_train=y_train2,y_test=y_validation)"
   ]
  },
  {
   "cell_type": "code",
   "execution_count": 58,
   "metadata": {
    "collapsed": true
   },
   "outputs": [],
   "source": [
    "# build model - fit - predict with optimal sample parameter\n",
    "model = DecisionTreeRegressor(min_samples_leaf=10)\n",
    "model.fit(X_train, y_train)\n",
    "y_pred = model.predict(X_test)"
   ]
  },
  {
   "cell_type": "code",
   "execution_count": 59,
   "metadata": {},
   "outputs": [
    {
     "name": "stdout",
     "output_type": "stream",
     "text": [
      "MAE over training set: 1.38859354978\n",
      "MAE over test set:     1.75133886729\n",
      "----------------------------\n",
      "MSE over training set: 3.24923384848\n",
      "MSE over test set:     5.17217563014\n",
      "----------------------------\n",
      "R^2 over training set: 0.67949770601\n",
      "R^2 over test set:     0.492948330857\n"
     ]
    }
   ],
   "source": [
    "# MAE evaluation\n",
    "y_training_pred = model.predict(X_train)\n",
    "print('MAE over training set:', mean_absolute_error(y_training_pred, y_train))\n",
    "print('MAE over test set:    ', mean_absolute_error(y_pred, y_test))\n",
    "print('----------------------------')\n",
    "# MSE evaluation\n",
    "print('MSE over training set:', mean_squared_error(y_training_pred, y_train))\n",
    "print('MSE over test set:    ', mean_squared_error(y_pred, y_test))\n",
    "print('----------------------------')\n",
    "# R squared evaluation\n",
    "print('R^2 over training set:', model.score(X_train, y_train))\n",
    "print('R^2 over test set:    ', model.score(X_test, y_test))"
   ]
  },
  {
   "cell_type": "code",
   "execution_count": 60,
   "metadata": {},
   "outputs": [
    {
     "data": {
      "text/plain": [
       "[(0.091758190665322176, 'years'),\n",
       " (0.052612742272421818, 'rich'),\n",
       " (0.042738105346079788, 'simple'),\n",
       " (0.037413950831414314, 'long'),\n",
       " (0.031025037696128202, 'vineyard'),\n",
       " (0.028501605809707189, 'black'),\n",
       " (0.023226336103367353, 'complex'),\n",
       " (0.02147625529429785, 'delicious'),\n",
       " (0.0191892337067326, 'elegant'),\n",
       " (0.017838145628828753, 'beautiful')]"
      ]
     },
     "execution_count": 60,
     "metadata": {},
     "output_type": "execute_result"
    }
   ],
   "source": [
    "# Top 10 features (words that influence the review points)\n",
    "sorted(zip(model.feature_importances_, count_vectorizer.get_feature_names()),reverse=True)[:10]"
   ]
  },
  {
   "cell_type": "markdown",
   "metadata": {},
   "source": [
    "### SGDRegressor - with additional feature 'description'"
   ]
  },
  {
   "cell_type": "code",
   "execution_count": 61,
   "metadata": {
    "collapsed": true
   },
   "outputs": [],
   "source": [
    "from sklearn.linear_model import SGDRegressor"
   ]
  },
  {
   "cell_type": "code",
   "execution_count": 62,
   "metadata": {
    "collapsed": true
   },
   "outputs": [],
   "source": [
    "# create different sets for ML\n",
    "X_train, X_test, y_train, y_test = train_test_split(X_counts, y, test_size=0.15)"
   ]
  },
  {
   "cell_type": "code",
   "execution_count": 63,
   "metadata": {
    "collapsed": true
   },
   "outputs": [],
   "source": [
    "# create the validation set\n",
    "X_train2, X_validation, y_train2, y_validation = train_test_split(X_train, y_train, test_size=0.2)"
   ]
  },
  {
   "cell_type": "code",
   "execution_count": 64,
   "metadata": {},
   "outputs": [
    {
     "name": "stdout",
     "output_type": "stream",
     "text": [
      "size of original trainnig set:                 (113529, 6547)\n",
      "size of new (after vali. split) trainnig set:  (90823, 6547)\n"
     ]
    }
   ],
   "source": [
    "# new training set is smaller:\n",
    "print('size of original trainnig set:                ', X_train.shape)\n",
    "print('size of new (after vali. split) trainnig set: ', X_train2.shape)"
   ]
  },
  {
   "cell_type": "code",
   "execution_count": 65,
   "metadata": {
    "collapsed": true
   },
   "outputs": [],
   "source": [
    "def SGDRegressor_validation_eta0(inputs, X_test, X_train, y_train, y_test):\n",
    "    '''\n",
    "    function to analyse different parameters for the Dicision Tree Regression\n",
    "    outputs a matrix with various validation metrics\n",
    "    '''\n",
    "     \n",
    "    mae_train = []\n",
    "    mae_test = []\n",
    "    mse_train = []\n",
    "    mse_test = []\n",
    "    rsq_train = []\n",
    "    rsq_test = []\n",
    "    \n",
    "    for i in inputs:\n",
    "        model = SGDRegressor(eta0=i)\n",
    "        model.fit(X_train, y_train)\n",
    "        y_pred = model.predict(X_test)\n",
    "        \n",
    "        y_training_pred = model.predict(X_train)\n",
    "        \n",
    "        mae_train.append(mean_absolute_error(y_training_pred, y_train))\n",
    "        mae_test.append(mean_absolute_error(y_pred, y_test))\n",
    "        mse_train.append(mean_squared_error(y_training_pred, y_train))\n",
    "        mse_test.append(mean_squared_error(y_pred, y_test))\n",
    "        rsq_train.append(model.score(X_train, y_train))\n",
    "        rsq_test.append(model.score(X_test, y_test))\n",
    "        \n",
    "        \n",
    "    test_matrix = pd.DataFrame(\n",
    "        {'MAE over training set': mae_train,\n",
    "        'MAE over test set': mae_test,\n",
    "        'MSE over training set': mse_train,\n",
    "        'MSE over test set': mse_test,\n",
    "        'R^2 over training set': rsq_train,\n",
    "        'R^2 over test set': rsq_test},index=inputs)\n",
    "    \n",
    "    return test_matrix"
   ]
  },
  {
   "cell_type": "code",
   "execution_count": 66,
   "metadata": {},
   "outputs": [
    {
     "data": {
      "text/html": [
       "<div>\n",
       "<table border=\"1\" class=\"dataframe\">\n",
       "  <thead>\n",
       "    <tr style=\"text-align: right;\">\n",
       "      <th></th>\n",
       "      <th>MAE over test set</th>\n",
       "      <th>MAE over training set</th>\n",
       "      <th>MSE over test set</th>\n",
       "      <th>MSE over training set</th>\n",
       "      <th>R^2 over test set</th>\n",
       "      <th>R^2 over training set</th>\n",
       "    </tr>\n",
       "  </thead>\n",
       "  <tbody>\n",
       "    <tr>\n",
       "      <th>100.0000</th>\n",
       "      <td>3.379255e+13</td>\n",
       "      <td>3.355633e+13</td>\n",
       "      <td>1.820966e+27</td>\n",
       "      <td>1.809933e+27</td>\n",
       "      <td>-1.782235e+26</td>\n",
       "      <td>-1.788818e+26</td>\n",
       "    </tr>\n",
       "    <tr>\n",
       "      <th>10.0000</th>\n",
       "      <td>4.040936e+12</td>\n",
       "      <td>4.104873e+12</td>\n",
       "      <td>2.599978e+25</td>\n",
       "      <td>2.665593e+25</td>\n",
       "      <td>-2.544677e+24</td>\n",
       "      <td>-2.634495e+24</td>\n",
       "    </tr>\n",
       "    <tr>\n",
       "      <th>1.0000</th>\n",
       "      <td>5.339776e+08</td>\n",
       "      <td>4.852164e+08</td>\n",
       "      <td>5.493583e+17</td>\n",
       "      <td>4.221377e+17</td>\n",
       "      <td>-5.376736e+16</td>\n",
       "      <td>-4.172129e+16</td>\n",
       "    </tr>\n",
       "    <tr>\n",
       "      <th>0.1000</th>\n",
       "      <td>5.560228e+00</td>\n",
       "      <td>5.289106e+00</td>\n",
       "      <td>4.927709e+01</td>\n",
       "      <td>4.445159e+01</td>\n",
       "      <td>-3.822898e+00</td>\n",
       "      <td>-3.393300e+00</td>\n",
       "    </tr>\n",
       "    <tr>\n",
       "      <th>0.0100</th>\n",
       "      <td>1.206970e+01</td>\n",
       "      <td>1.189353e+01</td>\n",
       "      <td>2.318140e+02</td>\n",
       "      <td>2.253165e+02</td>\n",
       "      <td>-2.168834e+01</td>\n",
       "      <td>-2.126879e+01</td>\n",
       "    </tr>\n",
       "    <tr>\n",
       "      <th>0.0010</th>\n",
       "      <td>1.575600e+01</td>\n",
       "      <td>1.564029e+01</td>\n",
       "      <td>3.876044e+02</td>\n",
       "      <td>3.844893e+02</td>\n",
       "      <td>-3.693602e+01</td>\n",
       "      <td>-3.700037e+01</td>\n",
       "    </tr>\n",
       "    <tr>\n",
       "      <th>0.0001</th>\n",
       "      <td>2.091959e+01</td>\n",
       "      <td>2.085080e+01</td>\n",
       "      <td>6.664171e+02</td>\n",
       "      <td>6.647784e+02</td>\n",
       "      <td>-6.422427e+01</td>\n",
       "      <td>-6.470228e+01</td>\n",
       "    </tr>\n",
       "  </tbody>\n",
       "</table>\n",
       "</div>"
      ],
      "text/plain": [
       "          MAE over test set  MAE over training set  MSE over test set  \\\n",
       "100.0000       3.379255e+13           3.355633e+13       1.820966e+27   \n",
       "10.0000        4.040936e+12           4.104873e+12       2.599978e+25   \n",
       "1.0000         5.339776e+08           4.852164e+08       5.493583e+17   \n",
       "0.1000         5.560228e+00           5.289106e+00       4.927709e+01   \n",
       "0.0100         1.206970e+01           1.189353e+01       2.318140e+02   \n",
       "0.0010         1.575600e+01           1.564029e+01       3.876044e+02   \n",
       "0.0001         2.091959e+01           2.085080e+01       6.664171e+02   \n",
       "\n",
       "          MSE over training set  R^2 over test set  R^2 over training set  \n",
       "100.0000           1.809933e+27      -1.782235e+26          -1.788818e+26  \n",
       "10.0000            2.665593e+25      -2.544677e+24          -2.634495e+24  \n",
       "1.0000             4.221377e+17      -5.376736e+16          -4.172129e+16  \n",
       "0.1000             4.445159e+01      -3.822898e+00          -3.393300e+00  \n",
       "0.0100             2.253165e+02      -2.168834e+01          -2.126879e+01  \n",
       "0.0010             3.844893e+02      -3.693602e+01          -3.700037e+01  \n",
       "0.0001             6.647784e+02      -6.422427e+01          -6.470228e+01  "
      ]
     },
     "execution_count": 66,
     "metadata": {},
     "output_type": "execute_result"
    }
   ],
   "source": [
    "SGDRegressor_validation_eta0([100,10,1,0.1,0.01,0.001,0.0001], X_train=X_train2,X_test=X_validation,y_train=y_train2,y_test=y_validation)"
   ]
  },
  {
   "cell_type": "code",
   "execution_count": 67,
   "metadata": {
    "collapsed": true
   },
   "outputs": [],
   "source": [
    "# build model - fit - predict with optimal sample parameter\n",
    "model = SGDRegressor(eta0=0.1)\n",
    "model.fit(X_train, y_train)\n",
    "y_pred = model.predict(X_test)"
   ]
  },
  {
   "cell_type": "code",
   "execution_count": 68,
   "metadata": {},
   "outputs": [
    {
     "data": {
      "text/plain": [
       "-2.288338838121637"
      ]
     },
     "execution_count": 68,
     "metadata": {},
     "output_type": "execute_result"
    }
   ],
   "source": [
    "model.score(X_train, y_train)"
   ]
  },
  {
   "cell_type": "code",
   "execution_count": 69,
   "metadata": {},
   "outputs": [
    {
     "data": {
      "text/plain": [
       "[(6.0941794327889518, 'feline'),\n",
       " (5.5506757117335521, 'porty'),\n",
       " (5.4861057658449104, 'slender'),\n",
       " (5.4823756032170241, 'watery'),\n",
       " (5.2648753319110799, 'harsh'),\n",
       " (5.1903073818009, 'scoury'),\n",
       " (5.1725670761625331, 'refreshment'),\n",
       " (5.1544426109585233, 'handful'),\n",
       " (5.0646842789643225, 'meursault'),\n",
       " (5.0104985607479664, 'vinegary')]"
      ]
     },
     "execution_count": 69,
     "metadata": {},
     "output_type": "execute_result"
    }
   ],
   "source": [
    "# Top 10 features (words that influence the review points)\n",
    "sorted(zip(model.coef_, count_vectorizer.get_feature_names()),reverse=True)[:10]"
   ]
  },
  {
   "cell_type": "markdown",
   "metadata": {},
   "source": [
    "### ElasticNet Regression - with additional feature 'description'"
   ]
  },
  {
   "cell_type": "code",
   "execution_count": 70,
   "metadata": {
    "collapsed": true
   },
   "outputs": [],
   "source": [
    "from sklearn.linear_model import ElasticNet"
   ]
  },
  {
   "cell_type": "code",
   "execution_count": 71,
   "metadata": {
    "collapsed": true
   },
   "outputs": [],
   "source": [
    "# create different sets for ML\n",
    "X_train, X_test, y_train, y_test = train_test_split(X_counts, y, test_size=0.15)"
   ]
  },
  {
   "cell_type": "code",
   "execution_count": 72,
   "metadata": {
    "collapsed": true
   },
   "outputs": [],
   "source": [
    "# create the validation set\n",
    "X_train2, X_validation, y_train2, y_validation = train_test_split(X_train, y_train, test_size=0.2)"
   ]
  },
  {
   "cell_type": "code",
   "execution_count": 73,
   "metadata": {},
   "outputs": [
    {
     "name": "stdout",
     "output_type": "stream",
     "text": [
      "size of original trainnig set:                 (113529, 6547)\n",
      "size of new (after vali. split) trainnig set:  (90823, 6547)\n"
     ]
    }
   ],
   "source": [
    "# new training set is smaller:\n",
    "print('size of original trainnig set:                ', X_train.shape)\n",
    "print('size of new (after vali. split) trainnig set: ', X_train2.shape)"
   ]
  },
  {
   "cell_type": "code",
   "execution_count": 74,
   "metadata": {
    "collapsed": true
   },
   "outputs": [],
   "source": [
    "def ElasticNet_l1_ratio(inputs, X_test, X_train, y_train, y_test):\n",
    "    '''\n",
    "    function to analyse different parameters for the Dicision Tree Regression\n",
    "    outputs a matrix with various validation metrics\n",
    "    '''\n",
    "     \n",
    "    mae_train = []\n",
    "    mae_test = []\n",
    "    mse_train = []\n",
    "    mse_test = []\n",
    "    rsq_train = []\n",
    "    rsq_test = []\n",
    "    \n",
    "    for i, j in inputs:\n",
    "        model = ElasticNet(alpha=i, l1_ratio=j)\n",
    "        model.fit(X_train, y_train)\n",
    "        y_pred = model.predict(X_test)\n",
    "        \n",
    "        y_training_pred = model.predict(X_train)\n",
    "        \n",
    "        mae_train.append(mean_absolute_error(y_training_pred, y_train))\n",
    "        mae_test.append(mean_absolute_error(y_pred, y_test))\n",
    "        mse_train.append(mean_squared_error(y_training_pred, y_train))\n",
    "        mse_test.append(mean_squared_error(y_pred, y_test))\n",
    "        rsq_train.append(model.score(X_train, y_train))\n",
    "        rsq_test.append(model.score(X_test, y_test))\n",
    "        \n",
    "        \n",
    "    test_matrix = pd.DataFrame(\n",
    "        {'MAE over training set': mae_train,\n",
    "        'MAE over test set': mae_test,\n",
    "        'MSE over training set': mse_train,\n",
    "        'MSE over test set': mse_test,\n",
    "        'R^2 over training set': rsq_train,\n",
    "        'R^2 over test set': rsq_test},index=inputs)\n",
    "    \n",
    "    return test_matrix"
   ]
  },
  {
   "cell_type": "code",
   "execution_count": 75,
   "metadata": {
    "collapsed": true
   },
   "outputs": [],
   "source": [
    "#ElasticNet_l1_ratio([(100,0),(10,0),(1,0),(0.1,0),(0.01,0),(0.001,0),(0,0),\n",
    "#                    (100,0.5),(10,0.5),(1,0.5),(0.1,0.5),(0.01,0.5),(0.001,0.5),(0,0.5),\n",
    "#                    (100,1),(10,1),(1,1),(0.1,1),(0.01,1),(0.001,1),(0,1)], \n",
    "#                    X_train=X_train2,X_test=X_validation,y_train=y_train2,y_test=y_validation)"
   ]
  },
  {
   "cell_type": "code",
   "execution_count": 76,
   "metadata": {
    "collapsed": true
   },
   "outputs": [],
   "source": [
    "# build model - fit - predict with optimal sample parameter\n",
    "model = ElasticNet(alpha=1, l1_ratio=1)\n",
    "model.fit(X_train, y_train)\n",
    "y_pred = model.predict(X_test)"
   ]
  },
  {
   "cell_type": "code",
   "execution_count": 77,
   "metadata": {},
   "outputs": [
    {
     "data": {
      "text/plain": [
       "0.0"
      ]
     },
     "execution_count": 77,
     "metadata": {},
     "output_type": "execute_result"
    }
   ],
   "source": [
    "model.score(X_train, y_train)"
   ]
  },
  {
   "cell_type": "code",
   "execution_count": 78,
   "metadata": {},
   "outputs": [
    {
     "data": {
      "text/plain": [
       "[(0.0, 'zweigelt'),\n",
       " (-0.0, 'zonin'),\n",
       " (0.0, 'zone'),\n",
       " (-0.0, 'zippy'),\n",
       " (-0.0, 'zip'),\n",
       " (0.0, 'zins'),\n",
       " (0.0, 'zinny'),\n",
       " (-0.0, 'zingy'),\n",
       " (0.0, 'zing'),\n",
       " (0.0, 'zinfandels')]"
      ]
     },
     "execution_count": 78,
     "metadata": {},
     "output_type": "execute_result"
    }
   ],
   "source": [
    "# Top 10 features (words that influence the review points)\n",
    "sorted(zip(model.coef_, count_vectorizer.get_feature_names()),reverse=True)[:10]"
   ]
  },
  {
   "cell_type": "markdown",
   "metadata": {
    "collapsed": true
   },
   "source": [
    "### LinearSV Regression - with additional feature 'description'"
   ]
  },
  {
   "cell_type": "code",
   "execution_count": 79,
   "metadata": {
    "collapsed": true
   },
   "outputs": [],
   "source": [
    "from sklearn.svm import LinearSVR"
   ]
  },
  {
   "cell_type": "code",
   "execution_count": 80,
   "metadata": {
    "collapsed": true
   },
   "outputs": [],
   "source": [
    "# create different sets for ML\n",
    "X_train, X_test, y_train, y_test = train_test_split(X_counts, y, test_size=0.15)"
   ]
  },
  {
   "cell_type": "code",
   "execution_count": 81,
   "metadata": {
    "collapsed": true
   },
   "outputs": [],
   "source": [
    "# create the validation set\n",
    "X_train2, X_validation, y_train2, y_validation = train_test_split(X_train, y_train, test_size=0.2)"
   ]
  },
  {
   "cell_type": "code",
   "execution_count": 82,
   "metadata": {},
   "outputs": [
    {
     "name": "stdout",
     "output_type": "stream",
     "text": [
      "size of original trainnig set:                 (113529, 6547)\n",
      "size of new (after vali. split) trainnig set:  (90823, 6547)\n"
     ]
    }
   ],
   "source": [
    "# new training set is smaller:\n",
    "print('size of original trainnig set:                ', X_train.shape)\n",
    "print('size of new (after vali. split) trainnig set: ', X_train2.shape)"
   ]
  },
  {
   "cell_type": "code",
   "execution_count": 83,
   "metadata": {
    "collapsed": true
   },
   "outputs": [],
   "source": [
    "def LinearSVC_C(inputs, X_test, X_train, y_train, y_test):\n",
    "    '''\n",
    "    function to analyse different parameters for the Dicision Tree Regression\n",
    "    outputs a matrix with various validation metrics\n",
    "    '''\n",
    "     \n",
    "    mae_train = []\n",
    "    mae_test = []\n",
    "    mse_train = []\n",
    "    mse_test = []\n",
    "    rsq_train = []\n",
    "    rsq_test = []\n",
    "    \n",
    "    for i in inputs:\n",
    "        model = LinearSVR(C=i)\n",
    "        model.fit(X_train, y_train)\n",
    "        y_pred = model.predict(X_test)\n",
    "        \n",
    "        y_training_pred = model.predict(X_train)\n",
    "        \n",
    "        mae_train.append(mean_absolute_error(y_training_pred, y_train))\n",
    "        mae_test.append(mean_absolute_error(y_pred, y_test))\n",
    "        mse_train.append(mean_squared_error(y_training_pred, y_train))\n",
    "        mse_test.append(mean_squared_error(y_pred, y_test))\n",
    "        rsq_train.append(model.score(X_train, y_train))\n",
    "        rsq_test.append(model.score(X_test, y_test))\n",
    "        print('Calculating model {0} of {1}'.format(i,len(inputs)))\n",
    "        \n",
    "    test_matrix = pd.DataFrame(\n",
    "        {'MAE over training set': mae_train,\n",
    "        'MAE over test set': mae_test,\n",
    "        'MSE over training set': mse_train,\n",
    "        'MSE over test set': mse_test,\n",
    "        'R^2 over training set': rsq_train,\n",
    "        'R^2 over test set': rsq_test},index=inputs)\n",
    "    \n",
    "    return test_matrix"
   ]
  },
  {
   "cell_type": "code",
   "execution_count": 84,
   "metadata": {},
   "outputs": [
    {
     "name": "stdout",
     "output_type": "stream",
     "text": [
      "Calculating model 0.01 of 7\n",
      "Calculating model 0.1 of 7\n",
      "Calculating model 1 of 7\n",
      "Calculating model 10 of 7\n",
      "Calculating model 100 of 7\n",
      "Calculating model 1000 of 7\n",
      "Calculating model 10000 of 7\n"
     ]
    },
    {
     "data": {
      "text/html": [
       "<div>\n",
       "<table border=\"1\" class=\"dataframe\">\n",
       "  <thead>\n",
       "    <tr style=\"text-align: right;\">\n",
       "      <th></th>\n",
       "      <th>MAE over test set</th>\n",
       "      <th>MAE over training set</th>\n",
       "      <th>MSE over test set</th>\n",
       "      <th>MSE over training set</th>\n",
       "      <th>R^2 over test set</th>\n",
       "      <th>R^2 over training set</th>\n",
       "    </tr>\n",
       "  </thead>\n",
       "  <tbody>\n",
       "    <tr>\n",
       "      <th>0.01</th>\n",
       "      <td>1.548421</td>\n",
       "      <td>1.504236</td>\n",
       "      <td>4.050637</td>\n",
       "      <td>3.876618</td>\n",
       "      <td>0.600243</td>\n",
       "      <td>0.618176</td>\n",
       "    </tr>\n",
       "    <tr>\n",
       "      <th>0.10</th>\n",
       "      <td>1.323737</td>\n",
       "      <td>1.220256</td>\n",
       "      <td>2.968106</td>\n",
       "      <td>2.649634</td>\n",
       "      <td>0.707078</td>\n",
       "      <td>0.739027</td>\n",
       "    </tr>\n",
       "    <tr>\n",
       "      <th>1.00</th>\n",
       "      <td>1.343200</td>\n",
       "      <td>1.190873</td>\n",
       "      <td>3.092029</td>\n",
       "      <td>2.621300</td>\n",
       "      <td>0.694848</td>\n",
       "      <td>0.741817</td>\n",
       "    </tr>\n",
       "    <tr>\n",
       "      <th>10.00</th>\n",
       "      <td>1.359455</td>\n",
       "      <td>1.200145</td>\n",
       "      <td>3.169713</td>\n",
       "      <td>2.654437</td>\n",
       "      <td>0.687181</td>\n",
       "      <td>0.738554</td>\n",
       "    </tr>\n",
       "    <tr>\n",
       "      <th>100.00</th>\n",
       "      <td>1.596182</td>\n",
       "      <td>1.480355</td>\n",
       "      <td>4.175776</td>\n",
       "      <td>3.636551</td>\n",
       "      <td>0.587893</td>\n",
       "      <td>0.641821</td>\n",
       "    </tr>\n",
       "    <tr>\n",
       "      <th>1000.00</th>\n",
       "      <td>1.779587</td>\n",
       "      <td>1.682067</td>\n",
       "      <td>5.108345</td>\n",
       "      <td>4.551581</td>\n",
       "      <td>0.495857</td>\n",
       "      <td>0.551696</td>\n",
       "    </tr>\n",
       "    <tr>\n",
       "      <th>10000.00</th>\n",
       "      <td>1.873564</td>\n",
       "      <td>1.783962</td>\n",
       "      <td>5.652069</td>\n",
       "      <td>5.100676</td>\n",
       "      <td>0.442197</td>\n",
       "      <td>0.497614</td>\n",
       "    </tr>\n",
       "  </tbody>\n",
       "</table>\n",
       "</div>"
      ],
      "text/plain": [
       "          MAE over test set  MAE over training set  MSE over test set  \\\n",
       "0.01               1.548421               1.504236           4.050637   \n",
       "0.10               1.323737               1.220256           2.968106   \n",
       "1.00               1.343200               1.190873           3.092029   \n",
       "10.00              1.359455               1.200145           3.169713   \n",
       "100.00             1.596182               1.480355           4.175776   \n",
       "1000.00            1.779587               1.682067           5.108345   \n",
       "10000.00           1.873564               1.783962           5.652069   \n",
       "\n",
       "          MSE over training set  R^2 over test set  R^2 over training set  \n",
       "0.01                   3.876618           0.600243               0.618176  \n",
       "0.10                   2.649634           0.707078               0.739027  \n",
       "1.00                   2.621300           0.694848               0.741817  \n",
       "10.00                  2.654437           0.687181               0.738554  \n",
       "100.00                 3.636551           0.587893               0.641821  \n",
       "1000.00                4.551581           0.495857               0.551696  \n",
       "10000.00               5.100676           0.442197               0.497614  "
      ]
     },
     "execution_count": 84,
     "metadata": {},
     "output_type": "execute_result"
    }
   ],
   "source": [
    "LinearSVC_C([0.01,0.1,1,10,100,1000,10000],\n",
    "            X_train=X_train2,X_test=X_validation,y_train=y_train2,y_test=y_validation)"
   ]
  },
  {
   "cell_type": "code",
   "execution_count": 85,
   "metadata": {
    "collapsed": true
   },
   "outputs": [],
   "source": [
    "# build model - fit - predict with optimal sample parameter\n",
    "model = LinearSVR(C=0.1)\n",
    "model.fit(X_train, y_train)\n",
    "y_pred = model.predict(X_test)"
   ]
  },
  {
   "cell_type": "code",
   "execution_count": 86,
   "metadata": {},
   "outputs": [
    {
     "name": "stdout",
     "output_type": "stream",
     "text": [
      "0.736964728517\n",
      "<bound method BaseEstimator.get_params of LinearSVR(C=0.1, dual=True, epsilon=0.0, fit_intercept=True,\n",
      "     intercept_scaling=1.0, loss='epsilon_insensitive', max_iter=1000,\n",
      "     random_state=None, tol=0.0001, verbose=0)>\n"
     ]
    }
   ],
   "source": [
    "print(model.score(X_train, y_train))\n",
    "print(model.get_params)"
   ]
  },
  {
   "cell_type": "code",
   "execution_count": 87,
   "metadata": {},
   "outputs": [
    {
     "data": {
      "text/plain": [
       "[(1.5400276505377395, 'rancio'),\n",
       " (1.401766417273008, 'brunello'),\n",
       " (1.3999999999999999, 'masterpiece'),\n",
       " (1.3680183240927999, 'exquisitely'),\n",
       " (1.3520493432811418, 'goldeneye'),\n",
       " (1.3462620867271742, 'dazzlingly'),\n",
       " (1.3270681844076044, 'gorgeous'),\n",
       " (1.3068612976838165, 'fabulous'),\n",
       " (1.3018131654462801, 'immense'),\n",
       " (1.2673947656492721, 'fascinating'),\n",
       " (1.2636381517186868, '2025'),\n",
       " (1.262586949878866, 'dazzling'),\n",
       " (1.2440092706892492, 'decadently'),\n",
       " (1.2390350662770835, 'fabulously'),\n",
       " (1.2368858826274447, 'impressively'),\n",
       " (1.2348917290608084, 'sainte'),\n",
       " (1.2307231304513615, 'extraordinary'),\n",
       " (1.2134874686619079, 'forever'),\n",
       " (1.2092650076266644, 'beautiful'),\n",
       " (1.200696502058199, 'impressive')]"
      ]
     },
     "execution_count": 87,
     "metadata": {},
     "output_type": "execute_result"
    }
   ],
   "source": [
    "sorted(zip(model.coef_, count_vectorizer.get_feature_names()),reverse=True)[:20]"
   ]
  },
  {
   "cell_type": "code",
   "execution_count": null,
   "metadata": {
    "collapsed": true
   },
   "outputs": [],
   "source": []
  },
  {
   "cell_type": "markdown",
   "metadata": {},
   "source": [
    "## Additional Plots"
   ]
  },
  {
   "cell_type": "code",
   "execution_count": null,
   "metadata": {
    "collapsed": true
   },
   "outputs": [],
   "source": []
  },
  {
   "cell_type": "code",
   "execution_count": 88,
   "metadata": {},
   "outputs": [
    {
     "data": {
      "image/png": "[encoded data removed]",
      "text/plain": [
       "<matplotlib.figure.Figure at 0x118061128>"
      ]
     },
     "metadata": {},
     "output_type": "display_data"
    }
   ],
   "source": [
    "sns.distplot(wine_country_cap_dummy['price'])\n",
    "sns.plt.title('Distribution of prices per botle of wine')\n",
    "sns.plt.savefig('price_dist.png')"
   ]
  },
  {
   "cell_type": "code",
   "execution_count": 89,
   "metadata": {},
   "outputs": [
    {
     "data": {
      "text/plain": [
       "<matplotlib.text.Text at 0x1170ca240>"
      ]
     },
     "execution_count": 89,
     "metadata": {},
     "output_type": "execute_result"
    },
    {
     "data": {
      "image/png": "[encoded data removed]",
      "text/plain": [
       "<matplotlib.figure.Figure at 0x118061b00>"
      ]
     },
     "metadata": {},
     "output_type": "display_data"
    }
   ],
   "source": [
    "sns.distplot(wine_country_cap_dummy['points'], bins=20)\n",
    "sns.plt.title('Distribution of review scores')\n",
    "#sns.plt.savefig('price_dist.png')"
   ]
  },
  {
   "cell_type": "code",
   "execution_count": null,
   "metadata": {
    "collapsed": true
   },
   "outputs": [],
   "source": []
  },
  {
   "cell_type": "code",
   "execution_count": null,
   "metadata": {
    "collapsed": true
   },
   "outputs": [],
   "source": []
  },
  {
   "cell_type": "code",
   "execution_count": null,
   "metadata": {},
   "outputs": [],
   "source": []
  },
  {
   "cell_type": "code",
   "execution_count": null,
   "metadata": {
    "collapsed": true
   },
   "outputs": [],
   "source": []
  },
  {
   "cell_type": "code",
   "execution_count": null,
   "metadata": {
    "collapsed": true
   },
   "outputs": [],
   "source": []
  },
  {
   "cell_type": "code",
   "execution_count": null,
   "metadata": {
    "collapsed": true
   },
   "outputs": [],
   "source": []
  },
  {
   "cell_type": "code",
   "execution_count": null,
   "metadata": {
    "collapsed": true
   },
   "outputs": [],
   "source": []
  },
  {
   "cell_type": "code",
   "execution_count": null,
   "metadata": {
    "collapsed": true
   },
   "outputs": [],
   "source": []
  },
  {
   "cell_type": "code",
   "execution_count": null,
   "metadata": {
    "collapsed": true
   },
   "outputs": [],
   "source": []
  }
 ],
 "metadata": {
  "kernelspec": {
   "display_name": "Python 3",
   "language": "python",
   "name": "python3"
  },
  "language_info": {
   "codemirror_mode": {
    "name": "ipython",
    "version": 3
   },
   "file_extension": ".py",
   "mimetype": "text/x-python",
   "name": "python",
   "nbconvert_exporter": "python",
   "pygments_lexer": "ipython3",
   "version": "3.6.1"
  }
 },
 "nbformat": 4,
 "nbformat_minor": 2
}
