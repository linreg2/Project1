{
 "cells": [
  {
   "cell_type": "markdown",
   "metadata": {},
   "source": [
    "# Project Wine Reviews"
   ]
  },
  {
   "cell_type": "code",
   "execution_count": 1,
   "metadata": {
    "collapsed": true
   },
   "outputs": [],
   "source": [
    "# Step 1: Data Wrangling"
   ]
  },
  {
   "cell_type": "code",
   "execution_count": 2,
   "metadata": {
    "collapsed": true
   },
   "outputs": [],
   "source": [
    "# importing libraries\n",
    "\n",
    "import numpy as np\n",
    "import pandas as pd\n",
    "import matplotlib.pyplot as plt \n",
    "import seaborn as sns\n",
    "% matplotlib inline\n",
    "\n",
    "pd.options.display.max_seq_items = 500\n",
    "pd.set_option('max_rows', 500)\n",
    "pd.set_option('max_columns', 500)"
   ]
  },
  {
   "cell_type": "code",
   "execution_count": 3,
   "metadata": {
    "collapsed": true
   },
   "outputs": [],
   "source": [
    "# importing data\n",
    "wine = pd.read_csv('winemag-data_first150k.csv')"
   ]
  },
  {
   "cell_type": "code",
   "execution_count": 4,
   "metadata": {
    "collapsed": true
   },
   "outputs": [],
   "source": [
    "wine = wine.dropna(subset=['price'])"
   ]
  },
  {
   "cell_type": "code",
   "execution_count": 5,
   "metadata": {
    "collapsed": true
   },
   "outputs": [],
   "source": [
    "wine['points_bins'] = pd.qcut(wine['points'], q=5, \n",
    "                              labels=['very low','low', 'medium', 'high', 'very high'])"
   ]
  },
  {
   "cell_type": "code",
   "execution_count": 6,
   "metadata": {},
   "outputs": [
    {
     "name": "stdout",
     "output_type": "stream",
     "text": [
      "136368\n"
     ]
    }
   ],
   "source": [
    "wine_price_cap = wine[wine.price < 200] \n",
    "print(len(wine_price_cap))"
   ]
  },
  {
   "cell_type": "code",
   "execution_count": 7,
   "metadata": {},
   "outputs": [
    {
     "data": {
      "text/html": [
       "<div>\n",
       "<table border=\"1\" class=\"dataframe\">\n",
       "  <thead>\n",
       "    <tr style=\"text-align: right;\">\n",
       "      <th></th>\n",
       "      <th>country</th>\n",
       "      <th>description</th>\n",
       "      <th>designation</th>\n",
       "      <th>points</th>\n",
       "      <th>price</th>\n",
       "      <th>province</th>\n",
       "      <th>region_1</th>\n",
       "      <th>region_2</th>\n",
       "      <th>variety</th>\n",
       "      <th>winery</th>\n",
       "      <th>points_bins</th>\n",
       "    </tr>\n",
       "  </thead>\n",
       "  <tbody>\n",
       "    <tr>\n",
       "      <th>1</th>\n",
       "      <td>Spain</td>\n",
       "      <td>Ripe aromas of fig, blackberry and cassis are ...</td>\n",
       "      <td>Carodorum Selección Especial Reserva</td>\n",
       "      <td>96</td>\n",
       "      <td>110.0</td>\n",
       "      <td>Northern Spain</td>\n",
       "      <td>Toro</td>\n",
       "      <td>NaN</td>\n",
       "      <td>Tinta de Toro</td>\n",
       "      <td>Bodega Carmen Rodríguez</td>\n",
       "      <td>very high</td>\n",
       "    </tr>\n",
       "  </tbody>\n",
       "</table>\n",
       "</div>"
      ],
      "text/plain": [
       "  country                                        description  \\\n",
       "1   Spain  Ripe aromas of fig, blackberry and cassis are ...   \n",
       "\n",
       "                            designation  points  price        province  \\\n",
       "1  Carodorum Selección Especial Reserva      96  110.0  Northern Spain   \n",
       "\n",
       "  region_1 region_2        variety                   winery points_bins  \n",
       "1     Toro      NaN  Tinta de Toro  Bodega Carmen Rodríguez   very high  "
      ]
     },
     "execution_count": 7,
     "metadata": {},
     "output_type": "execute_result"
    }
   ],
   "source": [
    "wine_price_cap.head(1)"
   ]
  },
  {
   "cell_type": "code",
   "execution_count": 8,
   "metadata": {},
   "outputs": [
    {
     "name": "stdout",
     "output_type": "stream",
     "text": [
      "US             62021\n",
      "Italy          18641\n",
      "France         14375\n",
      "Spain           8102\n",
      "Chile           5753\n",
      "Argentina       5580\n",
      "Australia       4855\n",
      "Portugal        4156\n",
      "New Zealand     3070\n",
      "Austria         2480\n",
      "Name: country, dtype: int64\n"
     ]
    }
   ],
   "source": [
    "#wine_grouped = wine.groupby(['country'])\n",
    "print(wine_price_cap.country.value_counts()[:10])"
   ]
  },
  {
   "cell_type": "code",
   "execution_count": 9,
   "metadata": {},
   "outputs": [
    {
     "data": {
      "text/html": [
       "<div>\n",
       "<table border=\"1\" class=\"dataframe\">\n",
       "  <thead>\n",
       "    <tr style=\"text-align: right;\">\n",
       "      <th></th>\n",
       "      <th>country</th>\n",
       "      <th>description</th>\n",
       "      <th>designation</th>\n",
       "      <th>points</th>\n",
       "      <th>price</th>\n",
       "      <th>province</th>\n",
       "      <th>region_1</th>\n",
       "      <th>region_2</th>\n",
       "      <th>variety</th>\n",
       "      <th>winery</th>\n",
       "      <th>points_bins</th>\n",
       "    </tr>\n",
       "  </thead>\n",
       "  <tbody>\n",
       "    <tr>\n",
       "      <th>1</th>\n",
       "      <td>Spain</td>\n",
       "      <td>Ripe aromas of fig, blackberry and cassis are ...</td>\n",
       "      <td>Carodorum Selección Especial Reserva</td>\n",
       "      <td>96</td>\n",
       "      <td>110.0</td>\n",
       "      <td>Northern Spain</td>\n",
       "      <td>Toro</td>\n",
       "      <td>NaN</td>\n",
       "      <td>Tinta de Toro</td>\n",
       "      <td>Bodega Carmen Rodríguez</td>\n",
       "      <td>very high</td>\n",
       "    </tr>\n",
       "  </tbody>\n",
       "</table>\n",
       "</div>"
      ],
      "text/plain": [
       "  country                                        description  \\\n",
       "1   Spain  Ripe aromas of fig, blackberry and cassis are ...   \n",
       "\n",
       "                            designation  points  price        province  \\\n",
       "1  Carodorum Selección Especial Reserva      96  110.0  Northern Spain   \n",
       "\n",
       "  region_1 region_2        variety                   winery points_bins  \n",
       "1     Toro      NaN  Tinta de Toro  Bodega Carmen Rodríguez   very high  "
      ]
     },
     "execution_count": 9,
     "metadata": {},
     "output_type": "execute_result"
    }
   ],
   "source": [
    "wine_country_cap = wine_price_cap[\n",
    "    wine_price_cap.country.isin(wine_price_cap.country.value_counts()[:12].index)]\n",
    "wine_country_cap.head(1)"
   ]
  },
  {
   "cell_type": "markdown",
   "metadata": {},
   "source": [
    "## Step 2: Decision Trees - Regression"
   ]
  },
  {
   "cell_type": "code",
   "execution_count": 10,
   "metadata": {
    "collapsed": true
   },
   "outputs": [],
   "source": [
    "# import Sklean modules\n",
    "from sklearn.model_selection import train_test_split\n",
    "from sklearn import tree\n",
    "from sklearn.tree import DecisionTreeRegressor\n",
    "from sklearn.metrics import mean_squared_error, mean_absolute_error"
   ]
  },
  {
   "cell_type": "code",
   "execution_count": 11,
   "metadata": {},
   "outputs": [
    {
     "data": {
      "text/html": [
       "<div>\n",
       "<table border=\"1\" class=\"dataframe\">\n",
       "  <thead>\n",
       "    <tr style=\"text-align: right;\">\n",
       "      <th></th>\n",
       "      <th>country</th>\n",
       "      <th>description</th>\n",
       "      <th>designation</th>\n",
       "      <th>points</th>\n",
       "      <th>price</th>\n",
       "      <th>province</th>\n",
       "      <th>region_1</th>\n",
       "      <th>region_2</th>\n",
       "      <th>variety</th>\n",
       "      <th>winery</th>\n",
       "      <th>points_bins</th>\n",
       "      <th>Argentina</th>\n",
       "      <th>Australia</th>\n",
       "      <th>Austria</th>\n",
       "      <th>Chile</th>\n",
       "      <th>France</th>\n",
       "      <th>Germany</th>\n",
       "      <th>Italy</th>\n",
       "      <th>New Zealand</th>\n",
       "      <th>Portugal</th>\n",
       "      <th>South Africa</th>\n",
       "      <th>Spain</th>\n",
       "      <th>US</th>\n",
       "    </tr>\n",
       "  </thead>\n",
       "  <tbody>\n",
       "    <tr>\n",
       "      <th>1</th>\n",
       "      <td>Spain</td>\n",
       "      <td>Ripe aromas of fig, blackberry and cassis are ...</td>\n",
       "      <td>Carodorum Selección Especial Reserva</td>\n",
       "      <td>96</td>\n",
       "      <td>110.0</td>\n",
       "      <td>Northern Spain</td>\n",
       "      <td>Toro</td>\n",
       "      <td>NaN</td>\n",
       "      <td>Tinta de Toro</td>\n",
       "      <td>Bodega Carmen Rodríguez</td>\n",
       "      <td>very high</td>\n",
       "      <td>0.0</td>\n",
       "      <td>0.0</td>\n",
       "      <td>0.0</td>\n",
       "      <td>0.0</td>\n",
       "      <td>0.0</td>\n",
       "      <td>0.0</td>\n",
       "      <td>0.0</td>\n",
       "      <td>0.0</td>\n",
       "      <td>0.0</td>\n",
       "      <td>0.0</td>\n",
       "      <td>1.0</td>\n",
       "      <td>0.0</td>\n",
       "    </tr>\n",
       "  </tbody>\n",
       "</table>\n",
       "</div>"
      ],
      "text/plain": [
       "  country                                        description  \\\n",
       "1   Spain  Ripe aromas of fig, blackberry and cassis are ...   \n",
       "\n",
       "                            designation  points  price        province  \\\n",
       "1  Carodorum Selección Especial Reserva      96  110.0  Northern Spain   \n",
       "\n",
       "  region_1 region_2        variety                   winery points_bins  \\\n",
       "1     Toro      NaN  Tinta de Toro  Bodega Carmen Rodríguez   very high   \n",
       "\n",
       "   Argentina  Australia  Austria  Chile  France  Germany  Italy  New Zealand  \\\n",
       "1        0.0        0.0      0.0    0.0     0.0      0.0    0.0          0.0   \n",
       "\n",
       "   Portugal  South Africa  Spain   US  \n",
       "1       0.0           0.0    1.0  0.0  "
      ]
     },
     "execution_count": 11,
     "metadata": {},
     "output_type": "execute_result"
    }
   ],
   "source": [
    "# convert country column into dummy varables\n",
    "wine_country_dummy = pd.get_dummies(wine_country_cap['country'])\n",
    "wine_country_cap_dummy = pd.concat([wine_country_cap, wine_country_dummy], axis=1)\n",
    "wine_country_cap_dummy.head(1)"
   ]
  },
  {
   "cell_type": "code",
   "execution_count": 12,
   "metadata": {},
   "outputs": [
    {
     "name": "stdout",
     "output_type": "stream",
     "text": [
      "Number of Observations in Trainig Set:     93494   (70%) \n",
      "Number of Observations in Validation Set:  20035   (15%) \n",
      "Number of Observations in Test Set:        20035   (15%)\n"
     ]
    }
   ],
   "source": [
    "train, validate, test = np.split(wine_country_cap_dummy.sample(frac=1),\n",
    "                                 [int(0.7 * len(wine_country_cap_dummy)), \n",
    "                                  int(0.85 * len(wine_country_cap_dummy))])\n",
    "print('Number of Observations in Trainig Set:    ', len(train), '  (70%)',\n",
    "      '\\nNumber of Observations in Validation Set: ', len(validate),'  (15%)',\n",
    "      '\\nNumber of Observations in Test Set:       ', len(test),'  (15%)')"
   ]
  },
  {
   "cell_type": "code",
   "execution_count": 13,
   "metadata": {
    "collapsed": true
   },
   "outputs": [],
   "source": [
    "X_train = train[['price','Argentina','Australia','Austria','Chile',\n",
    "                            'France','Germany','Italy','New Zealand','Portugal',\n",
    "                            'South Africa','Spain','US']]\n",
    "X_train = np.array(X_train)\n",
    "y_train = train['points']\n",
    "y_train = np.array(y_train)"
   ]
  },
  {
   "cell_type": "code",
   "execution_count": 14,
   "metadata": {
    "collapsed": true
   },
   "outputs": [],
   "source": [
    "X_validate = validate[['price','Argentina','Australia','Austria','Chile',\n",
    "                            'France','Germany','Italy','New Zealand','Portugal',\n",
    "                            'South Africa','Spain','US']]\n",
    "X_validate = np.array(X_validate)\n",
    "y_validate = validate['points']\n",
    "y_validate = np.array(y_validate)"
   ]
  },
  {
   "cell_type": "code",
   "execution_count": 15,
   "metadata": {
    "collapsed": true
   },
   "outputs": [],
   "source": [
    "X_test = test[['price','Argentina','Australia','Austria','Chile',\n",
    "                            'France','Germany','Italy','New Zealand','Portugal',\n",
    "                            'South Africa','Spain','US']]\n",
    "X_test = np.array(X_test)\n",
    "y_test = test['points']\n",
    "y_test = np.array(y_test)"
   ]
  },
  {
   "cell_type": "code",
   "execution_count": 16,
   "metadata": {
    "collapsed": true
   },
   "outputs": [],
   "source": [
    "def DT_test(inputs, X_train, X_test, y_train, y_test):\n",
    "    '''\n",
    "    function to analyse different parameters for Regression\n",
    "    outputs a matrix with various validation metrics\n",
    "    '''\n",
    "    mae_train = []\n",
    "    mae_test = []\n",
    "    mse_train = []\n",
    "    mse_test = []\n",
    "    rsq_train = []\n",
    "    rsq_test = []\n",
    "    \n",
    "    for i in inputs:\n",
    "        model = DecisionTreeRegressor(min_samples_leaf=i)\n",
    "        model.fit(X_train, y_train)\n",
    "        y_pred = model.predict(X_test)\n",
    "        \n",
    "        y_training_pred = model.predict(X_train)\n",
    "        \n",
    "        mae_train.append(mean_absolute_error(y_training_pred, y_train))\n",
    "        mae_test.append(mean_absolute_error(y_pred, y_test))\n",
    "        mse_train.append(mean_squared_error(y_training_pred, y_train))\n",
    "        mse_test.append(mean_squared_error(y_pred, y_test))\n",
    "        rsq_train.append(model.score(X_train, y_train))\n",
    "        rsq_test.append(model.score(X_test, y_test))\n",
    "        print('Calculating model {0} of {1}'.format(i,len(inputs)))\n",
    "        \n",
    "    test_matrix = pd.DataFrame(\n",
    "        {'MAE over training set': mae_train,\n",
    "        'MAE over validation set': mae_test,\n",
    "        'MSE over training set': mse_train,\n",
    "        'MSE over validation set': mse_test,\n",
    "        'R^2 over training set': rsq_train,\n",
    "        'R^2 over validation set': rsq_test},index=inputs)\n",
    "    \n",
    "    return test_matrix"
   ]
  },
  {
   "cell_type": "code",
   "execution_count": 17,
   "metadata": {},
   "outputs": [
    {
     "name": "stdout",
     "output_type": "stream",
     "text": [
      "Calculating model 1 of 6\n",
      "Calculating model 5 of 6\n",
      "Calculating model 10 of 6\n",
      "Calculating model 50 of 6\n",
      "Calculating model 100 of 6\n",
      "Calculating model 1000 of 6\n"
     ]
    },
    {
     "data": {
      "text/html": [
       "<div>\n",
       "<table border=\"1\" class=\"dataframe\">\n",
       "  <thead>\n",
       "    <tr style=\"text-align: right;\">\n",
       "      <th></th>\n",
       "      <th>MAE over training set</th>\n",
       "      <th>MAE over validation set</th>\n",
       "      <th>MSE over training set</th>\n",
       "      <th>MSE over validation set</th>\n",
       "      <th>R^2 over training set</th>\n",
       "      <th>R^2 over validation set</th>\n",
       "    </tr>\n",
       "  </thead>\n",
       "  <tbody>\n",
       "    <tr>\n",
       "      <th>1</th>\n",
       "      <td>1.954695</td>\n",
       "      <td>1.969307</td>\n",
       "      <td>6.123033</td>\n",
       "      <td>6.202236</td>\n",
       "      <td>0.396854</td>\n",
       "      <td>0.388398</td>\n",
       "    </tr>\n",
       "    <tr>\n",
       "      <th>5</th>\n",
       "      <td>1.962926</td>\n",
       "      <td>1.971407</td>\n",
       "      <td>6.148657</td>\n",
       "      <td>6.198547</td>\n",
       "      <td>0.394330</td>\n",
       "      <td>0.388762</td>\n",
       "    </tr>\n",
       "    <tr>\n",
       "      <th>10</th>\n",
       "      <td>1.965983</td>\n",
       "      <td>1.971604</td>\n",
       "      <td>6.164732</td>\n",
       "      <td>6.195373</td>\n",
       "      <td>0.392746</td>\n",
       "      <td>0.389074</td>\n",
       "    </tr>\n",
       "    <tr>\n",
       "      <th>50</th>\n",
       "      <td>1.973429</td>\n",
       "      <td>1.973603</td>\n",
       "      <td>6.210521</td>\n",
       "      <td>6.208242</td>\n",
       "      <td>0.388236</td>\n",
       "      <td>0.387805</td>\n",
       "    </tr>\n",
       "    <tr>\n",
       "      <th>100</th>\n",
       "      <td>1.977198</td>\n",
       "      <td>1.973369</td>\n",
       "      <td>6.231379</td>\n",
       "      <td>6.201538</td>\n",
       "      <td>0.386181</td>\n",
       "      <td>0.388467</td>\n",
       "    </tr>\n",
       "    <tr>\n",
       "      <th>1000</th>\n",
       "      <td>1.995523</td>\n",
       "      <td>1.985789</td>\n",
       "      <td>6.365480</td>\n",
       "      <td>6.303666</td>\n",
       "      <td>0.372972</td>\n",
       "      <td>0.378396</td>\n",
       "    </tr>\n",
       "  </tbody>\n",
       "</table>\n",
       "</div>"
      ],
      "text/plain": [
       "      MAE over training set  MAE over validation set  MSE over training set  \\\n",
       "1                  1.954695                 1.969307               6.123033   \n",
       "5                  1.962926                 1.971407               6.148657   \n",
       "10                 1.965983                 1.971604               6.164732   \n",
       "50                 1.973429                 1.973603               6.210521   \n",
       "100                1.977198                 1.973369               6.231379   \n",
       "1000               1.995523                 1.985789               6.365480   \n",
       "\n",
       "      MSE over validation set  R^2 over training set  R^2 over validation set  \n",
       "1                    6.202236               0.396854                 0.388398  \n",
       "5                    6.198547               0.394330                 0.388762  \n",
       "10                   6.195373               0.392746                 0.389074  \n",
       "50                   6.208242               0.388236                 0.387805  \n",
       "100                  6.201538               0.386181                 0.388467  \n",
       "1000                 6.303666               0.372972                 0.378396  "
      ]
     },
     "execution_count": 17,
     "metadata": {},
     "output_type": "execute_result"
    }
   ],
   "source": [
    "DT_test([1,5,10,50,100,1000], X_train=X_train, X_test=X_validate, y_train=y_train, y_test=y_validate)"
   ]
  },
  {
   "cell_type": "code",
   "execution_count": 18,
   "metadata": {
    "collapsed": true
   },
   "outputs": [],
   "source": [
    "# build model - fit - predict optimal model based on DT_validation output\n",
    "model = DecisionTreeRegressor(min_samples_leaf=1)\n",
    "model.fit(X_train, y_train)\n",
    "y_pred = model.predict(X_validate)\n",
    "y_pred_test = model.predict(X_test)"
   ]
  },
  {
   "cell_type": "code",
   "execution_count": 19,
   "metadata": {},
   "outputs": [
    {
     "name": "stdout",
     "output_type": "stream",
     "text": [
      "MAE over training set:     1.95469498214\n",
      "MAE over validation set:     1.9693508741\n",
      "----------------------------\n",
      "MSE over training set:     6.12303303007\n",
      "MSE over vaildation set:     6.20334910741\n",
      "----------------------------\n",
      "R^2 over training set:     0.396853763168\n",
      "R^2 over validation set:     0.388287966379\n"
     ]
    }
   ],
   "source": [
    "# MAE evaluation\n",
    "y_training_pred = model.predict(X_train)\n",
    "print('MAE over training set:    ', mean_absolute_error(y_training_pred, y_train))\n",
    "print('MAE over validation set:    ', mean_absolute_error(y_pred, y_validate))\n",
    "print('----------------------------')\n",
    "# MSE evaluation\n",
    "print('MSE over training set:    ', mean_squared_error(y_training_pred, y_train))\n",
    "print('MSE over vaildation set:    ', mean_squared_error(y_pred, y_validate))\n",
    "print('----------------------------')\n",
    "# R squared evaluation\n",
    "print('R^2 over training set:    ', model.score(X_train, y_train))\n",
    "print('R^2 over validation set:    ', model.score(X_validate, y_validate))"
   ]
  },
  {
   "cell_type": "code",
   "execution_count": 20,
   "metadata": {},
   "outputs": [
    {
     "data": {
      "text/plain": [
       "[(0.9384037943486625, 'price'),\n",
       " (0.021327092814865556, 'US'),\n",
       " (0.010383023272930633, 'Portugal'),\n",
       " (0.0064010054443208227, 'Spain'),\n",
       " (0.0059497552197459403, 'Argentina'),\n",
       " (0.0045294096717989601, 'Austria'),\n",
       " (0.0029338498863713037, 'Italy'),\n",
       " (0.0023828387154666559, 'Chile'),\n",
       " (0.0023762935238678942, 'Germany'),\n",
       " (0.0017041909301486091, 'Australia'),\n",
       " (0.0014033503192600986, 'France'),\n",
       " (0.0011630227836575287, 'New Zealand'),\n",
       " (0.0010423730689033146, 'South Africa')]"
      ]
     },
     "execution_count": 20,
     "metadata": {},
     "output_type": "execute_result"
    }
   ],
   "source": [
    "# Top 10 features\n",
    "top_tree_weights = sorted(zip(model.feature_importances_, ['price','Argentina','Australia','Austria','Chile',\n",
    "                                        'France','Germany','Italy','New Zealand','Portugal',\n",
    "                                        'South Africa','Spain','US']),reverse=True)\n",
    "top_tree_weights"
   ]
  },
  {
   "cell_type": "code",
   "execution_count": 21,
   "metadata": {
    "collapsed": true
   },
   "outputs": [],
   "source": [
    "df1 = []\n",
    "df2 = []\n",
    "for i,j in top_tree_weights:\n",
    "    df1.append(i)\n",
    "    df2.append(j)\n",
    "top_tree = pd.DataFrame({'Feature':df2,'Importance':df1})\n",
    "#print(top_features)"
   ]
  },
  {
   "cell_type": "code",
   "execution_count": 22,
   "metadata": {},
   "outputs": [
    {
     "data": {
      "image/png": "[encoded data removed]",
      "text/plain": [
       "<matplotlib.figure.Figure at 0x106e4b2e8>"
      ]
     },
     "metadata": {},
     "output_type": "display_data"
    }
   ],
   "source": [
    "sns.barplot(y='Feature',\n",
    "            x='Importance',\n",
    "            data=top_tree)\n",
    "sns.plt.xlim(0,0.1)\n",
    "sns.plt.title('DT Regression Result - Imporance of Features')\n",
    "sns.plt.savefig('tree_weight.png')"
   ]
  },
  {
   "cell_type": "markdown",
   "metadata": {},
   "source": [
    "# Step 3: Linear SVR Regression"
   ]
  },
  {
   "cell_type": "markdown",
   "metadata": {},
   "source": [
    "### Count Vectorizer"
   ]
  },
  {
   "cell_type": "code",
   "execution_count": 23,
   "metadata": {
    "collapsed": true
   },
   "outputs": [],
   "source": [
    "from sklearn.svm import LinearSVR"
   ]
  },
  {
   "cell_type": "code",
   "execution_count": 24,
   "metadata": {
    "collapsed": true
   },
   "outputs": [],
   "source": [
    "# Step 1: Count Vectorization\n",
    "from sklearn.feature_extraction.text import CountVectorizer"
   ]
  },
  {
   "cell_type": "code",
   "execution_count": 25,
   "metadata": {
    "collapsed": true
   },
   "outputs": [],
   "source": [
    "count_vectorizer = CountVectorizer(stop_words='english', min_df=20)\n",
    "X_train = count_vectorizer.fit_transform(train['description'])\n",
    "X_validate = count_vectorizer.transform(validate['description'])\n",
    "X_test = count_vectorizer.transform(test['description'])"
   ]
  },
  {
   "cell_type": "code",
   "execution_count": 26,
   "metadata": {},
   "outputs": [
    {
     "name": "stdout",
     "output_type": "stream",
     "text": [
      "(93494, 5496)\n",
      "<class 'scipy.sparse.csr.csr_matrix'>\n"
     ]
    }
   ],
   "source": [
    "print(X_train.shape)\n",
    "print(type(X_train))"
   ]
  },
  {
   "cell_type": "code",
   "execution_count": 27,
   "metadata": {
    "collapsed": true
   },
   "outputs": [],
   "source": [
    "def SVR_test(inputs, X_train, X_test, y_train, y_test):\n",
    "    '''\n",
    "    function to analyse different parameters for Regression\n",
    "    outputs a matrix with various validation metrics\n",
    "    '''\n",
    "    mae_train = []\n",
    "    mae_test = []\n",
    "    mse_train = []\n",
    "    mse_test = []\n",
    "    rsq_train = []\n",
    "    rsq_test = []\n",
    "    \n",
    "    for i in inputs:\n",
    "        model = LinearSVR(C=i)\n",
    "        model.fit(X_train, y_train)\n",
    "        y_pred = model.predict(X_test)\n",
    "        \n",
    "        y_training_pred = model.predict(X_train)\n",
    "        \n",
    "        mae_train.append(mean_absolute_error(y_training_pred, y_train))\n",
    "        mae_test.append(mean_absolute_error(y_pred, y_test))\n",
    "        mse_train.append(mean_squared_error(y_training_pred, y_train))\n",
    "        mse_test.append(mean_squared_error(y_pred, y_test))\n",
    "        rsq_train.append(model.score(X_train, y_train))\n",
    "        rsq_test.append(model.score(X_test, y_test))\n",
    "        print('Calculating model {0} of {1}'.format(i,len(inputs)))\n",
    "        \n",
    "    test_matrix = pd.DataFrame(\n",
    "        {'MAE over training set': mae_train,\n",
    "        'MAE over validation set': mae_test,\n",
    "        'MSE over training set': mse_train,\n",
    "        'MSE over validation set': mse_test,\n",
    "        'R^2 over training set': rsq_train,\n",
    "        'R^2 over validation set': rsq_test},index=inputs)\n",
    "    \n",
    "    return test_matrix"
   ]
  },
  {
   "cell_type": "code",
   "execution_count": 28,
   "metadata": {},
   "outputs": [
    {
     "name": "stdout",
     "output_type": "stream",
     "text": [
      "Calculating model 0.001 of 7\n",
      "Calculating model 0.01 of 7\n",
      "Calculating model 0.1 of 7\n",
      "Calculating model 1 of 7\n",
      "Calculating model 10 of 7\n",
      "Calculating model 100 of 7\n",
      "Calculating model 1000 of 7\n"
     ]
    },
    {
     "data": {
      "text/html": [
       "<div>\n",
       "<table border=\"1\" class=\"dataframe\">\n",
       "  <thead>\n",
       "    <tr style=\"text-align: right;\">\n",
       "      <th></th>\n",
       "      <th>MAE over training set</th>\n",
       "      <th>MAE over validation set</th>\n",
       "      <th>MSE over training set</th>\n",
       "      <th>MSE over validation set</th>\n",
       "      <th>R^2 over training set</th>\n",
       "      <th>R^2 over validation set</th>\n",
       "    </tr>\n",
       "  </thead>\n",
       "  <tbody>\n",
       "    <tr>\n",
       "      <th>0.001</th>\n",
       "      <td>10.127055</td>\n",
       "      <td>10.134930</td>\n",
       "      <td>155.480293</td>\n",
       "      <td>155.411283</td>\n",
       "      <td>-14.315507</td>\n",
       "      <td>-14.325101</td>\n",
       "    </tr>\n",
       "    <tr>\n",
       "      <th>0.010</th>\n",
       "      <td>1.501081</td>\n",
       "      <td>1.535561</td>\n",
       "      <td>3.873540</td>\n",
       "      <td>3.954619</td>\n",
       "      <td>0.618439</td>\n",
       "      <td>0.610035</td>\n",
       "    </tr>\n",
       "    <tr>\n",
       "      <th>0.100</th>\n",
       "      <td>1.241013</td>\n",
       "      <td>1.327320</td>\n",
       "      <td>2.723410</td>\n",
       "      <td>2.962022</td>\n",
       "      <td>0.731732</td>\n",
       "      <td>0.707915</td>\n",
       "    </tr>\n",
       "    <tr>\n",
       "      <th>1.000</th>\n",
       "      <td>1.222164</td>\n",
       "      <td>1.339239</td>\n",
       "      <td>2.702766</td>\n",
       "      <td>3.034663</td>\n",
       "      <td>0.733765</td>\n",
       "      <td>0.700752</td>\n",
       "    </tr>\n",
       "    <tr>\n",
       "      <th>10.000</th>\n",
       "      <td>1.231904</td>\n",
       "      <td>1.351037</td>\n",
       "      <td>2.734945</td>\n",
       "      <td>3.083486</td>\n",
       "      <td>0.730596</td>\n",
       "      <td>0.695938</td>\n",
       "    </tr>\n",
       "    <tr>\n",
       "      <th>100.000</th>\n",
       "      <td>1.537736</td>\n",
       "      <td>1.601662</td>\n",
       "      <td>3.902558</td>\n",
       "      <td>4.177722</td>\n",
       "      <td>0.615580</td>\n",
       "      <td>0.588035</td>\n",
       "    </tr>\n",
       "    <tr>\n",
       "      <th>1000.000</th>\n",
       "      <td>1.834477</td>\n",
       "      <td>1.895666</td>\n",
       "      <td>5.342446</td>\n",
       "      <td>5.681580</td>\n",
       "      <td>0.473745</td>\n",
       "      <td>0.439740</td>\n",
       "    </tr>\n",
       "  </tbody>\n",
       "</table>\n",
       "</div>"
      ],
      "text/plain": [
       "          MAE over training set  MAE over validation set  \\\n",
       "0.001                 10.127055                10.134930   \n",
       "0.010                  1.501081                 1.535561   \n",
       "0.100                  1.241013                 1.327320   \n",
       "1.000                  1.222164                 1.339239   \n",
       "10.000                 1.231904                 1.351037   \n",
       "100.000                1.537736                 1.601662   \n",
       "1000.000               1.834477                 1.895666   \n",
       "\n",
       "          MSE over training set  MSE over validation set  \\\n",
       "0.001                155.480293               155.411283   \n",
       "0.010                  3.873540                 3.954619   \n",
       "0.100                  2.723410                 2.962022   \n",
       "1.000                  2.702766                 3.034663   \n",
       "10.000                 2.734945                 3.083486   \n",
       "100.000                3.902558                 4.177722   \n",
       "1000.000               5.342446                 5.681580   \n",
       "\n",
       "          R^2 over training set  R^2 over validation set  \n",
       "0.001                -14.315507               -14.325101  \n",
       "0.010                  0.618439                 0.610035  \n",
       "0.100                  0.731732                 0.707915  \n",
       "1.000                  0.733765                 0.700752  \n",
       "10.000                 0.730596                 0.695938  \n",
       "100.000                0.615580                 0.588035  \n",
       "1000.000               0.473745                 0.439740  "
      ]
     },
     "execution_count": 28,
     "metadata": {},
     "output_type": "execute_result"
    }
   ],
   "source": [
    "SVR_test([0.001,0.01,0.1,1,10,100,1000], X_train=X_train, X_test=X_validate, y_train=y_train, y_test=y_validate)"
   ]
  },
  {
   "cell_type": "code",
   "execution_count": 29,
   "metadata": {
    "collapsed": true
   },
   "outputs": [],
   "source": [
    "# build model - fit - predict with optimal sample parameter\n",
    "model = LinearSVR(C=0.1)\n",
    "model.fit(X_train, y_train)\n",
    "y_pred2 = model.predict(X_validate)\n",
    "y_pred_test2 = model.predict(X_test)"
   ]
  },
  {
   "cell_type": "code",
   "execution_count": 30,
   "metadata": {},
   "outputs": [
    {
     "name": "stdout",
     "output_type": "stream",
     "text": [
      "0.731723876047\n",
      "<bound method BaseEstimator.get_params of LinearSVR(C=0.1, dual=True, epsilon=0.0, fit_intercept=True,\n",
      "     intercept_scaling=1.0, loss='epsilon_insensitive', max_iter=1000,\n",
      "     random_state=None, tol=0.0001, verbose=0)>\n"
     ]
    }
   ],
   "source": [
    "print(model.score(X_train, y_train))\n",
    "print(model.get_params)"
   ]
  },
  {
   "cell_type": "code",
   "execution_count": 31,
   "metadata": {},
   "outputs": [
    {
     "name": "stdout",
     "output_type": "stream",
     "text": [
      "MAE over training set:     1.2410055224\n",
      "MAE over validate set:     1.3272567392\n",
      "----------------------------\n",
      "MSE over training set:     2.72349136549\n",
      "MSE over vaildate set:     2.96190613612\n",
      "----------------------------\n",
      "R^2 over training set:     0.731723876047\n",
      "R^2 over validate set:     0.707926541849\n"
     ]
    }
   ],
   "source": [
    "# MAE evaluation\n",
    "y_training_pred = model.predict(X_train)\n",
    "print('MAE over training set:    ', mean_absolute_error(y_training_pred, y_train))\n",
    "print('MAE over validate set:    ', mean_absolute_error(y_pred2, y_validate))\n",
    "print('----------------------------')\n",
    "# MSE evaluation\n",
    "print('MSE over training set:    ', mean_squared_error(y_training_pred, y_train))\n",
    "print('MSE over vaildate set:    ', mean_squared_error(y_pred2, y_validate))\n",
    "print('----------------------------')\n",
    "# R squared evaluation\n",
    "print('R^2 over training set:    ', model.score(X_train, y_train))\n",
    "print('R^2 over validate set:    ', model.score(X_validate, y_validate))"
   ]
  },
  {
   "cell_type": "code",
   "execution_count": 32,
   "metadata": {},
   "outputs": [],
   "source": [
    "top_feature_names = sorted(zip(model.coef_, count_vectorizer.get_feature_names()),reverse=True)[:20]"
   ]
  },
  {
   "cell_type": "code",
   "execution_count": 33,
   "metadata": {
    "collapsed": true
   },
   "outputs": [],
   "source": [
    "df1 = []\n",
    "df2 = []\n",
    "for i,j in top_feature_names:\n",
    "    df1.append(i)\n",
    "    df2.append(j)\n",
    "top_features = pd.DataFrame({'Keyword':df2,'Importance':df1})\n",
    "#print(top_features)"
   ]
  },
  {
   "cell_type": "code",
   "execution_count": 34,
   "metadata": {},
   "outputs": [
    {
     "data": {
      "image/png": "[encoded data removed]",
      "text/plain": [
       "<matplotlib.figure.Figure at 0x11c7b94a8>"
      ]
     },
     "metadata": {},
     "output_type": "display_data"
    }
   ],
   "source": [
    "sns.barplot(y='Keyword',\n",
    "            x='Importance',\n",
    "            data=top_features)\n",
    "sns.plt.xlim(1,1.55)\n",
    "sns.plt.title('Top 20 Wine Description')\n",
    "sns.plt.savefig('description_count.png')"
   ]
  },
  {
   "cell_type": "markdown",
   "metadata": {},
   "source": [
    "# Step 4: Combining Models"
   ]
  },
  {
   "cell_type": "code",
   "execution_count": 35,
   "metadata": {
    "collapsed": true
   },
   "outputs": [],
   "source": [
    "from sklearn.metrics import r2_score"
   ]
  },
  {
   "cell_type": "code",
   "execution_count": 36,
   "metadata": {
    "collapsed": true
   },
   "outputs": [],
   "source": [
    "def r2_max():\n",
    "    r2 = []\n",
    "    for w in np.arange(0,1,0.1):\n",
    "        y_combined = (1-w) * y_pred + w * y_pred2\n",
    "        score = r2_score(y_validate, y_combined)\n",
    "        r2.append((w,score))\n",
    "    return max(r2, key=lambda pair:pair[1])"
   ]
  },
  {
   "cell_type": "code",
   "execution_count": 37,
   "metadata": {
    "collapsed": true
   },
   "outputs": [],
   "source": [
    "w = r2_max()[0]"
   ]
  },
  {
   "cell_type": "code",
   "execution_count": 38,
   "metadata": {
    "collapsed": true
   },
   "outputs": [],
   "source": [
    "y_combined = (1-w) * y_pred + w * y_pred2"
   ]
  },
  {
   "cell_type": "code",
   "execution_count": 39,
   "metadata": {},
   "outputs": [
    {
     "name": "stdout",
     "output_type": "stream",
     "text": [
      "MAE over validate set:     1.28614508799\n"
     ]
    }
   ],
   "source": [
    "# MAE evaluation\n",
    "print('MAE over validate set:    ', mean_absolute_error(y_combined, y_validate))"
   ]
  },
  {
   "cell_type": "code",
   "execution_count": 40,
   "metadata": {},
   "outputs": [
    {
     "data": {
      "text/plain": [
       "0.73277917267791826"
      ]
     },
     "execution_count": 40,
     "metadata": {},
     "output_type": "execute_result"
    }
   ],
   "source": [
    "r2_score(y_validate, y_combined)"
   ]
  },
  {
   "cell_type": "markdown",
   "metadata": {},
   "source": [
    "# Step 5: Predictions over Test Set "
   ]
  },
  {
   "cell_type": "code",
   "execution_count": 41,
   "metadata": {
    "scrolled": true
   },
   "outputs": [
    {
     "name": "stdout",
     "output_type": "stream",
     "text": [
      "MAE over test set:     1.28846104576\n",
      "MSE over test set:     2.70599777424\n",
      "R^2 over test set:     0.732924486535\n"
     ]
    }
   ],
   "source": [
    "y_combined = (1-w) * y_pred_test + w * y_pred_test2\n",
    "# MAE evaluation\n",
    "print('MAE over test set:    ', mean_absolute_error(y_combined, y_test))\n",
    "print('MSE over test set:    ', mean_squared_error(y_combined, y_test))\n",
    "print('R^2 over test set:    ', r2_score(y_test, y_combined))"
   ]
  },
  {
   "cell_type": "code",
   "execution_count": 42,
   "metadata": {},
   "outputs": [
    {
     "data": {
      "image/png": "[encoded data removed]",
      "text/plain": [
       "<matplotlib.figure.Figure at 0x11558df28>"
      ]
     },
     "metadata": {},
     "output_type": "display_data"
    },
    {
     "data": {
      "text/plain": [
       "<matplotlib.figure.Figure at 0x117c5ec88>"
      ]
     },
     "metadata": {},
     "output_type": "display_data"
    }
   ],
   "source": [
    "# Show the joint distribution using kernel density estimation\n",
    "g = sns.jointplot(y_combined, y_test, kind=\"reg\", size=7, space=0)\n",
    "\n",
    "x0, x1 = g.ax_joint.get_xlim()\n",
    "y0, y1 = g.ax_joint.get_ylim()\n",
    "lims = [max(x0, y0), min(x1, y1)]\n",
    "g.ax_joint.plot(lims, lims, ':k')\n",
    "\n",
    "plt.xlabel('y_combined')\n",
    "plt.ylabel('y_test')"
   ]
  },
  {
   "cell_type": "code",
   "execution_count": null,
   "metadata": {},
   "outputs": [],
   "source": []
  },
  {
   "cell_type": "code",
   "execution_count": null,
   "metadata": {},
   "outputs": [],
   "source": []
  },
  {
   "cell_type": "code",
   "execution_count": null,
   "metadata": {
    "collapsed": true
   },
   "outputs": [],
   "source": []
  }
 ],
 "metadata": {
  "kernelspec": {
   "display_name": "Python 3",
   "language": "python",
   "name": "python3"
  },
  "language_info": {
   "codemirror_mode": {
    "name": "ipython",
    "version": 3
   },
   "file_extension": ".py",
   "mimetype": "text/x-python",
   "name": "python",
   "nbconvert_exporter": "python",
   "pygments_lexer": "ipython3",
   "version": "3.6.1"
  }
 },
 "nbformat": 4,
 "nbformat_minor": 2
}
